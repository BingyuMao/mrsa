{
  "nbformat": 4,
  "nbformat_minor": 0,
  "metadata": {
    "colab": {
      "name": "Prepare_env.ipynb",
      "provenance": []
    },
    "kernelspec": {
      "name": "python3",
      "display_name": "Python 3"
    },
    "language_info": {
      "name": "python"
    }
  },
  "cells": [
    {
      "cell_type": "code",
      "metadata": {
        "colab": {
          "base_uri": "https://localhost:8080/"
        },
        "id": "ACBDNdeLIp06",
        "outputId": "ed7cd4fd-fb68-4bb6-9950-7d84491b8a65"
      },
      "source": [
        "from google.colab import drive\n",
        "drive.mount('/content/drive')"
      ],
      "execution_count": null,
      "outputs": [
        {
          "output_type": "stream",
          "text": [
            "Mounted at /content/gdrive\n"
          ],
          "name": "stdout"
        }
      ]
    },
    {
      "cell_type": "code",
      "metadata": {
        "colab": {
          "base_uri": "https://localhost:8080/"
        },
        "id": "XqFLO_WVI2bX",
        "outputId": "b7b24cbf-c1c8-4bc7-e06d-7f1fdb81449e"
      },
      "source": [
        "%cd /content/drive/MyDrive/"
      ],
      "execution_count": null,
      "outputs": [
        {
          "output_type": "stream",
          "text": [
            "/content/gdrive/MyDrive\n"
          ],
          "name": "stdout"
        }
      ]
    },
    {
      "cell_type": "code",
      "metadata": {
        "colab": {
          "base_uri": "https://localhost:8080/"
        },
        "id": "L8_KRTJ5JoqV",
        "outputId": "56e57bd9-5b69-4581-c935-bc2751108418"
      },
      "source": [
        "! git clone https://github.com/ZhiGroup/pytorch_ehr_internal.git --branch ACM-BCB"
      ],
      "execution_count": null,
      "outputs": [
        {
          "output_type": "stream",
          "text": [
            "Cloning into 'pytorch_ehr_internal'...\n",
            "remote: Enumerating objects: 2708, done.\u001b[K\n",
            "remote: Counting objects: 100% (1051/1051), done.\u001b[K\n",
            "remote: Compressing objects: 100% (382/382), done.\u001b[K\n",
            "remote: Total 2708 (delta 718), reused 971 (delta 667), pack-reused 1657\u001b[K\n",
            "Receiving objects: 100% (2708/2708), 330.15 MiB | 13.30 MiB/s, done.\n",
            "Resolving deltas: 100% (1617/1617), done.\n",
            "Checking out files: 100% (984/984), done.\n"
          ],
          "name": "stdout"
        }
      ]
    }
  ]
}