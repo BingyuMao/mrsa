{
  "nbformat": 4,
  "nbformat_minor": 0,
  "metadata": {
    "colab": {
      "name": "DataPrep.ipynb",
      "provenance": [],
      "collapsed_sections": []
    },
    "kernelspec": {
      "name": "python3",
      "display_name": "Python 3"
    },
    "language_info": {
      "name": "python"
    }
  },
  "cells": [
    {
      "cell_type": "code",
      "metadata": {
        "id": "6Q8gC9hQK4Jc"
      },
      "source": [
        "### lrasmy@Zhilab last revised August 1 2022   ##\n",
        "###############################################"
      ],
      "execution_count": null,
      "outputs": []
    },
    {
      "cell_type": "markdown",
      "metadata": {
        "id": "7wptIUNEYUku"
      },
      "source": [
        "## Download the required data \n",
        "\n",
        "- Make sure to mount your drive using the mount drive icon on the left pane or run the few lines below \n",
        "\n"
      ]
    },
    {
      "cell_type": "code",
      "metadata": {
        "id": "Lm4TFiDHOOTV",
        "colab": {
          "base_uri": "https://localhost:8080/"
        },
        "outputId": "61faa2d9-2aab-4fe7-a53e-a899f89f6ba8"
      },
      "source": [
        "### Mount your google drive ###\n",
        "from google.colab import drive\n",
        "drive.mount('/content/drive')"
      ],
      "execution_count": 1,
      "outputs": [
        {
          "output_type": "stream",
          "name": "stdout",
          "text": [
            "Mounted at /content/drive\n"
          ]
        }
      ]
    },
    {
      "cell_type": "markdown",
      "metadata": {
        "id": "YSBv9D1BZl7-"
      },
      "source": [
        "*   The data extracted will be in data/extracted_data\n",
        "\n",
        "\n"
      ]
    },
    {
      "cell_type": "markdown",
      "metadata": {
        "id": "1BLnwWxcbFby"
      },
      "source": [
        "### Import the required packages\n"
      ]
    },
    {
      "cell_type": "code",
      "metadata": {
        "id": "_02U8L2dbKX_"
      },
      "source": [
        "import numpy as np\n",
        "import pandas as pd\n",
        "import sys\n",
        "import os\n",
        "\n",
        "\n"
      ],
      "execution_count": 2,
      "outputs": []
    },
    {
      "cell_type": "code",
      "source": [
        "!unzip /content/drive/MyDrive/pytorch_ehr/Pytorch_EHR_Tutorial/Data_Prep/data/extracted_data -d /content/drive/MyDrive/pytorch_ehr/Pytorch_EHR_Tutorial/Data_Prep/data"
      ],
      "metadata": {
        "colab": {
          "base_uri": "https://localhost:8080/"
        },
        "id": "Mh8uE4IyREvx",
        "outputId": "41310555-d647-4316-e5b4-b0ece5585a05"
      },
      "execution_count": 9,
      "outputs": [
        {
          "output_type": "stream",
          "name": "stdout",
          "text": [
            "Archive:  /content/drive/MyDrive/pytorch_ehr/Pytorch_EHR_Tutorial/Data_Prep/data/extracted_data.zip\n",
            "  inflating: /content/drive/MyDrive/pytorch_ehr/Pytorch_EHR_Tutorial/Data_Prep/data/extracted_data/dhf_codes_desc.csv  \n",
            "  inflating: /content/drive/MyDrive/pytorch_ehr/Pytorch_EHR_Tutorial/Data_Prep/data/extracted_data/dhf_easy_data_v1_dmd.csv  \n",
            "  inflating: /content/drive/MyDrive/pytorch_ehr/Pytorch_EHR_Tutorial/Data_Prep/data/extracted_data/dhf_easy_label_v1_e.csv  \n",
            "  inflating: /content/drive/MyDrive/pytorch_ehr/Pytorch_EHR_Tutorial/Data_Prep/data/extracted_data/dhf_hard_data_v1_dmd.csv  \n",
            "  inflating: /content/drive/MyDrive/pytorch_ehr/Pytorch_EHR_Tutorial/Data_Prep/data/extracted_data/dhf_hard_label_v1.csv  \n"
          ]
        }
      ]
    },
    {
      "cell_type": "code",
      "source": [
        "sys.path.insert(0,\"/content/drive/MyDrive/pytorch_ehr/Pytorch_EHR_Tutorial/Data_Prep/\")\n",
        "data_path='/content/drive/MyDrive/pytorch_ehr/Pytorch_EHR_Tutorial/Data_Prep/data/extracted_data/'"
      ],
      "metadata": {
        "id": "3m54FzdmRHgt"
      },
      "execution_count": 10,
      "outputs": []
    },
    {
      "cell_type": "code",
      "source": [
        "pd.read_csv(data_path+'dhf_hard_label_v1.csv', sep='\\t')"
      ],
      "metadata": {
        "id": "FUTKEwOY8Ikq",
        "outputId": "ff559126-f8db-4256-fde2-23d6326c4e2e",
        "colab": {
          "base_uri": "https://localhost:8080/",
          "height": 424
        }
      },
      "execution_count": 11,
      "outputs": [
        {
          "output_type": "execute_result",
          "data": {
            "text/plain": [
              "                                    patient  label      tte\n",
              "0      0001054e-77c4-4e09-8310-7e5b1a579d8a      0  11907.0\n",
              "1      0005ac2e-1174-4e89-8422-7783e5693d31      0   1934.0\n",
              "2      000c35f5-35b4-4b7d-84f3-b022e01f7462      0  15483.0\n",
              "3      000c4fd7-1fcf-4172-a59f-87553c0558a2      0  14315.0\n",
              "4      001949a2-f330-42c0-84d1-a5de7bf0e992      0   5572.0\n",
              "...                                     ...    ...      ...\n",
              "11735  ffe889aa-6020-4fb4-90ae-2ceb47042783      0  14469.0\n",
              "11736  ffea6dfe-e087-4f7d-a19e-b795ceb7cbac      0  20727.0\n",
              "11737  ffee4055-f5e4-49a5-958b-63a11e518025      0  19887.0\n",
              "11738  fff8f5b5-417c-4b4a-bdd4-58e2f9cca750      1   2319.0\n",
              "11739  fff9f7cc-90a2-422c-9ba2-8c209416ccd5      0  10171.0\n",
              "\n",
              "[11740 rows x 3 columns]"
            ],
            "text/html": [
              "\n",
              "  <div id=\"df-8b386da2-d95f-4176-ae9e-09ea8dd4691b\">\n",
              "    <div class=\"colab-df-container\">\n",
              "      <div>\n",
              "<style scoped>\n",
              "    .dataframe tbody tr th:only-of-type {\n",
              "        vertical-align: middle;\n",
              "    }\n",
              "\n",
              "    .dataframe tbody tr th {\n",
              "        vertical-align: top;\n",
              "    }\n",
              "\n",
              "    .dataframe thead th {\n",
              "        text-align: right;\n",
              "    }\n",
              "</style>\n",
              "<table border=\"1\" class=\"dataframe\">\n",
              "  <thead>\n",
              "    <tr style=\"text-align: right;\">\n",
              "      <th></th>\n",
              "      <th>patient</th>\n",
              "      <th>label</th>\n",
              "      <th>tte</th>\n",
              "    </tr>\n",
              "  </thead>\n",
              "  <tbody>\n",
              "    <tr>\n",
              "      <th>0</th>\n",
              "      <td>0001054e-77c4-4e09-8310-7e5b1a579d8a</td>\n",
              "      <td>0</td>\n",
              "      <td>11907.0</td>\n",
              "    </tr>\n",
              "    <tr>\n",
              "      <th>1</th>\n",
              "      <td>0005ac2e-1174-4e89-8422-7783e5693d31</td>\n",
              "      <td>0</td>\n",
              "      <td>1934.0</td>\n",
              "    </tr>\n",
              "    <tr>\n",
              "      <th>2</th>\n",
              "      <td>000c35f5-35b4-4b7d-84f3-b022e01f7462</td>\n",
              "      <td>0</td>\n",
              "      <td>15483.0</td>\n",
              "    </tr>\n",
              "    <tr>\n",
              "      <th>3</th>\n",
              "      <td>000c4fd7-1fcf-4172-a59f-87553c0558a2</td>\n",
              "      <td>0</td>\n",
              "      <td>14315.0</td>\n",
              "    </tr>\n",
              "    <tr>\n",
              "      <th>4</th>\n",
              "      <td>001949a2-f330-42c0-84d1-a5de7bf0e992</td>\n",
              "      <td>0</td>\n",
              "      <td>5572.0</td>\n",
              "    </tr>\n",
              "    <tr>\n",
              "      <th>...</th>\n",
              "      <td>...</td>\n",
              "      <td>...</td>\n",
              "      <td>...</td>\n",
              "    </tr>\n",
              "    <tr>\n",
              "      <th>11735</th>\n",
              "      <td>ffe889aa-6020-4fb4-90ae-2ceb47042783</td>\n",
              "      <td>0</td>\n",
              "      <td>14469.0</td>\n",
              "    </tr>\n",
              "    <tr>\n",
              "      <th>11736</th>\n",
              "      <td>ffea6dfe-e087-4f7d-a19e-b795ceb7cbac</td>\n",
              "      <td>0</td>\n",
              "      <td>20727.0</td>\n",
              "    </tr>\n",
              "    <tr>\n",
              "      <th>11737</th>\n",
              "      <td>ffee4055-f5e4-49a5-958b-63a11e518025</td>\n",
              "      <td>0</td>\n",
              "      <td>19887.0</td>\n",
              "    </tr>\n",
              "    <tr>\n",
              "      <th>11738</th>\n",
              "      <td>fff8f5b5-417c-4b4a-bdd4-58e2f9cca750</td>\n",
              "      <td>1</td>\n",
              "      <td>2319.0</td>\n",
              "    </tr>\n",
              "    <tr>\n",
              "      <th>11739</th>\n",
              "      <td>fff9f7cc-90a2-422c-9ba2-8c209416ccd5</td>\n",
              "      <td>0</td>\n",
              "      <td>10171.0</td>\n",
              "    </tr>\n",
              "  </tbody>\n",
              "</table>\n",
              "<p>11740 rows × 3 columns</p>\n",
              "</div>\n",
              "      <button class=\"colab-df-convert\" onclick=\"convertToInteractive('df-8b386da2-d95f-4176-ae9e-09ea8dd4691b')\"\n",
              "              title=\"Convert this dataframe to an interactive table.\"\n",
              "              style=\"display:none;\">\n",
              "        \n",
              "  <svg xmlns=\"http://www.w3.org/2000/svg\" height=\"24px\"viewBox=\"0 0 24 24\"\n",
              "       width=\"24px\">\n",
              "    <path d=\"M0 0h24v24H0V0z\" fill=\"none\"/>\n",
              "    <path d=\"M18.56 5.44l.94 2.06.94-2.06 2.06-.94-2.06-.94-.94-2.06-.94 2.06-2.06.94zm-11 1L8.5 8.5l.94-2.06 2.06-.94-2.06-.94L8.5 2.5l-.94 2.06-2.06.94zm10 10l.94 2.06.94-2.06 2.06-.94-2.06-.94-.94-2.06-.94 2.06-2.06.94z\"/><path d=\"M17.41 7.96l-1.37-1.37c-.4-.4-.92-.59-1.43-.59-.52 0-1.04.2-1.43.59L10.3 9.45l-7.72 7.72c-.78.78-.78 2.05 0 2.83L4 21.41c.39.39.9.59 1.41.59.51 0 1.02-.2 1.41-.59l7.78-7.78 2.81-2.81c.8-.78.8-2.07 0-2.86zM5.41 20L4 18.59l7.72-7.72 1.47 1.35L5.41 20z\"/>\n",
              "  </svg>\n",
              "      </button>\n",
              "      \n",
              "  <style>\n",
              "    .colab-df-container {\n",
              "      display:flex;\n",
              "      flex-wrap:wrap;\n",
              "      gap: 12px;\n",
              "    }\n",
              "\n",
              "    .colab-df-convert {\n",
              "      background-color: #E8F0FE;\n",
              "      border: none;\n",
              "      border-radius: 50%;\n",
              "      cursor: pointer;\n",
              "      display: none;\n",
              "      fill: #1967D2;\n",
              "      height: 32px;\n",
              "      padding: 0 0 0 0;\n",
              "      width: 32px;\n",
              "    }\n",
              "\n",
              "    .colab-df-convert:hover {\n",
              "      background-color: #E2EBFA;\n",
              "      box-shadow: 0px 1px 2px rgba(60, 64, 67, 0.3), 0px 1px 3px 1px rgba(60, 64, 67, 0.15);\n",
              "      fill: #174EA6;\n",
              "    }\n",
              "\n",
              "    [theme=dark] .colab-df-convert {\n",
              "      background-color: #3B4455;\n",
              "      fill: #D2E3FC;\n",
              "    }\n",
              "\n",
              "    [theme=dark] .colab-df-convert:hover {\n",
              "      background-color: #434B5C;\n",
              "      box-shadow: 0px 1px 3px 1px rgba(0, 0, 0, 0.15);\n",
              "      filter: drop-shadow(0px 1px 2px rgba(0, 0, 0, 0.3));\n",
              "      fill: #FFFFFF;\n",
              "    }\n",
              "  </style>\n",
              "\n",
              "      <script>\n",
              "        const buttonEl =\n",
              "          document.querySelector('#df-8b386da2-d95f-4176-ae9e-09ea8dd4691b button.colab-df-convert');\n",
              "        buttonEl.style.display =\n",
              "          google.colab.kernel.accessAllowed ? 'block' : 'none';\n",
              "\n",
              "        async function convertToInteractive(key) {\n",
              "          const element = document.querySelector('#df-8b386da2-d95f-4176-ae9e-09ea8dd4691b');\n",
              "          const dataTable =\n",
              "            await google.colab.kernel.invokeFunction('convertToInteractive',\n",
              "                                                     [key], {});\n",
              "          if (!dataTable) return;\n",
              "\n",
              "          const docLinkHtml = 'Like what you see? Visit the ' +\n",
              "            '<a target=\"_blank\" href=https://colab.research.google.com/notebooks/data_table.ipynb>data table notebook</a>'\n",
              "            + ' to learn more about interactive tables.';\n",
              "          element.innerHTML = '';\n",
              "          dataTable['output_type'] = 'display_data';\n",
              "          await google.colab.output.renderOutput(dataTable, element);\n",
              "          const docLink = document.createElement('div');\n",
              "          docLink.innerHTML = docLinkHtml;\n",
              "          element.appendChild(docLink);\n",
              "        }\n",
              "      </script>\n",
              "    </div>\n",
              "  </div>\n",
              "  "
            ]
          },
          "metadata": {},
          "execution_count": 11
        }
      ]
    },
    {
      "cell_type": "code",
      "source": [
        "pd.read_csv(data_path+'dhf_hard_data_v1_dmd.csv', sep='\\t')"
      ],
      "metadata": {
        "id": "AVXPN5BY-Mhj",
        "outputId": "f1f7d014-8001-4a63-f872-e5cd893be733",
        "colab": {
          "base_uri": "https://localhost:8080/",
          "height": 424
        }
      },
      "execution_count": 12,
      "outputs": [
        {
          "output_type": "execute_result",
          "data": {
            "text/plain": [
              "                                     patient          ecode     disc_dt\n",
              "0       0001054e-77c4-4e09-8310-7e5b1a579d8a     D_15777000  1985-10-08\n",
              "1       0001054e-77c4-4e09-8310-7e5b1a579d8a    D_162864005  1976-12-14\n",
              "2       0001054e-77c4-4e09-8310-7e5b1a579d8a     D_44054006  1987-10-13\n",
              "3       0001054e-77c4-4e09-8310-7e5b1a579d8a           a_31  1976-12-14\n",
              "4       0001054e-77c4-4e09-8310-7e5b1a579d8a           a_40  1985-10-08\n",
              "...                                      ...            ...         ...\n",
              "613637  fff9f7cc-90a2-422c-9ba2-8c209416ccd5  r_nonhispanic  1989-07-04\n",
              "613638  fff9f7cc-90a2-422c-9ba2-8c209416ccd5  r_nonhispanic  1992-07-07\n",
              "613639  fff9f7cc-90a2-422c-9ba2-8c209416ccd5        r_white  1988-02-23\n",
              "613640  fff9f7cc-90a2-422c-9ba2-8c209416ccd5        r_white  1989-07-04\n",
              "613641  fff9f7cc-90a2-422c-9ba2-8c209416ccd5        r_white  1992-07-07\n",
              "\n",
              "[613642 rows x 3 columns]"
            ],
            "text/html": [
              "\n",
              "  <div id=\"df-44363a9e-ea17-43aa-856d-8d012690e908\">\n",
              "    <div class=\"colab-df-container\">\n",
              "      <div>\n",
              "<style scoped>\n",
              "    .dataframe tbody tr th:only-of-type {\n",
              "        vertical-align: middle;\n",
              "    }\n",
              "\n",
              "    .dataframe tbody tr th {\n",
              "        vertical-align: top;\n",
              "    }\n",
              "\n",
              "    .dataframe thead th {\n",
              "        text-align: right;\n",
              "    }\n",
              "</style>\n",
              "<table border=\"1\" class=\"dataframe\">\n",
              "  <thead>\n",
              "    <tr style=\"text-align: right;\">\n",
              "      <th></th>\n",
              "      <th>patient</th>\n",
              "      <th>ecode</th>\n",
              "      <th>disc_dt</th>\n",
              "    </tr>\n",
              "  </thead>\n",
              "  <tbody>\n",
              "    <tr>\n",
              "      <th>0</th>\n",
              "      <td>0001054e-77c4-4e09-8310-7e5b1a579d8a</td>\n",
              "      <td>D_15777000</td>\n",
              "      <td>1985-10-08</td>\n",
              "    </tr>\n",
              "    <tr>\n",
              "      <th>1</th>\n",
              "      <td>0001054e-77c4-4e09-8310-7e5b1a579d8a</td>\n",
              "      <td>D_162864005</td>\n",
              "      <td>1976-12-14</td>\n",
              "    </tr>\n",
              "    <tr>\n",
              "      <th>2</th>\n",
              "      <td>0001054e-77c4-4e09-8310-7e5b1a579d8a</td>\n",
              "      <td>D_44054006</td>\n",
              "      <td>1987-10-13</td>\n",
              "    </tr>\n",
              "    <tr>\n",
              "      <th>3</th>\n",
              "      <td>0001054e-77c4-4e09-8310-7e5b1a579d8a</td>\n",
              "      <td>a_31</td>\n",
              "      <td>1976-12-14</td>\n",
              "    </tr>\n",
              "    <tr>\n",
              "      <th>4</th>\n",
              "      <td>0001054e-77c4-4e09-8310-7e5b1a579d8a</td>\n",
              "      <td>a_40</td>\n",
              "      <td>1985-10-08</td>\n",
              "    </tr>\n",
              "    <tr>\n",
              "      <th>...</th>\n",
              "      <td>...</td>\n",
              "      <td>...</td>\n",
              "      <td>...</td>\n",
              "    </tr>\n",
              "    <tr>\n",
              "      <th>613637</th>\n",
              "      <td>fff9f7cc-90a2-422c-9ba2-8c209416ccd5</td>\n",
              "      <td>r_nonhispanic</td>\n",
              "      <td>1989-07-04</td>\n",
              "    </tr>\n",
              "    <tr>\n",
              "      <th>613638</th>\n",
              "      <td>fff9f7cc-90a2-422c-9ba2-8c209416ccd5</td>\n",
              "      <td>r_nonhispanic</td>\n",
              "      <td>1992-07-07</td>\n",
              "    </tr>\n",
              "    <tr>\n",
              "      <th>613639</th>\n",
              "      <td>fff9f7cc-90a2-422c-9ba2-8c209416ccd5</td>\n",
              "      <td>r_white</td>\n",
              "      <td>1988-02-23</td>\n",
              "    </tr>\n",
              "    <tr>\n",
              "      <th>613640</th>\n",
              "      <td>fff9f7cc-90a2-422c-9ba2-8c209416ccd5</td>\n",
              "      <td>r_white</td>\n",
              "      <td>1989-07-04</td>\n",
              "    </tr>\n",
              "    <tr>\n",
              "      <th>613641</th>\n",
              "      <td>fff9f7cc-90a2-422c-9ba2-8c209416ccd5</td>\n",
              "      <td>r_white</td>\n",
              "      <td>1992-07-07</td>\n",
              "    </tr>\n",
              "  </tbody>\n",
              "</table>\n",
              "<p>613642 rows × 3 columns</p>\n",
              "</div>\n",
              "      <button class=\"colab-df-convert\" onclick=\"convertToInteractive('df-44363a9e-ea17-43aa-856d-8d012690e908')\"\n",
              "              title=\"Convert this dataframe to an interactive table.\"\n",
              "              style=\"display:none;\">\n",
              "        \n",
              "  <svg xmlns=\"http://www.w3.org/2000/svg\" height=\"24px\"viewBox=\"0 0 24 24\"\n",
              "       width=\"24px\">\n",
              "    <path d=\"M0 0h24v24H0V0z\" fill=\"none\"/>\n",
              "    <path d=\"M18.56 5.44l.94 2.06.94-2.06 2.06-.94-2.06-.94-.94-2.06-.94 2.06-2.06.94zm-11 1L8.5 8.5l.94-2.06 2.06-.94-2.06-.94L8.5 2.5l-.94 2.06-2.06.94zm10 10l.94 2.06.94-2.06 2.06-.94-2.06-.94-.94-2.06-.94 2.06-2.06.94z\"/><path d=\"M17.41 7.96l-1.37-1.37c-.4-.4-.92-.59-1.43-.59-.52 0-1.04.2-1.43.59L10.3 9.45l-7.72 7.72c-.78.78-.78 2.05 0 2.83L4 21.41c.39.39.9.59 1.41.59.51 0 1.02-.2 1.41-.59l7.78-7.78 2.81-2.81c.8-.78.8-2.07 0-2.86zM5.41 20L4 18.59l7.72-7.72 1.47 1.35L5.41 20z\"/>\n",
              "  </svg>\n",
              "      </button>\n",
              "      \n",
              "  <style>\n",
              "    .colab-df-container {\n",
              "      display:flex;\n",
              "      flex-wrap:wrap;\n",
              "      gap: 12px;\n",
              "    }\n",
              "\n",
              "    .colab-df-convert {\n",
              "      background-color: #E8F0FE;\n",
              "      border: none;\n",
              "      border-radius: 50%;\n",
              "      cursor: pointer;\n",
              "      display: none;\n",
              "      fill: #1967D2;\n",
              "      height: 32px;\n",
              "      padding: 0 0 0 0;\n",
              "      width: 32px;\n",
              "    }\n",
              "\n",
              "    .colab-df-convert:hover {\n",
              "      background-color: #E2EBFA;\n",
              "      box-shadow: 0px 1px 2px rgba(60, 64, 67, 0.3), 0px 1px 3px 1px rgba(60, 64, 67, 0.15);\n",
              "      fill: #174EA6;\n",
              "    }\n",
              "\n",
              "    [theme=dark] .colab-df-convert {\n",
              "      background-color: #3B4455;\n",
              "      fill: #D2E3FC;\n",
              "    }\n",
              "\n",
              "    [theme=dark] .colab-df-convert:hover {\n",
              "      background-color: #434B5C;\n",
              "      box-shadow: 0px 1px 3px 1px rgba(0, 0, 0, 0.15);\n",
              "      filter: drop-shadow(0px 1px 2px rgba(0, 0, 0, 0.3));\n",
              "      fill: #FFFFFF;\n",
              "    }\n",
              "  </style>\n",
              "\n",
              "      <script>\n",
              "        const buttonEl =\n",
              "          document.querySelector('#df-44363a9e-ea17-43aa-856d-8d012690e908 button.colab-df-convert');\n",
              "        buttonEl.style.display =\n",
              "          google.colab.kernel.accessAllowed ? 'block' : 'none';\n",
              "\n",
              "        async function convertToInteractive(key) {\n",
              "          const element = document.querySelector('#df-44363a9e-ea17-43aa-856d-8d012690e908');\n",
              "          const dataTable =\n",
              "            await google.colab.kernel.invokeFunction('convertToInteractive',\n",
              "                                                     [key], {});\n",
              "          if (!dataTable) return;\n",
              "\n",
              "          const docLinkHtml = 'Like what you see? Visit the ' +\n",
              "            '<a target=\"_blank\" href=https://colab.research.google.com/notebooks/data_table.ipynb>data table notebook</a>'\n",
              "            + ' to learn more about interactive tables.';\n",
              "          element.innerHTML = '';\n",
              "          dataTable['output_type'] = 'display_data';\n",
              "          await google.colab.output.renderOutput(dataTable, element);\n",
              "          const docLink = document.createElement('div');\n",
              "          docLink.innerHTML = docLinkHtml;\n",
              "          element.appendChild(docLink);\n",
              "        }\n",
              "      </script>\n",
              "    </div>\n",
              "  </div>\n",
              "  "
            ]
          },
          "metadata": {},
          "execution_count": 12
        }
      ]
    },
    {
      "cell_type": "markdown",
      "metadata": {
        "id": "8zshzKlPm49v"
      },
      "source": [
        "## Proprocess data into pickled list\n",
        "\n"
      ]
    },
    {
      "cell_type": "code",
      "metadata": {
        "id": "rSnMOuM4XSOS"
      },
      "source": [
        "sys.path.insert(0,\"/content/drive/MyDrive/pytorch_ehr/Pytorch_EHR_Tutorial/Data_Prep/\")\n",
        "from preprocess_outcomes  import dump_split_process_data"
      ],
      "execution_count": 13,
      "outputs": []
    },
    {
      "cell_type": "code",
      "metadata": {
        "id": "4jiJPrdCscs4",
        "colab": {
          "base_uri": "https://localhost:8080/"
        },
        "outputId": "3ca74dad-5c57-4225-a563-42672f359952"
      },
      "source": [
        "output_proc='/content/drive/MyDrive/pytorch_ehr/Pytorch_EHR_Tutorial/Data_Prep/data/processed_data'\n",
        "if not os.path.exists(output_proc):\n",
        "        os.makedirs(output_proc)\n",
        "\n",
        "dump_split_process_data(data_path+'dhf_easy_data_v1_dmd.csv', data_path+'dhf_easy_label_v1_e.csv' , 'NA' ,output_proc+'/dhf_easy_dmd_v1' , 'NA' )"
      ],
      "execution_count": 14,
      "outputs": [
        {
          "output_type": "stream",
          "name": "stdout",
          "text": [
            "loading data\n",
            "loaded data for:  12119\n",
            "loading labels\n",
            "loaded labels for:  12119  after primary cleaning  12119\n",
            "Mortality Case counts:  4581\n",
            "LOS>7 :  12119\n",
            "new types dictionary\n",
            "processed 1000 pts\n",
            "processed 2000 pts\n",
            "processed 3000 pts\n",
            "processed 4000 pts\n",
            "processed 5000 pts\n",
            "processed 6000 pts\n",
            "processed 7000 pts\n",
            "processed 8000 pts\n",
            "processed 9000 pts\n",
            "processed 10000 pts\n",
            "processed 11000 pts\n",
            "processed 12000 pts\n",
            "Reparsing\n",
            "Splitting\n",
            "random split\n"
          ]
        }
      ]
    },
    {
      "cell_type": "code",
      "source": [
        "dump_split_process_data(data_path+'dhf_hard_data_v1_dmd.csv', data_path+'dhf_hard_label_v1.csv' , output_proc+'/dhf_easy_dmd_v1.types' ,output_proc+'/dhf_hard_dmd_v1' , output_proc+'/dhf_easy_dmd_v1.pts' )"
      ],
      "metadata": {
        "id": "gobS77JVAYgX",
        "outputId": "a9a54917-95a6-444b-8f56-5e8a99ffb6d2",
        "colab": {
          "base_uri": "https://localhost:8080/"
        }
      },
      "execution_count": 15,
      "outputs": [
        {
          "output_type": "stream",
          "name": "stdout",
          "text": [
            "loading data\n",
            "loaded data for:  11740\n",
            "loading labels\n",
            "loaded labels for:  11740  after primary cleaning  11740\n",
            "Mortality Case counts:  4405\n",
            "LOS>7 :  11717\n",
            "types dictionary loaded\n",
            "processed 1000 pts\n",
            "processed 2000 pts\n",
            "processed 3000 pts\n",
            "processed 4000 pts\n",
            "processed 5000 pts\n",
            "processed 6000 pts\n",
            "processed 7000 pts\n",
            "processed 8000 pts\n",
            "processed 9000 pts\n",
            "processed 10000 pts\n",
            "processed 11000 pts\n",
            "Reparsing\n",
            "Splitting\n",
            "loading previous splits\n"
          ]
        }
      ]
    },
    {
      "cell_type": "markdown",
      "source": [
        "### Processed Data Check"
      ],
      "metadata": {
        "id": "J8eIlnCtS2r1"
      }
    },
    {
      "cell_type": "code",
      "source": [
        "import pickle\n",
        "\n",
        "valid_easy_sl= pickle.load(open(output_proc+'/dhf_easy_dmd_v1'+'.combined.valid', 'rb'), encoding='bytes')\n",
        "valid_hard_sl= pickle.load(open(output_proc+'/dhf_hard_dmd_v1'+'.combined.valid', 'rb'), encoding='bytes')\n",
        "\n",
        "# types dictionary\n",
        "types_d_easy=pickle.load(open(output_proc+'/dhf_easy_dmd_v1'+'.types', 'rb'), encoding='bytes')\n",
        "types_d_hard=pickle.load(open(output_proc+'/dhf_hard_dmd_v1'+'.types', 'rb'), encoding='bytes')\n",
        "\n",
        "input_size_e=[max(types_d_easy.values())+1]\n",
        "input_size_h=[max(types_d_hard.values())+1]\n",
        "\n",
        "print (len(valid_easy_sl),len(valid_hard_sl))\n",
        "print(input_size_e,input_size_h)"
      ],
      "metadata": {
        "colab": {
          "base_uri": "https://localhost:8080/"
        },
        "id": "nZ-AfBNeS7Lc",
        "outputId": "31f62174-8dd4-4bfe-88bc-914af98f0071"
      },
      "execution_count": 16,
      "outputs": [
        {
          "output_type": "stream",
          "name": "stdout",
          "text": [
            "1211 1158\n",
            "[432] [432]\n"
          ]
        }
      ]
    },
    {
      "cell_type": "code",
      "source": [
        "valid_easy_sl[0]"
      ],
      "metadata": {
        "colab": {
          "base_uri": "https://localhost:8080/"
        },
        "id": "1RuFy9ZUVSlI",
        "outputId": "0537279b-0c6d-4245-90a7-1bc3be823b30"
      },
      "execution_count": 23,
      "outputs": [
        {
          "output_type": "execute_result",
          "data": {
            "text/plain": [
              "['9bc0345d-855a-4e04-82a1-accffd07fc05',\n",
              " [0.0, 135.0],\n",
              " [[[0], [146, 48, 69, 15, 97]],\n",
              "  [[371], [146, 69, 97, 16, 48]],\n",
              "  [[312], [146, 97, 69, 17, 48]],\n",
              "  [[59], [17, 69, 97, 48, 146]],\n",
              "  [[371], [18, 48, 97, 69, 146]],\n",
              "  [[371], [97, 69, 19, 146, 48]],\n",
              "  [[371], [69, 146, 97, 20, 48]],\n",
              "  [[371], [21, 146, 48, 69, 97, 76]],\n",
              "  [[371], [22, 69, 48, 146, 97]],\n",
              "  [[371], [48, 23, 97, 69, 146]],\n",
              "  [[371], [24, 69, 48, 146, 97]],\n",
              "  [[371], [48, 25, 97, 146, 69]],\n",
              "  [[371], [97, 146, 26, 69, 48]],\n",
              "  [[14], [26, 97, 48, 69, 146]],\n",
              "  [[357], [29, 146, 69, 48, 97]],\n",
              "  [[371], [30, 97, 146, 48, 69]],\n",
              "  [[371], [69, 146, 48, 31, 97]],\n",
              "  [[371], [69, 32, 146, 97, 48]],\n",
              "  [[371], [48, 33, 146, 97, 69]],\n",
              "  [[371], [48, 69, 97, 146, 34]],\n",
              "  [[371], [97, 146, 48, 69, 35]],\n",
              "  [[371], [97, 146, 69, 48, 36]],\n",
              "  [[70], [97, 146, 48, 36, 69]],\n",
              "  [[301], [146, 48, 97, 69, 72]],\n",
              "  [[371], [69, 97, 146, 37, 48]],\n",
              "  [[371], [146, 43, 48, 97, 69]],\n",
              "  [[371], [69, 146, 97, 73, 48]],\n",
              "  [[371], [97, 48, 44, 69, 146]],\n",
              "  [[371], [97, 74, 48, 69, 146]],\n",
              "  [[371], [97, 69, 146, 75, 48]],\n",
              "  [[371], [69, 97, 146, 77, 48]],\n",
              "  [[371], [97, 69, 146, 48, 78]],\n",
              "  [[371], [45, 79, 97, 69, 81, 48, 146]],\n",
              "  [[371], [146, 69, 80, 97, 48]],\n",
              "  [[2198], [55, 48, 97, 40, 146]],\n",
              "  [[1068], [146, 48, 97, 58, 225]],\n",
              "  [[829], [146, 48, 97, 156, 60]],\n",
              "  [[4], [157, 48, 146, 61, 97, 214]],\n",
              "  [[297], [39, 54, 146, 97, 48, 61]],\n",
              "  [[427], [97, 62, 42, 48, 146]],\n",
              "  [[2649], [97, 170, 100, 48, 146]]]]"
            ]
          },
          "metadata": {},
          "execution_count": 23
        }
      ]
    },
    {
      "cell_type": "code",
      "source": [
        "for x in valid_hard_sl:\n",
        "  if x[0]=='9bc0345d-855a-4e04-82a1-accffd07fc05': y=x\n",
        "\n",
        "y"
      ],
      "metadata": {
        "colab": {
          "base_uri": "https://localhost:8080/"
        },
        "id": "VTbAQZZ7Vigt",
        "outputId": "72c659e8-6bac-491c-df52-c88128fcda36"
      },
      "execution_count": 24,
      "outputs": [
        {
          "output_type": "execute_result",
          "data": {
            "text/plain": [
              "['9bc0345d-855a-4e04-82a1-accffd07fc05',\n",
              " [0.0, 16089.0],\n",
              " [[[0], [100, 170, 48, 97, 146]]]]"
            ]
          },
          "metadata": {},
          "execution_count": 24
        }
      ]
    },
    {
      "cell_type": "code",
      "source": [
        "valid_hard_sl[0]"
      ],
      "metadata": {
        "colab": {
          "base_uri": "https://localhost:8080/"
        },
        "id": "sjcOYzcfUEZO",
        "outputId": "bf940000-10c7-444b-e1b1-0e92755c5282"
      },
      "execution_count": 17,
      "outputs": [
        {
          "output_type": "execute_result",
          "data": {
            "text/plain": [
              "['001b34da-747c-4526-a83d-b2b9494e4d6b',\n",
              " [1.0, 12262.0],\n",
              " [[[0], [45, 81, 3, 4, 78, 69, 91, 1]],\n",
              "  [[371], [91, 1, 69, 4, 3, 79]],\n",
              "  [[371], [91, 4, 3, 80, 1]],\n",
              "  [[371], [3, 50, 1, 4, 76, 91]],\n",
              "  [[371], [4, 51, 91, 3, 1]],\n",
              "  [[371], [1, 91, 4, 3, 46]],\n",
              "  [[371], [1, 4, 91, 3, 52]],\n",
              "  [[371], [53, 4, 3, 91, 1]],\n",
              "  [[371], [55, 3, 91, 1, 4]],\n",
              "  [[371], [3, 91, 1, 40, 56, 4]],\n",
              "  [[371], [4, 3, 91, 1, 57]],\n",
              "  [[371], [91, 1, 58, 3, 4]],\n",
              "  [[371], [59, 4, 91, 1, 3]],\n",
              "  [[105], [1, 3, 4, 60, 91]],\n",
              "  [[266], [4, 91, 3, 39, 60, 1]],\n",
              "  [[371], [1, 54, 90, 3, 61, 91, 42, 4]],\n",
              "  [[371], [62, 1, 4, 3, 91]],\n",
              "  [[371], [3, 1, 4, 91, 63]],\n",
              "  [[371], [1, 4, 91, 64, 3]],\n",
              "  [[371], [91, 66, 65, 1, 3, 4]]]]"
            ]
          },
          "metadata": {},
          "execution_count": 17
        }
      ]
    },
    {
      "cell_type": "code",
      "source": [
        "for x in valid_easy_sl:\n",
        "  if x[0]=='001b34da-747c-4526-a83d-b2b9494e4d6b': y=x\n",
        "\n",
        "y"
      ],
      "metadata": {
        "colab": {
          "base_uri": "https://localhost:8080/"
        },
        "id": "Fcp_4RoWULe0",
        "outputId": "6aeca04e-6be3-4d55-fef7-fdb724262637"
      },
      "execution_count": 22,
      "outputs": [
        {
          "output_type": "execute_result",
          "data": {
            "text/plain": [
              "['001b34da-747c-4526-a83d-b2b9494e4d6b',\n",
              " [1.0, 117.0],\n",
              " [[[0], [1, 70, 4, 10, 3]],\n",
              "  [[112], [69, 10, 4, 91, 1, 2, 3]],\n",
              "  [[28], [69, 2, 1, 3, 91, 10, 4]],\n",
              "  [[63], [69, 10, 91, 3, 2, 4, 1]],\n",
              "  [[56], [91, 1, 11, 3, 2, 69, 4]],\n",
              "  [[7], [91, 2, 69, 4, 11, 1, 3]],\n",
              "  [[21], [11, 4, 1, 69, 91, 2, 3]],\n",
              "  [[28], [11, 3, 4, 1, 91, 2, 69]],\n",
              "  [[35], [4, 1, 69, 2, 3, 11, 91]],\n",
              "  [[15], [11, 3, 1, 4, 70]],\n",
              "  [[20], [11, 91, 69, 4, 3, 2, 1]],\n",
              "  [[28], [91, 1, 69, 3, 11, 4, 2]],\n",
              "  [[91], [11, 91, 69, 3, 2, 1, 4]],\n",
              "  [[63], [11, 2, 4, 69, 91, 1, 3]],\n",
              "  [[56], [69, 91, 12, 2, 4, 1, 3]],\n",
              "  [[14], [3, 4, 91, 12, 69, 2, 1]],\n",
              "  [[21], [1, 3, 2, 4, 91, 69, 12]],\n",
              "  [[56], [91, 2, 4, 1, 3, 12, 69]],\n",
              "  [[16], [3, 4, 1, 70, 12]],\n",
              "  [[103], [91, 4, 12, 69, 2, 1, 3]],\n",
              "  [[63], [91, 2, 1, 12, 69, 4, 3]],\n",
              "  [[28], [1, 12, 4, 91, 69, 2, 3]],\n",
              "  [[63], [13, 4, 1, 91, 2, 3, 69]],\n",
              "  [[21], [69, 91, 13, 4, 1, 3, 2]],\n",
              "  [[7], [4, 2, 69, 1, 3, 91, 13]],\n",
              "  [[28], [1, 3, 2, 13, 91, 4, 69]],\n",
              "  [[52], [1, 4, 3, 70, 13]],\n",
              "  [[11], [13, 2, 1, 3, 69, 4, 91]],\n",
              "  [[21], [2, 91, 13, 3, 1, 69, 4]],\n",
              "  [[98], [13, 69, 1, 2, 4, 3, 91]],\n",
              "  [[63], [3, 4, 13, 69, 91, 2, 1]],\n",
              "  [[28], [2, 13, 69, 4, 3, 1, 91]],\n",
              "  [[21], [91, 2, 69, 3, 1, 13, 4]],\n",
              "  [[28], [91, 2, 69, 1, 4, 14, 3]],\n",
              "  [[14], [3, 14, 91, 2, 1, 4, 69]],\n",
              "  [[81], [14, 3, 1, 4, 70]],\n",
              "  [[3], [91, 1, 69, 3, 4, 2, 14]],\n",
              "  [[35], [3, 14, 4, 1, 2, 69, 91]],\n",
              "  [[28], [69, 4, 1, 91, 2, 14, 3]],\n",
              "  [[28], [91, 14, 69, 2, 4, 1, 3]],\n",
              "  [[56], [2, 1, 14, 3, 4, 91, 69]],\n",
              "  [[98], [91, 4, 3, 2, 1, 15, 69]],\n",
              "  [[28], [4, 1, 15, 3, 69, 91, 2]],\n",
              "  [[14], [4, 3, 69, 1, 15, 2, 91]],\n",
              "  [[75], [1, 3, 4, 70, 15]],\n",
              "  [[93], [91, 69, 3, 4, 1, 15, 2]],\n",
              "  [[56], [91, 15, 2, 1, 4, 69, 3]],\n",
              "  [[63], [1, 3, 69, 4, 91, 2, 15]],\n",
              "  [[28], [69, 91, 1, 3, 2, 15, 4]],\n",
              "  [[1], [1, 4, 69, 3, 15, 2, 91]],\n",
              "  [[55], [3, 91, 69, 4, 2, 1, 16]],\n",
              "  [[69], [69, 4, 2, 3, 70, 16, 91, 1]],\n",
              "  [[50], [3, 69, 4, 91, 2, 1, 16]],\n",
              "  [[252], [3, 17, 69, 4, 2, 91, 1]],\n",
              "  [[56], [17, 69, 4, 91, 1, 3, 2]],\n",
              "  [[7], [17, 4, 70, 1, 3]],\n",
              "  [[49], [4, 1, 3, 2, 69, 91, 17]],\n",
              "  [[91], [17, 91, 69, 1, 3, 4, 2]],\n",
              "  [[28], [17, 69, 91, 4, 1, 2, 3]],\n",
              "  [[119], [18, 2, 3, 4, 91, 1, 69]],\n",
              "  [[21], [18, 4, 3, 69, 1, 2, 91]],\n",
              "  [[14], [91, 1, 3, 18, 4, 69, 2]],\n",
              "  [[28], [4, 1, 2, 91, 18, 69, 3]],\n",
              "  [[15], [3, 70, 4, 18, 1]],\n",
              "  [[6], [91, 3, 18, 1, 69, 4, 2]],\n",
              "  [[35], [91, 18, 69, 2, 1, 3, 4]],\n",
              "  [[35], [2, 3, 91, 1, 69, 18, 4]],\n",
              "  [[28], [3, 91, 4, 2, 18, 1, 69]],\n",
              "  [[63], [18, 2, 69, 3, 91, 4, 1]],\n",
              "  [[91], [3, 4, 91, 1, 2, 69, 19]],\n",
              "  [[49], [91, 1, 3, 69, 19, 4, 2]],\n",
              "  [[7], [91, 19, 4, 2, 3, 1, 69]],\n",
              "  [[51], [1, 4, 19, 70, 3]],\n",
              "  [[40], [19, 69, 91, 2, 4, 3, 1]],\n",
              "  [[84], [19, 1, 2, 4, 3, 91, 69]],\n",
              "  [[28], [1, 69, 4, 3, 2, 91, 19]],\n",
              "  [[28], [69, 91, 3, 19, 4, 1, 2]],\n",
              "  [[42], [69, 19, 91, 2, 3, 4, 1]],\n",
              "  [[56], [1, 3, 91, 4, 2, 20, 69]],\n",
              "  [[42], [2, 3, 1, 91, 4, 20, 69]],\n",
              "  [[21], [1, 3, 20, 91, 2, 4, 69]],\n",
              "  [[24], [69, 3, 70, 91, 20, 4, 2, 1]],\n",
              "  [[123], [69, 3, 1, 20, 4, 91, 2]],\n",
              "  [[91], [2, 4, 20, 91, 69, 3, 1]],\n",
              "  [[63], [2, 4, 3, 1, 69, 21, 91]],\n",
              "  [[28], [2, 1, 21, 91, 3, 69, 4]],\n",
              "  [[21], [91, 1, 21, 69, 3, 4, 2]],\n",
              "  [[39], [70, 4, 3, 21, 1]],\n",
              "  [[3], [4, 3, 91, 1, 69, 2, 21]],\n",
              "  [[84], [91, 4, 69, 1, 2, 3, 21]],\n",
              "  [[56], [1, 2, 91, 3, 21, 69, 4]],\n",
              "  [[28], [4, 91, 3, 1, 69, 21, 2]],\n",
              "  [[63], [1, 69, 21, 91, 2, 4, 3]],\n",
              "  [[35], [2, 3, 1, 69, 4, 22, 91]],\n",
              "  [[63], [2, 1, 69, 4, 91, 22, 3]],\n",
              "  [[33], [3, 4, 70, 22, 1]],\n",
              "  [[51], [69, 22, 1, 3, 4, 91, 2]],\n",
              "  [[28], [91, 22, 3, 2, 4, 1, 69]],\n",
              "  [[63], [91, 2, 4, 69, 1, 22, 3]],\n",
              "  [[35], [91, 1, 69, 4, 2, 22, 3]],\n",
              "  [[56], [2, 1, 22, 4, 69, 91, 3]],\n",
              "  [[35], [1, 23, 2, 3, 69, 4, 91]],\n",
              "  [[28], [91, 1, 69, 4, 23, 2, 3]],\n",
              "  [[42], [3, 69, 4, 1, 91, 23, 2]],\n",
              "  [[7], [4, 91, 1, 69, 3, 23, 2]],\n",
              "  [[20], [70, 4, 3, 1, 23]],\n",
              "  [[22], [1, 3, 4, 2, 91, 69, 23]],\n",
              "  [[7], [4, 1, 91, 23, 69, 3, 2]],\n",
              "  [[21], [91, 69, 4, 23, 1, 2, 3]],\n",
              "  [[84], [91, 4, 1, 2, 23, 69, 3]],\n",
              "  [[28], [69, 91, 23, 2, 4, 3, 1]],\n",
              "  [[35], [69, 91, 2, 23, 3, 4, 1]],\n",
              "  [[35], [2, 1, 69, 91, 3, 4, 23]],\n",
              "  [[91], [2, 69, 91, 3, 1, 4, 24]],\n",
              "  [[21], [1, 2, 69, 3, 24, 91, 4]],\n",
              "  [[21], [70, 24, 1, 4, 3]],\n",
              "  [[7], [3, 24, 4, 91, 2, 1, 69]],\n",
              "  [[35], [3, 2, 4, 69, 91, 1, 24]],\n",
              "  [[28], [69, 1, 91, 4, 2, 24, 3]],\n",
              "  [[28], [2, 69, 91, 24, 3, 4, 1]],\n",
              "  [[35], [1, 91, 2, 24, 4, 69, 3]],\n",
              "  [[35], [4, 91, 69, 3, 24, 1, 2]],\n",
              "  [[28], [91, 4, 3, 2, 69, 24, 1]],\n",
              "  [[56], [69, 91, 4, 2, 3, 25, 1]],\n",
              "  [[84], [25, 1, 2, 4, 91, 3, 69]],\n",
              "  [[14], [69, 1, 91, 3, 2, 25, 4]],\n",
              "  [[15], [1, 70, 4, 25, 3]],\n",
              "  [[13], [3, 4, 1, 25, 91, 2, 69]],\n",
              "  [[84], [4, 69, 3, 1, 91, 25, 2]],\n",
              "  [[91], [69, 25, 1, 91, 2, 4, 3]],\n",
              "  [[63], [69, 26, 2, 1, 3, 4, 91]],\n",
              "  [[91], [91, 4, 69, 1, 3, 2, 26]],\n",
              "  [[14], [26, 91, 3, 2, 69, 1, 4]],\n",
              "  [[9], [70, 3, 26, 1, 4]],\n",
              "  [[26], [3, 1, 92, 93, 41, 69, 4, 91, 94, 26]],\n",
              "  [[154], [91, 3, 1, 4, 26, 69]],\n",
              "  [[98], [69, 91, 29, 4, 3, 1]],\n",
              "  [[21], [1, 29, 4, 69, 3, 91]],\n",
              "  [[66], [1, 4, 69, 70, 29, 91, 3]],\n",
              "  [[32], [69, 91, 29, 4, 1, 3]],\n",
              "  [[28], [3, 4, 69, 1, 29, 91]],\n",
              "  [[63], [91, 69, 3, 4, 29, 1]],\n",
              "  [[28], [29, 3, 69, 91, 4, 1]],\n",
              "  [[49], [91, 3, 1, 69, 29, 4]],\n",
              "  [[42], [29, 91, 1, 3, 69, 4]],\n",
              "  [[21], [1, 4, 30, 91, 69, 3]],\n",
              "  [[35], [4, 1, 69, 3, 91, 30]],\n",
              "  [[35], [1, 69, 91, 4, 3, 30]],\n",
              "  [[32], [1, 69, 91, 70, 30, 4, 3]],\n",
              "  [[3], [1, 30, 4, 69, 3, 91]],\n",
              "  [[175], [3, 1, 91, 4, 69, 30]],\n",
              "  [[187], [1, 31, 70, 4, 3]],\n",
              "  [[9], [3, 1, 69, 4, 31, 91]],\n",
              "  [[356], [4, 3, 1, 70, 32]],\n",
              "  [[15], [69, 3, 32, 1, 4, 91]],\n",
              "  [[350], [33, 1, 4, 3, 70]],\n",
              "  [[21], [3, 69, 33, 91, 71, 1, 4]],\n",
              "  [[371], [4, 34, 1, 69, 91, 3]],\n",
              "  [[168], [91, 34, 1, 3, 69, 4]],\n",
              "  [[203], [35, 69, 91, 1, 4, 3]],\n",
              "  [[371], [36, 1, 91, 69, 4, 3]],\n",
              "  [[161], [36, 1, 4, 3, 83]],\n",
              "  [[210], [72, 69, 1, 91, 4, 3]],\n",
              "  [[371], [37, 4, 69, 1, 3, 91]],\n",
              "  [[118], [4, 95, 3, 37, 1]],\n",
              "  [[253], [91, 4, 1, 43, 69, 3]],\n",
              "  [[371], [91, 4, 73, 69, 1, 3]],\n",
              "  [[371], [69, 91, 1, 44, 3, 4]],\n",
              "  [[371], [4, 91, 1, 69, 3, 74]],\n",
              "  [[371], [3, 91, 69, 1, 75, 4]],\n",
              "  [[371], [77, 91, 3, 69, 1, 4]],\n",
              "  [[371], [81, 1, 69, 91, 3, 4, 45, 78]],\n",
              "  [[371], [79, 69, 91, 3, 1, 4]],\n",
              "  [[371], [3, 91, 80, 4, 1]],\n",
              "  [[371], [50, 76, 4, 3, 1, 91]],\n",
              "  [[371], [91, 4, 3, 51, 1]],\n",
              "  [[371], [91, 4, 46, 1, 3]],\n",
              "  [[371], [4, 91, 3, 1, 52]],\n",
              "  [[371], [91, 3, 53, 4, 1]],\n",
              "  [[371], [3, 4, 55, 1, 91]],\n",
              "  [[371], [4, 40, 56, 1, 91, 3]],\n",
              "  [[371], [3, 57, 4, 1, 91]],\n",
              "  [[371], [3, 4, 91, 58, 1]],\n",
              "  [[371], [1, 4, 91, 3, 59]],\n",
              "  [[105], [4, 60, 1, 3, 91]],\n",
              "  [[266], [91, 4, 60, 3, 1, 39]],\n",
              "  [[371], [90, 42, 1, 61, 54, 3, 91, 4]],\n",
              "  [[371], [62, 1, 3, 4, 91]],\n",
              "  [[371], [91, 63, 1, 3, 4]],\n",
              "  [[371], [64, 91, 4, 3, 1]],\n",
              "  [[371], [91, 66, 1, 4, 65, 3]]]]"
            ]
          },
          "metadata": {},
          "execution_count": 22
        }
      ]
    }
  ]
}