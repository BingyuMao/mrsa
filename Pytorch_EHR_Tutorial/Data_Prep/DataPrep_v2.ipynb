{
  "nbformat": 4,
  "nbformat_minor": 0,
  "metadata": {
    "colab": {
      "name": "DataPrep.ipynb",
      "provenance": [],
      "collapsed_sections": [],
      "include_colab_link": true
    },
    "kernelspec": {
      "name": "python3",
      "display_name": "Python 3"
    },
    "language_info": {
      "name": "python"
    }
  },
  "cells": [
    {
      "cell_type": "markdown",
      "metadata": {
        "id": "view-in-github",
        "colab_type": "text"
      },
      "source": [
        "<a href=\"https://colab.research.google.com/github/ZhiGroup/pytorch_ehr/blob/ACM_BCB-Tutorial/Pytorch_EHR_Tutorial/Data_Prep/DataPrep_v2.ipynb\" target=\"_parent\"><img src=\"https://colab.research.google.com/assets/colab-badge.svg\" alt=\"Open In Colab\"/></a>"
      ]
    },
    {
      "cell_type": "code",
      "metadata": {
        "id": "6Q8gC9hQK4Jc"
      },
      "source": [
        "### lrasmy@Zhilab last revised August 1 2021   ##\n",
        "###############################################"
      ],
      "execution_count": null,
      "outputs": []
    },
    {
      "cell_type": "markdown",
      "metadata": {
        "id": "7wptIUNEYUku"
      },
      "source": [
        "## Download the required data \n",
        "\n",
        "- Make sure to mount your drive using the mount drive icon on the left pane or run the few lines below \n",
        "\n"
      ]
    },
    {
      "cell_type": "code",
      "metadata": {
        "id": "Lm4TFiDHOOTV",
        "colab": {
          "base_uri": "https://localhost:8080/"
        },
        "outputId": "848af9b3-57e2-4e35-80ec-822c1de521d2"
      },
      "source": [
        "### Mount your google drive ###\n",
        "from google.colab import drive\n",
        "drive.mount('/content/drive')"
      ],
      "execution_count": null,
      "outputs": [
        {
          "output_type": "stream",
          "text": [
            "Mounted at /content/drive\n"
          ],
          "name": "stdout"
        }
      ]
    },
    {
      "cell_type": "markdown",
      "metadata": {
        "id": "YSBv9D1BZl7-"
      },
      "source": [
        "*   Then download the required MIMIC IV data using the following command \n",
        "please make sure you replace --user=<username> with your actual physionet username like --user='jsmith' \n",
        "- you will be prompt to enter your password, make sure you click to see a text box and then enter your physionet password.\n",
        "\n",
        "\n"
      ]
    },
    {
      "cell_type": "code",
      "metadata": {
        "id": "T2yKfmDuLAtX"
      },
      "source": [
        "!wget -r -N -c -np -i /content/drive/MyDrive/pytorch_ehr/Pytorch_EHR_Tutorial/Data_Prep/Data_to_Download.txt -P /content/drive/MyDrive/pytorch_ehr/Pytorch_EHR_Tutorial/Data_Prep/data --user='jsmith'  --ask-password"
      ],
      "execution_count": null,
      "outputs": []
    },
    {
      "cell_type": "markdown",
      "metadata": {
        "id": "1PbR9ozKbAuD"
      },
      "source": [
        "## Extract The in-hospital Mortality Data"
      ]
    },
    {
      "cell_type": "markdown",
      "metadata": {
        "id": "1BLnwWxcbFby"
      },
      "source": [
        "### Import the required packages\n"
      ]
    },
    {
      "cell_type": "code",
      "metadata": {
        "id": "_02U8L2dbKX_"
      },
      "source": [
        "import numpy as np\n",
        "import pandas as pd\n",
        "import sys\n",
        "sys.path.insert(0,\"/content/drive/MyDrive/pytorch_ehr/Pytorch_EHR_Tutorial/Data_Prep/\")\n",
        "from mimic4_preprocess_util import *\n",
        "\n",
        "mimic4_path='/content/drive/MyDrive/pytorch_ehr/Pytorch_EHR_Tutorial/Data_Prep/data/physionet.org/files/mimiciv/1.0'\n",
        "verbose= True\n",
        "output_path='/content/drive/MyDrive/pytorch_ehr/Pytorch_EHR_Tutorial/Data_Prep/data/extracted_data'\n",
        "if not os.path.exists(output_path):\n",
        "        os.makedirs(output_path)"
      ],
      "execution_count": null,
      "outputs": []
    },
    {
      "cell_type": "code",
      "metadata": {
        "colab": {
          "base_uri": "https://localhost:8080/"
        },
        "id": "kJx-avcahzY9",
        "outputId": "99b2de7e-f65b-49b0-f6fb-4aec329da628"
      },
      "source": [
        "stays = read_icustays_table(mimic4_path)\n",
        "stays=stays.reset_index()\n",
        "if verbose:\n",
        "    print('START:', stays.stay_id.unique().shape[0], stays.hadm_id.unique().shape[0],\n",
        "          stays.subject_id.unique().shape[0])\n",
        "print(min(stays['subject_id']),max(stays['subject_id']))\n",
        "stays = clean_stays(stays)\n",
        "print(min(stays['subject_id']),max(stays['subject_id']))\n",
        "admits = read_admissions_table(mimic4_path)\n",
        "stays = merge_on_subject_admission(stays, admits)\n",
        "print(min(stays['subject_id']),max(stays['subject_id']))\n",
        "\n",
        "patients = read_patients_table(mimic4_path)\n",
        "\n",
        "stays = merge_on_subject(stays, patients)\n",
        "\n",
        "print('latest stay cnts:', stays.stay_id.unique().shape[0], stays.hadm_id.unique().shape[0],\n",
        "         stays.subject_id.unique().shape[0])\n",
        "stays = add_age_to_icustays(stays)\n",
        "stays = add_inunit_mortality_to_icustays(stays)\n",
        "stays = add_inhospital_mortality_to_icustays(stays)"
      ],
      "execution_count": null,
      "outputs": [
        {
          "output_type": "stream",
          "text": [
            "START: 76540 69211 53150\n",
            "10000032 19999987\n",
            "10000032 19999987\n",
            "10000032 19999987\n",
            "latest stay cnts: 76540 69211 53150\n"
          ],
          "name": "stdout"
        }
      ]
    },
    {
      "cell_type": "code",
      "metadata": {
        "id": "3b-IK26oXYV7"
      },
      "source": [
        "### Quality check\n",
        "#stays[(stays['mortality']==1) & (stays['deathtime'].isna()) ]"
      ],
      "execution_count": null,
      "outputs": []
    },
    {
      "cell_type": "code",
      "metadata": {
        "id": "x0hazubyizhh"
      },
      "source": [
        "diagnosis = pd.read_csv(mimic4_path+'/hosp/diagnoses_icd.csv.gz', compression='gzip', header=0)\n",
        "admis = pd.read_csv(mimic4_path+'/core/admissions.csv.gz', compression='gzip', header=0)\n",
        "proc= pd.read_csv(mimic4_path+'/hosp/procedures_icd.csv.gz', compression='gzip', header=0)"
      ],
      "execution_count": null,
      "outputs": []
    },
    {
      "cell_type": "code",
      "metadata": {
        "id": "Fsbce_mIIz8D"
      },
      "source": [
        "### Cases for patient level prediction using the last ICU stay\n",
        "case_pts= stays[['subject_id','intime','dischtime','deathtime']][stays['mortality']== 1]\n",
        "case_pts['deathtime']=case_pts['deathtime'].fillna(case_pts['dischtime'])\n",
        "case_pts_index= case_pts.groupby('subject_id')[['intime','deathtime']].max().reset_index()\n",
        "case_pts_index['tte']=(pd.to_datetime(case_pts_index['deathtime'])-pd.to_datetime(case_pts_index['intime'])).dt.days\n",
        "case_adm=admis[admis['subject_id'].isin(case_pts['subject_id'].drop_duplicates().tolist())] \n",
        "case_adm1=pd.merge(case_pts_index,case_adm, right_on='subject_id', left_on='subject_id') \n",
        "case_adm2=case_adm1[pd.to_datetime(case_adm1['admittime']) <= case_adm1['intime']] #25,427 records"
      ],
      "execution_count": null,
      "outputs": []
    },
    {
      "cell_type": "markdown",
      "metadata": {
        "id": "FFWZh8IMVBxY"
      },
      "source": [
        "##### Quick Quality check"
      ]
    },
    {
      "cell_type": "code",
      "metadata": {
        "colab": {
          "base_uri": "https://localhost:8080/",
          "height": 49
        },
        "id": "TAaHonYuVDWh",
        "outputId": "24dce852-8998-490f-84c2-56ed84cbf3fd"
      },
      "source": [
        "#case_adm2[case_adm2['admittime']>case_adm2['dischtime']] ### good\n",
        "case_adm2[case_adm2['admittime']>case_adm2['deathtime_y']] ### good"
      ],
      "execution_count": null,
      "outputs": [
        {
          "output_type": "execute_result",
          "data": {
            "text/html": [
              "<div>\n",
              "<style scoped>\n",
              "    .dataframe tbody tr th:only-of-type {\n",
              "        vertical-align: middle;\n",
              "    }\n",
              "\n",
              "    .dataframe tbody tr th {\n",
              "        vertical-align: top;\n",
              "    }\n",
              "\n",
              "    .dataframe thead th {\n",
              "        text-align: right;\n",
              "    }\n",
              "</style>\n",
              "<table border=\"1\" class=\"dataframe\">\n",
              "  <thead>\n",
              "    <tr style=\"text-align: right;\">\n",
              "      <th></th>\n",
              "      <th>subject_id</th>\n",
              "      <th>intime</th>\n",
              "      <th>deathtime_x</th>\n",
              "      <th>tte</th>\n",
              "      <th>hadm_id</th>\n",
              "      <th>admittime</th>\n",
              "      <th>dischtime</th>\n",
              "      <th>deathtime_y</th>\n",
              "      <th>admission_type</th>\n",
              "      <th>admission_location</th>\n",
              "      <th>discharge_location</th>\n",
              "      <th>insurance</th>\n",
              "      <th>language</th>\n",
              "      <th>marital_status</th>\n",
              "      <th>ethnicity</th>\n",
              "      <th>edregtime</th>\n",
              "      <th>edouttime</th>\n",
              "      <th>hospital_expire_flag</th>\n",
              "    </tr>\n",
              "  </thead>\n",
              "  <tbody>\n",
              "  </tbody>\n",
              "</table>\n",
              "</div>"
            ],
            "text/plain": [
              "Empty DataFrame\n",
              "Columns: [subject_id, intime, deathtime_x, tte, hadm_id, admittime, dischtime, deathtime_y, admission_type, admission_location, discharge_location, insurance, language, marital_status, ethnicity, edregtime, edouttime, hospital_expire_flag]\n",
              "Index: []"
            ]
          },
          "metadata": {
            "tags": []
          },
          "execution_count": 7
        }
      ]
    },
    {
      "cell_type": "code",
      "metadata": {
        "id": "Sjtp706-VU7S"
      },
      "source": [
        "### Extract diagnosis data for cases\n",
        "case_diag=diagnosis[(diagnosis['subject_id'].isin(case_adm2['subject_id'].drop_duplicates().tolist()))&(diagnosis['hadm_id'].isin(case_adm2['hadm_id'].drop_duplicates().tolist()))]\n",
        "case_diag=case_diag.merge(case_adm2[['subject_id','hadm_id','admittime','dischtime']].drop_duplicates(),how='left')\n",
        "case_diag['dischtime']=pd.to_datetime(case_diag['dischtime']).dt.date\n",
        "case_diag['event_code']='D_ICD'+case_diag['icd_version'].astype('str')+'_'+case_diag['icd_code']\n",
        "case_diag=case_diag[['subject_id','event_code','dischtime']].drop_duplicates()\n"
      ],
      "execution_count": null,
      "outputs": []
    },
    {
      "cell_type": "code",
      "metadata": {
        "id": "pqiCXawZV2yY"
      },
      "source": [
        "### Extract procedure data for cases\n",
        "case_proc=proc[(proc['subject_id'].isin(case_adm2['subject_id'].drop_duplicates().tolist()))&(proc['hadm_id'].isin(case_adm2['hadm_id'].drop_duplicates().tolist()))]\n",
        "case_proc=case_proc.merge(case_pts_index.drop_duplicates(),how='left')\n",
        "case_proc=case_proc[pd.to_datetime(case_proc['chartdate']) <= case_proc['intime']] ### only to keep events occur before the index date\n",
        "case_proc=case_proc.merge(case_adm2[['subject_id','hadm_id','admittime','dischtime']].drop_duplicates(),how='left')\n",
        "case_proc['dischtime']=pd.to_datetime(case_proc['dischtime']).dt.date\n",
        "case_proc['event_code']='P_ICD'+ case_proc['icd_version'].astype('str')+'_'+case_proc['icd_code']\n",
        "case_proc=case_proc[['subject_id','event_code','dischtime']].drop_duplicates()"
      ],
      "execution_count": null,
      "outputs": []
    },
    {
      "cell_type": "code",
      "metadata": {
        "id": "CymTnW9ag_ai"
      },
      "source": [
        "### ctrls for patient level prediction using the last ICU stay\n",
        "\n",
        "ctrl_pts= stays[['subject_id','intime','dischtime']][~(stays['subject_id'].isin(case_pts['subject_id'].drop_duplicates().tolist()))]\n",
        "ctrl_pts.columns=['subject_id','intime','last_dischtime']\n",
        "ctrl_pts_index= ctrl_pts.groupby('subject_id')[['intime','last_dischtime']].max().reset_index()\n",
        "ctrl_pts_index['tte']=(pd.to_datetime(ctrl_pts_index['last_dischtime'])-pd.to_datetime(ctrl_pts_index['intime'])).dt.days\n",
        "ctrl_adm=admis[admis['subject_id'].isin(ctrl_pts['subject_id'].drop_duplicates().tolist())] \n",
        "ctrl_adm1=pd.merge(ctrl_pts_index,ctrl_adm, right_on='subject_id', left_on='subject_id') \n",
        "ctrl_adm2=ctrl_adm1[pd.to_datetime(ctrl_adm1['admittime']) <= ctrl_adm1['intime']] \n",
        "\n",
        "### Extract diagnosis data for ctrl\n",
        "\n",
        "ctrl_diag=diagnosis[(diagnosis['subject_id'].isin(ctrl_adm2['subject_id'].drop_duplicates().tolist()))&(diagnosis['hadm_id'].isin(ctrl_adm2['hadm_id'].drop_duplicates().tolist()))]\n",
        "ctrl_diag=ctrl_diag.merge(ctrl_adm2[['subject_id','hadm_id','admittime','dischtime']].drop_duplicates(),how='left')\n",
        "ctrl_diag['dischtime']=pd.to_datetime(ctrl_diag['dischtime']).dt.date\n",
        "ctrl_diag['event_code']='D_ICD'+ctrl_diag['icd_version'].astype('str')+'_'+ctrl_diag['icd_code']\n",
        "ctrl_diag=ctrl_diag[['subject_id','event_code','dischtime']].drop_duplicates()\n",
        "\n",
        "### Extract procedure data for ctrl\n",
        "ctrl_proc=proc[(proc['subject_id'].isin(ctrl_adm2['subject_id'].drop_duplicates().tolist()))&(proc['hadm_id'].isin(ctrl_adm2['hadm_id'].drop_duplicates().tolist()))]\n",
        "ctrl_proc=ctrl_proc.merge(ctrl_pts_index.drop_duplicates(),how='left')\n",
        "ctrl_proc=ctrl_proc[pd.to_datetime(ctrl_proc['chartdate']) <= ctrl_proc['intime']] ### only to keep events occur before the index date\n",
        "ctrl_proc=ctrl_proc.merge(ctrl_adm2[['subject_id','hadm_id','admittime','dischtime']].drop_duplicates(),how='left')\n",
        "ctrl_proc['dischtime']=pd.to_datetime(ctrl_proc['dischtime']).dt.date\n",
        "ctrl_proc['event_code']='P_ICD'+ ctrl_proc['icd_version'].astype('str')+'_'+ctrl_proc['icd_code']\n",
        "ctrl_proc=ctrl_proc[['subject_id','event_code','dischtime']].drop_duplicates()\n"
      ],
      "execution_count": null,
      "outputs": []
    },
    {
      "cell_type": "code",
      "metadata": {
        "id": "8A57u0cGnjuC"
      },
      "source": [
        "### dump extracted data\n",
        "pd.concat([case_diag,\n",
        "           case_proc,\n",
        "           ctrl_diag,\n",
        "           ctrl_proc]\n",
        "          ).dropna().to_csv(output_path+'/Mimic_PT_mortality_data_dp.tsv', sep='\\t',index=False)\n",
        "\n",
        "### dump labels, mortality label and time to death for survival\n",
        "\n",
        "ctrl_pts_index['mort']=0\n",
        "case_pts_index['mort']=1\n",
        "\n",
        "pd.concat([ctrl_pts_index[['subject_id','mort','tte']].drop_duplicates(),\n",
        "           case_pts_index[['subject_id','mort','tte']].drop_duplicates()\n",
        "           ]).dropna().to_csv(output_path+'/Mimic_PT_mortality_labels.tsv', sep='\\t',index=False)"
      ],
      "execution_count": null,
      "outputs": []
    },
    {
      "cell_type": "markdown",
      "metadata": {
        "id": "8zshzKlPm49v"
      },
      "source": [
        "## Proprocess data into pickled list\n",
        "\n"
      ]
    },
    {
      "cell_type": "code",
      "metadata": {
        "id": "rSnMOuM4XSOS"
      },
      "source": [
        "sys.path.insert(0,\"/content/drive/MyDrive/pytorch_ehr/Pytorch_EHR_Tutorial/Data_Prep/\")\n",
        "from preprocess_outcomes  import dump_split_process_data"
      ],
      "execution_count": null,
      "outputs": []
    },
    {
      "cell_type": "code",
      "metadata": {
        "id": "4jiJPrdCscs4",
        "colab": {
          "base_uri": "https://localhost:8080/"
        },
        "outputId": "a902e973-1a60-42d9-d349-94bd2a6bbc9e"
      },
      "source": [
        "output_proc='/content/drive/MyDrive/pytorch_ehr/Pytorch_EHR_Tutorial/Data_Prep/data/processed_data'\n",
        "if not os.path.exists(output_proc):\n",
        "        os.makedirs(output_proc)\n",
        "\n",
        "dump_split_process_data(output_path+'/Mimic_PT_mortality_data_dp.tsv', output_path+'/Mimic_PT_mortality_labels.tsv' , 'NA' ,output_proc+'/Mimic_PT_mortality_dp_v1' , 'NA' )"
      ],
      "execution_count": null,
      "outputs": [
        {
          "output_type": "stream",
          "text": [
            "loading data\n",
            "loaded data for:  52926\n",
            "loading labels\n",
            "loaded labels for:  53150  after primary cleaning  52926\n",
            "Mortality Case counts:  7303\n",
            "LOS>7 :  15212\n",
            "new types dictionary\n",
            "processed 1000 pts\n",
            "processed 2000 pts\n",
            "processed 3000 pts\n",
            "processed 4000 pts\n",
            "processed 5000 pts\n",
            "processed 6000 pts\n",
            "processed 7000 pts\n",
            "processed 8000 pts\n",
            "processed 9000 pts\n",
            "processed 10000 pts\n",
            "processed 11000 pts\n",
            "processed 12000 pts\n",
            "processed 13000 pts\n",
            "processed 14000 pts\n",
            "processed 15000 pts\n",
            "processed 16000 pts\n",
            "processed 17000 pts\n",
            "processed 18000 pts\n",
            "processed 19000 pts\n",
            "processed 20000 pts\n",
            "processed 21000 pts\n",
            "processed 22000 pts\n",
            "processed 23000 pts\n",
            "processed 24000 pts\n",
            "processed 25000 pts\n",
            "processed 26000 pts\n",
            "processed 27000 pts\n",
            "processed 28000 pts\n",
            "processed 29000 pts\n",
            "processed 30000 pts\n",
            "processed 31000 pts\n",
            "processed 32000 pts\n",
            "processed 33000 pts\n",
            "processed 34000 pts\n",
            "processed 35000 pts\n",
            "processed 36000 pts\n",
            "processed 37000 pts\n",
            "processed 38000 pts\n",
            "processed 39000 pts\n",
            "processed 40000 pts\n",
            "processed 41000 pts\n",
            "processed 42000 pts\n",
            "processed 43000 pts\n",
            "processed 44000 pts\n",
            "processed 45000 pts\n",
            "processed 46000 pts\n",
            "processed 47000 pts\n",
            "processed 48000 pts\n",
            "processed 49000 pts\n",
            "processed 50000 pts\n",
            "processed 51000 pts\n",
            "processed 52000 pts\n",
            "Reparsing\n",
            "Splitting\n",
            "random split\n"
          ],
          "name": "stdout"
        }
      ]
    },
    {
      "cell_type": "code",
      "metadata": {
        "id": "0mOn364kl2nT"
      },
      "source": [
        "### Extract code descriptions as we will use later\n",
        "\n",
        "diag_desc = pd.read_csv(mimic4_path+'/hosp/d_icd_diagnoses.csv.gz', compression='gzip', header=0)\n",
        "diag_desc['event_code']='D_ICD'+diag_desc['icd_version'].astype('str')+'_'+diag_desc['icd_code']\n",
        "proc_desc= pd.read_csv(mimic4_path+'/hosp/d_icd_procedures.csv.gz', compression='gzip', header=0)\n",
        "proc_desc['event_code']='P_ICD'+proc_desc['icd_version'].astype('str')+'_'+proc_desc['icd_code']\n",
        "diag_desc['cat']='Diag'\n",
        "proc_desc['cat']='Proc'\n",
        "code_desc=pd.concat([diag_desc[['event_code','cat','long_title']],proc_desc[['event_code','cat','long_title']]])\n",
        "code_desc.to_csv(output_proc+'/code_desc.tsv',sep='\\t',index=False)"
      ],
      "execution_count": null,
      "outputs": []
    },
    {
      "cell_type": "markdown",
      "metadata": {
        "id": "mwA-31nRmkDf"
      },
      "source": [
        "## Data in OMOP format (MIMIC IV Demo Data)\n",
        "\n",
        "> First we need to define our objective: \n",
        "  This is a demo data of 100 patients, so we will use all patients till last admission to predict mortality (so note the difference from the previous cohort, is that we don't retrict to icu stays and it is not just in-hospital mortality , i.e we wase our conditions for the sake of the Demo)\n",
        "\n",
        "Again we will prepare to predict both binary and survival\n",
        "\n",
        "So we need a label file that include: 'subject_id' , 'mortality_indicator' , 'time from index date to death'\n",
        "\n",
        "and then extract all patient diagnosis and procedures available till the index date and use the linked visit admission or discharge date to later define the sequence of visits\n",
        "\n",
        "  So our steps:\n",
        "\n",
        "  1. Identify the patients label (died or not) --> Death Table\n",
        "  2. Find out the index date per patient (admission date for last encounter/visit) ----> visit_occurence\n",
        "  3. Extract diagnosis and procedures, along with the linked visit admission or discharge date\n",
        "\n",
        "\n",
        "\n"
      ]
    },
    {
      "cell_type": "code",
      "metadata": {
        "id": "yDXCOFWwmrTn"
      },
      "source": [
        "#!wget -r -N -c -np https://physionet.org/files/mimic-iv-demo-omop/0.9/ -P /content/drive/MyDrive/pytorch_ehr/Pytorch_EHR_Tutorial/Data_Prep/data "
      ],
      "execution_count": null,
      "outputs": []
    },
    {
      "cell_type": "code",
      "metadata": {
        "id": "pRWj9WB9n1BV"
      },
      "source": [
        "mimic4_omop_pth='/content/drive/MyDrive/pytorch_ehr/Pytorch_EHR_Tutorial/Data_Prep/data/physionet.org/files/mimic-iv-demo-omop/0.9/1_omop_data_csv/'\n",
        "mo_db_pth='/content/drive/MyDrive/pytorch_ehr/Pytorch_EHR_Tutorial/Data_Prep/data/physionet.org/files/'"
      ],
      "execution_count": null,
      "outputs": []
    },
    {
      "cell_type": "markdown",
      "metadata": {
        "id": "8Qh7Vnc-jw0N"
      },
      "source": [
        "\n",
        "### Let's understand the data First\n",
        "\n"
      ]
    },
    {
      "cell_type": "code",
      "metadata": {
        "id": "i-C5EIX3o20N"
      },
      "source": [
        "pt_died = pd.read_csv(mimic4_omop_pth+'death.csv', header=0)\n",
        "pt_died =pt_died[['person_id','death_date']]"
      ],
      "execution_count": null,
      "outputs": []
    },
    {
      "cell_type": "code",
      "metadata": {
        "id": "gNJ9lnDypk2H",
        "colab": {
          "base_uri": "https://localhost:8080/",
          "height": 524
        },
        "outputId": "c3ce01e1-d894-4153-ac6f-743aba1cc1e2"
      },
      "source": [
        "pts = pd.read_csv(mimic4_omop_pth+'person.csv', header=0)\n",
        "pts \n"
      ],
      "execution_count": null,
      "outputs": [
        {
          "output_type": "execute_result",
          "data": {
            "text/html": [
              "<div>\n",
              "<style scoped>\n",
              "    .dataframe tbody tr th:only-of-type {\n",
              "        vertical-align: middle;\n",
              "    }\n",
              "\n",
              "    .dataframe tbody tr th {\n",
              "        vertical-align: top;\n",
              "    }\n",
              "\n",
              "    .dataframe thead th {\n",
              "        text-align: right;\n",
              "    }\n",
              "</style>\n",
              "<table border=\"1\" class=\"dataframe\">\n",
              "  <thead>\n",
              "    <tr style=\"text-align: right;\">\n",
              "      <th></th>\n",
              "      <th>person_id</th>\n",
              "      <th>gender_concept_id</th>\n",
              "      <th>year_of_birth</th>\n",
              "      <th>month_of_birth</th>\n",
              "      <th>day_of_birth</th>\n",
              "      <th>birth_datetime</th>\n",
              "      <th>race_concept_id</th>\n",
              "      <th>ethnicity_concept_id</th>\n",
              "      <th>location_id</th>\n",
              "      <th>provider_id</th>\n",
              "      <th>care_site_id</th>\n",
              "      <th>person_source_value</th>\n",
              "      <th>gender_source_value</th>\n",
              "      <th>gender_source_concept_id</th>\n",
              "      <th>race_source_value</th>\n",
              "      <th>race_source_concept_id</th>\n",
              "      <th>ethnicity_source_value</th>\n",
              "      <th>ethnicity_source_concept_id</th>\n",
              "    </tr>\n",
              "  </thead>\n",
              "  <tbody>\n",
              "    <tr>\n",
              "      <th>0</th>\n",
              "      <td>3589912774911670296</td>\n",
              "      <td>8507</td>\n",
              "      <td>2095</td>\n",
              "      <td>NaN</td>\n",
              "      <td>NaN</td>\n",
              "      <td>NaN</td>\n",
              "      <td>0</td>\n",
              "      <td>38003563</td>\n",
              "      <td>NaN</td>\n",
              "      <td>NaN</td>\n",
              "      <td>NaN</td>\n",
              "      <td>10009628</td>\n",
              "      <td>M</td>\n",
              "      <td>0</td>\n",
              "      <td>NaN</td>\n",
              "      <td>0</td>\n",
              "      <td>HISPANIC/LATINO</td>\n",
              "      <td>2000001408</td>\n",
              "    </tr>\n",
              "    <tr>\n",
              "      <th>1</th>\n",
              "      <td>-3210373572193940939</td>\n",
              "      <td>8507</td>\n",
              "      <td>2079</td>\n",
              "      <td>NaN</td>\n",
              "      <td>NaN</td>\n",
              "      <td>NaN</td>\n",
              "      <td>0</td>\n",
              "      <td>38003563</td>\n",
              "      <td>NaN</td>\n",
              "      <td>NaN</td>\n",
              "      <td>NaN</td>\n",
              "      <td>10011398</td>\n",
              "      <td>M</td>\n",
              "      <td>0</td>\n",
              "      <td>NaN</td>\n",
              "      <td>0</td>\n",
              "      <td>HISPANIC/LATINO</td>\n",
              "      <td>2000001408</td>\n",
              "    </tr>\n",
              "    <tr>\n",
              "      <th>2</th>\n",
              "      <td>-775517641933593374</td>\n",
              "      <td>8507</td>\n",
              "      <td>2149</td>\n",
              "      <td>NaN</td>\n",
              "      <td>NaN</td>\n",
              "      <td>NaN</td>\n",
              "      <td>8516</td>\n",
              "      <td>0</td>\n",
              "      <td>NaN</td>\n",
              "      <td>NaN</td>\n",
              "      <td>NaN</td>\n",
              "      <td>10004235</td>\n",
              "      <td>M</td>\n",
              "      <td>0</td>\n",
              "      <td>BLACK/AFRICAN AMERICAN</td>\n",
              "      <td>2000001406</td>\n",
              "      <td>NaN</td>\n",
              "      <td>0</td>\n",
              "    </tr>\n",
              "    <tr>\n",
              "      <th>3</th>\n",
              "      <td>-2575767131279873665</td>\n",
              "      <td>8507</td>\n",
              "      <td>2050</td>\n",
              "      <td>NaN</td>\n",
              "      <td>NaN</td>\n",
              "      <td>NaN</td>\n",
              "      <td>8516</td>\n",
              "      <td>0</td>\n",
              "      <td>NaN</td>\n",
              "      <td>NaN</td>\n",
              "      <td>NaN</td>\n",
              "      <td>10024043</td>\n",
              "      <td>M</td>\n",
              "      <td>0</td>\n",
              "      <td>BLACK/AFRICAN AMERICAN</td>\n",
              "      <td>2000001406</td>\n",
              "      <td>NaN</td>\n",
              "      <td>0</td>\n",
              "    </tr>\n",
              "    <tr>\n",
              "      <th>4</th>\n",
              "      <td>-8970844422700220177</td>\n",
              "      <td>8507</td>\n",
              "      <td>2114</td>\n",
              "      <td>NaN</td>\n",
              "      <td>NaN</td>\n",
              "      <td>NaN</td>\n",
              "      <td>8527</td>\n",
              "      <td>0</td>\n",
              "      <td>NaN</td>\n",
              "      <td>NaN</td>\n",
              "      <td>NaN</td>\n",
              "      <td>10038933</td>\n",
              "      <td>M</td>\n",
              "      <td>0</td>\n",
              "      <td>WHITE</td>\n",
              "      <td>2000001404</td>\n",
              "      <td>NaN</td>\n",
              "      <td>0</td>\n",
              "    </tr>\n",
              "    <tr>\n",
              "      <th>...</th>\n",
              "      <td>...</td>\n",
              "      <td>...</td>\n",
              "      <td>...</td>\n",
              "      <td>...</td>\n",
              "      <td>...</td>\n",
              "      <td>...</td>\n",
              "      <td>...</td>\n",
              "      <td>...</td>\n",
              "      <td>...</td>\n",
              "      <td>...</td>\n",
              "      <td>...</td>\n",
              "      <td>...</td>\n",
              "      <td>...</td>\n",
              "      <td>...</td>\n",
              "      <td>...</td>\n",
              "      <td>...</td>\n",
              "      <td>...</td>\n",
              "      <td>...</td>\n",
              "    </tr>\n",
              "    <tr>\n",
              "      <th>95</th>\n",
              "      <td>-7671795861352464589</td>\n",
              "      <td>8532</td>\n",
              "      <td>2052</td>\n",
              "      <td>NaN</td>\n",
              "      <td>NaN</td>\n",
              "      <td>NaN</td>\n",
              "      <td>2000001401</td>\n",
              "      <td>0</td>\n",
              "      <td>NaN</td>\n",
              "      <td>NaN</td>\n",
              "      <td>NaN</td>\n",
              "      <td>10038081</td>\n",
              "      <td>F</td>\n",
              "      <td>0</td>\n",
              "      <td>UNKNOWN</td>\n",
              "      <td>2000001401</td>\n",
              "      <td>NaN</td>\n",
              "      <td>0</td>\n",
              "    </tr>\n",
              "    <tr>\n",
              "      <th>96</th>\n",
              "      <td>5734523979606454056</td>\n",
              "      <td>8532</td>\n",
              "      <td>2069</td>\n",
              "      <td>NaN</td>\n",
              "      <td>NaN</td>\n",
              "      <td>NaN</td>\n",
              "      <td>2000001401</td>\n",
              "      <td>0</td>\n",
              "      <td>NaN</td>\n",
              "      <td>NaN</td>\n",
              "      <td>NaN</td>\n",
              "      <td>10036156</td>\n",
              "      <td>F</td>\n",
              "      <td>0</td>\n",
              "      <td>UNKNOWN</td>\n",
              "      <td>2000001401</td>\n",
              "      <td>NaN</td>\n",
              "      <td>0</td>\n",
              "    </tr>\n",
              "    <tr>\n",
              "      <th>97</th>\n",
              "      <td>1532249960797525190</td>\n",
              "      <td>8532</td>\n",
              "      <td>2106</td>\n",
              "      <td>NaN</td>\n",
              "      <td>NaN</td>\n",
              "      <td>NaN</td>\n",
              "      <td>2000001405</td>\n",
              "      <td>0</td>\n",
              "      <td>NaN</td>\n",
              "      <td>NaN</td>\n",
              "      <td>NaN</td>\n",
              "      <td>10014078</td>\n",
              "      <td>F</td>\n",
              "      <td>0</td>\n",
              "      <td>UNABLE TO OBTAIN</td>\n",
              "      <td>2000001405</td>\n",
              "      <td>NaN</td>\n",
              "      <td>0</td>\n",
              "    </tr>\n",
              "    <tr>\n",
              "      <th>98</th>\n",
              "      <td>5894416985828315484</td>\n",
              "      <td>8532</td>\n",
              "      <td>2055</td>\n",
              "      <td>NaN</td>\n",
              "      <td>NaN</td>\n",
              "      <td>NaN</td>\n",
              "      <td>2000001405</td>\n",
              "      <td>0</td>\n",
              "      <td>NaN</td>\n",
              "      <td>NaN</td>\n",
              "      <td>NaN</td>\n",
              "      <td>10019172</td>\n",
              "      <td>F</td>\n",
              "      <td>0</td>\n",
              "      <td>UNABLE TO OBTAIN</td>\n",
              "      <td>2000001405</td>\n",
              "      <td>NaN</td>\n",
              "      <td>0</td>\n",
              "    </tr>\n",
              "    <tr>\n",
              "      <th>99</th>\n",
              "      <td>-3780452582396805474</td>\n",
              "      <td>8532</td>\n",
              "      <td>2058</td>\n",
              "      <td>NaN</td>\n",
              "      <td>NaN</td>\n",
              "      <td>NaN</td>\n",
              "      <td>2000001405</td>\n",
              "      <td>0</td>\n",
              "      <td>NaN</td>\n",
              "      <td>NaN</td>\n",
              "      <td>NaN</td>\n",
              "      <td>10039831</td>\n",
              "      <td>F</td>\n",
              "      <td>0</td>\n",
              "      <td>UNABLE TO OBTAIN</td>\n",
              "      <td>2000001405</td>\n",
              "      <td>NaN</td>\n",
              "      <td>0</td>\n",
              "    </tr>\n",
              "  </tbody>\n",
              "</table>\n",
              "<p>100 rows × 18 columns</p>\n",
              "</div>"
            ],
            "text/plain": [
              "              person_id  ...  ethnicity_source_concept_id\n",
              "0   3589912774911670296  ...                   2000001408\n",
              "1  -3210373572193940939  ...                   2000001408\n",
              "2   -775517641933593374  ...                            0\n",
              "3  -2575767131279873665  ...                            0\n",
              "4  -8970844422700220177  ...                            0\n",
              "..                  ...  ...                          ...\n",
              "95 -7671795861352464589  ...                            0\n",
              "96  5734523979606454056  ...                            0\n",
              "97  1532249960797525190  ...                            0\n",
              "98  5894416985828315484  ...                            0\n",
              "99 -3780452582396805474  ...                            0\n",
              "\n",
              "[100 rows x 18 columns]"
            ]
          },
          "metadata": {
            "tags": []
          },
          "execution_count": 16
        }
      ]
    },
    {
      "cell_type": "code",
      "metadata": {
        "id": "XjMOXJE1qlGt",
        "colab": {
          "base_uri": "https://localhost:8080/",
          "height": 419
        },
        "outputId": "1103bf2d-8df8-4a3f-f8eb-9996ab6fa886"
      },
      "source": [
        "vts = pd.read_csv(mimic4_omop_pth+'visit_occurrence.csv', header=0)\n",
        "vts[['person_id','visit_occurrence_id','visit_start_datetime','visit_end_datetime','admitting_source_value','discharge_to_source_value','preceding_visit_occurrence_id']]"
      ],
      "execution_count": null,
      "outputs": [
        {
          "output_type": "execute_result",
          "data": {
            "text/html": [
              "<div>\n",
              "<style scoped>\n",
              "    .dataframe tbody tr th:only-of-type {\n",
              "        vertical-align: middle;\n",
              "    }\n",
              "\n",
              "    .dataframe tbody tr th {\n",
              "        vertical-align: top;\n",
              "    }\n",
              "\n",
              "    .dataframe thead th {\n",
              "        text-align: right;\n",
              "    }\n",
              "</style>\n",
              "<table border=\"1\" class=\"dataframe\">\n",
              "  <thead>\n",
              "    <tr style=\"text-align: right;\">\n",
              "      <th></th>\n",
              "      <th>person_id</th>\n",
              "      <th>visit_occurrence_id</th>\n",
              "      <th>visit_start_datetime</th>\n",
              "      <th>visit_end_datetime</th>\n",
              "      <th>admitting_source_value</th>\n",
              "      <th>discharge_to_source_value</th>\n",
              "      <th>preceding_visit_occurrence_id</th>\n",
              "    </tr>\n",
              "  </thead>\n",
              "  <tbody>\n",
              "    <tr>\n",
              "      <th>0</th>\n",
              "      <td>4783904755296699562</td>\n",
              "      <td>-4406053801395356975</td>\n",
              "      <td>2112-11-06 11:05:00</td>\n",
              "      <td>2112-11-06 11:05:00</td>\n",
              "      <td>NaN</td>\n",
              "      <td>NaN</td>\n",
              "      <td>-3.100296e+18</td>\n",
              "    </tr>\n",
              "    <tr>\n",
              "      <th>1</th>\n",
              "      <td>-6225647829918357531</td>\n",
              "      <td>2636026522589494723</td>\n",
              "      <td>2153-10-17 14:23:00</td>\n",
              "      <td>2153-10-17 14:23:00</td>\n",
              "      <td>NaN</td>\n",
              "      <td>NaN</td>\n",
              "      <td>-2.238366e+18</td>\n",
              "    </tr>\n",
              "    <tr>\n",
              "      <th>2</th>\n",
              "      <td>7918537411740862407</td>\n",
              "      <td>-8900473297538187901</td>\n",
              "      <td>2130-10-10 16:20:00</td>\n",
              "      <td>2130-10-10 16:20:00</td>\n",
              "      <td>NaN</td>\n",
              "      <td>NaN</td>\n",
              "      <td>-8.600570e+18</td>\n",
              "    </tr>\n",
              "    <tr>\n",
              "      <th>3</th>\n",
              "      <td>-6225647829918357531</td>\n",
              "      <td>-8091470952174089624</td>\n",
              "      <td>2155-04-20 09:00:00</td>\n",
              "      <td>2155-04-20 09:00:00</td>\n",
              "      <td>NaN</td>\n",
              "      <td>NaN</td>\n",
              "      <td>4.782862e+18</td>\n",
              "    </tr>\n",
              "    <tr>\n",
              "      <th>4</th>\n",
              "      <td>7155255168997124770</td>\n",
              "      <td>8144493519470334167</td>\n",
              "      <td>2147-07-08 08:20:00</td>\n",
              "      <td>2147-07-08 08:20:00</td>\n",
              "      <td>NaN</td>\n",
              "      <td>NaN</td>\n",
              "      <td>-3.275690e+18</td>\n",
              "    </tr>\n",
              "    <tr>\n",
              "      <th>...</th>\n",
              "      <td>...</td>\n",
              "      <td>...</td>\n",
              "      <td>...</td>\n",
              "      <td>...</td>\n",
              "      <td>...</td>\n",
              "      <td>...</td>\n",
              "      <td>...</td>\n",
              "    </tr>\n",
              "    <tr>\n",
              "      <th>847</th>\n",
              "      <td>4498126063475867818</td>\n",
              "      <td>6557338641781338493</td>\n",
              "      <td>2156-05-11 11:29:00</td>\n",
              "      <td>2156-05-22 14:16:00</td>\n",
              "      <td>EMERGENCY ROOM</td>\n",
              "      <td>CHRONIC/LONG TERM ACUTE CARE</td>\n",
              "      <td>NaN</td>\n",
              "    </tr>\n",
              "    <tr>\n",
              "      <th>848</th>\n",
              "      <td>4498126063475867818</td>\n",
              "      <td>-9026896896997717305</td>\n",
              "      <td>2156-04-30 18:30:00</td>\n",
              "      <td>2156-05-03 16:36:00</td>\n",
              "      <td>EMERGENCY ROOM</td>\n",
              "      <td>CHRONIC/LONG TERM ACUTE CARE</td>\n",
              "      <td>NaN</td>\n",
              "    </tr>\n",
              "    <tr>\n",
              "      <th>849</th>\n",
              "      <td>6128703162302148003</td>\n",
              "      <td>5538617222786573932</td>\n",
              "      <td>2178-07-22 05:41:00</td>\n",
              "      <td>2178-07-25 16:30:00</td>\n",
              "      <td>EMERGENCY ROOM</td>\n",
              "      <td>CHRONIC/LONG TERM ACUTE CARE</td>\n",
              "      <td>NaN</td>\n",
              "    </tr>\n",
              "    <tr>\n",
              "      <th>850</th>\n",
              "      <td>-3908355835367628651</td>\n",
              "      <td>-4177473998334219433</td>\n",
              "      <td>2137-02-24 10:00:00</td>\n",
              "      <td>2137-03-19 15:45:00</td>\n",
              "      <td>TRANSFER FROM SKILLED NURSING FACILITY</td>\n",
              "      <td>CHRONIC/LONG TERM ACUTE CARE</td>\n",
              "      <td>NaN</td>\n",
              "    </tr>\n",
              "    <tr>\n",
              "      <th>851</th>\n",
              "      <td>3192038106523208432</td>\n",
              "      <td>3079807580745996118</td>\n",
              "      <td>2136-04-10 20:33:00</td>\n",
              "      <td>2136-05-02 16:35:00</td>\n",
              "      <td>TRANSFER FROM HOSPITAL</td>\n",
              "      <td>CHRONIC/LONG TERM ACUTE CARE</td>\n",
              "      <td>NaN</td>\n",
              "    </tr>\n",
              "  </tbody>\n",
              "</table>\n",
              "<p>852 rows × 7 columns</p>\n",
              "</div>"
            ],
            "text/plain": [
              "               person_id  ...  preceding_visit_occurrence_id\n",
              "0    4783904755296699562  ...                  -3.100296e+18\n",
              "1   -6225647829918357531  ...                  -2.238366e+18\n",
              "2    7918537411740862407  ...                  -8.600570e+18\n",
              "3   -6225647829918357531  ...                   4.782862e+18\n",
              "4    7155255168997124770  ...                  -3.275690e+18\n",
              "..                   ...  ...                            ...\n",
              "847  4498126063475867818  ...                            NaN\n",
              "848  4498126063475867818  ...                            NaN\n",
              "849  6128703162302148003  ...                            NaN\n",
              "850 -3908355835367628651  ...                            NaN\n",
              "851  3192038106523208432  ...                            NaN\n",
              "\n",
              "[852 rows x 7 columns]"
            ]
          },
          "metadata": {
            "tags": []
          },
          "execution_count": 17
        }
      ]
    },
    {
      "cell_type": "code",
      "metadata": {
        "id": "Rg8oYaRNyUvo",
        "colab": {
          "base_uri": "https://localhost:8080/",
          "height": 439
        },
        "outputId": "1fc50bb7-f7c3-4c96-acfb-57bf7c6f992a"
      },
      "source": [
        "diag = pd.read_csv(mimic4_omop_pth+'condition_occurrence.csv', header=0)\n",
        "diag"
      ],
      "execution_count": null,
      "outputs": [
        {
          "output_type": "execute_result",
          "data": {
            "text/html": [
              "<div>\n",
              "<style scoped>\n",
              "    .dataframe tbody tr th:only-of-type {\n",
              "        vertical-align: middle;\n",
              "    }\n",
              "\n",
              "    .dataframe tbody tr th {\n",
              "        vertical-align: top;\n",
              "    }\n",
              "\n",
              "    .dataframe thead th {\n",
              "        text-align: right;\n",
              "    }\n",
              "</style>\n",
              "<table border=\"1\" class=\"dataframe\">\n",
              "  <thead>\n",
              "    <tr style=\"text-align: right;\">\n",
              "      <th></th>\n",
              "      <th>condition_occurrence_id</th>\n",
              "      <th>person_id</th>\n",
              "      <th>condition_concept_id</th>\n",
              "      <th>condition_start_date</th>\n",
              "      <th>condition_start_datetime</th>\n",
              "      <th>condition_end_date</th>\n",
              "      <th>condition_end_datetime</th>\n",
              "      <th>condition_type_concept_id</th>\n",
              "      <th>stop_reason</th>\n",
              "      <th>provider_id</th>\n",
              "      <th>visit_occurrence_id</th>\n",
              "      <th>visit_detail_id</th>\n",
              "      <th>condition_source_value</th>\n",
              "      <th>condition_source_concept_id</th>\n",
              "      <th>condition_status_source_value</th>\n",
              "      <th>condition_status_concept_id</th>\n",
              "    </tr>\n",
              "  </thead>\n",
              "  <tbody>\n",
              "    <tr>\n",
              "      <th>0</th>\n",
              "      <td>7000818053728441484</td>\n",
              "      <td>1741351032930224901</td>\n",
              "      <td>196523</td>\n",
              "      <td>2179-07-24</td>\n",
              "      <td>2179-07-24 18:21:00</td>\n",
              "      <td>2179-07-28</td>\n",
              "      <td>2179-07-28 15:54:00</td>\n",
              "      <td>32821</td>\n",
              "      <td>NaN</td>\n",
              "      <td>NaN</td>\n",
              "      <td>-5779522865065417426</td>\n",
              "      <td>NaN</td>\n",
              "      <td>78791</td>\n",
              "      <td>44824628</td>\n",
              "      <td>NaN</td>\n",
              "      <td>NaN</td>\n",
              "    </tr>\n",
              "    <tr>\n",
              "      <th>1</th>\n",
              "      <td>-3514320024333679102</td>\n",
              "      <td>1741351032930224901</td>\n",
              "      <td>436659</td>\n",
              "      <td>2179-07-24</td>\n",
              "      <td>2179-07-24 18:21:00</td>\n",
              "      <td>2179-07-28</td>\n",
              "      <td>2179-07-28 15:54:00</td>\n",
              "      <td>32821</td>\n",
              "      <td>NaN</td>\n",
              "      <td>NaN</td>\n",
              "      <td>-5779522865065417426</td>\n",
              "      <td>NaN</td>\n",
              "      <td>2809</td>\n",
              "      <td>44828816</td>\n",
              "      <td>NaN</td>\n",
              "      <td>NaN</td>\n",
              "    </tr>\n",
              "    <tr>\n",
              "      <th>2</th>\n",
              "      <td>-6297447354934110463</td>\n",
              "      <td>1741351032930224901</td>\n",
              "      <td>435515</td>\n",
              "      <td>2179-07-24</td>\n",
              "      <td>2179-07-24 18:21:00</td>\n",
              "      <td>2179-07-28</td>\n",
              "      <td>2179-07-28 15:54:00</td>\n",
              "      <td>32821</td>\n",
              "      <td>NaN</td>\n",
              "      <td>NaN</td>\n",
              "      <td>-5779522865065417426</td>\n",
              "      <td>NaN</td>\n",
              "      <td>2761</td>\n",
              "      <td>44822952</td>\n",
              "      <td>NaN</td>\n",
              "      <td>NaN</td>\n",
              "    </tr>\n",
              "    <tr>\n",
              "      <th>3</th>\n",
              "      <td>3131132784874295309</td>\n",
              "      <td>1741351032930224901</td>\n",
              "      <td>436096</td>\n",
              "      <td>2179-07-24</td>\n",
              "      <td>2179-07-24 18:21:00</td>\n",
              "      <td>2179-07-28</td>\n",
              "      <td>2179-07-28 15:54:00</td>\n",
              "      <td>32821</td>\n",
              "      <td>NaN</td>\n",
              "      <td>NaN</td>\n",
              "      <td>-5779522865065417426</td>\n",
              "      <td>NaN</td>\n",
              "      <td>33829</td>\n",
              "      <td>44834629</td>\n",
              "      <td>NaN</td>\n",
              "      <td>NaN</td>\n",
              "    </tr>\n",
              "    <tr>\n",
              "      <th>4</th>\n",
              "      <td>2246709778332812674</td>\n",
              "      <td>1741351032930224901</td>\n",
              "      <td>440383</td>\n",
              "      <td>2179-07-24</td>\n",
              "      <td>2179-07-24 18:21:00</td>\n",
              "      <td>2179-07-28</td>\n",
              "      <td>2179-07-28 15:54:00</td>\n",
              "      <td>32821</td>\n",
              "      <td>NaN</td>\n",
              "      <td>NaN</td>\n",
              "      <td>-5779522865065417426</td>\n",
              "      <td>NaN</td>\n",
              "      <td>311</td>\n",
              "      <td>44833421</td>\n",
              "      <td>NaN</td>\n",
              "      <td>NaN</td>\n",
              "    </tr>\n",
              "    <tr>\n",
              "      <th>...</th>\n",
              "      <td>...</td>\n",
              "      <td>...</td>\n",
              "      <td>...</td>\n",
              "      <td>...</td>\n",
              "      <td>...</td>\n",
              "      <td>...</td>\n",
              "      <td>...</td>\n",
              "      <td>...</td>\n",
              "      <td>...</td>\n",
              "      <td>...</td>\n",
              "      <td>...</td>\n",
              "      <td>...</td>\n",
              "      <td>...</td>\n",
              "      <td>...</td>\n",
              "      <td>...</td>\n",
              "      <td>...</td>\n",
              "    </tr>\n",
              "    <tr>\n",
              "      <th>16436</th>\n",
              "      <td>5160751222712405682</td>\n",
              "      <td>-1210657672714831684</td>\n",
              "      <td>4064452</td>\n",
              "      <td>2134-01-01</td>\n",
              "      <td>2134-01-01 08:00:00</td>\n",
              "      <td>2134-01-01</td>\n",
              "      <td>2134-01-01 08:00:00</td>\n",
              "      <td>32817</td>\n",
              "      <td>NaN</td>\n",
              "      <td>NaN</td>\n",
              "      <td>-3312868479314057914</td>\n",
              "      <td>NaN</td>\n",
              "      <td>AF (Atrial Fibrillation)</td>\n",
              "      <td>2000031019</td>\n",
              "      <td>NaN</td>\n",
              "      <td>NaN</td>\n",
              "    </tr>\n",
              "    <tr>\n",
              "      <th>16437</th>\n",
              "      <td>7817722518091634880</td>\n",
              "      <td>-1210657672714831684</td>\n",
              "      <td>4064452</td>\n",
              "      <td>2134-01-01</td>\n",
              "      <td>2134-01-01 12:00:00</td>\n",
              "      <td>2134-01-01</td>\n",
              "      <td>2134-01-01 12:00:00</td>\n",
              "      <td>32817</td>\n",
              "      <td>NaN</td>\n",
              "      <td>NaN</td>\n",
              "      <td>-3312868479314057914</td>\n",
              "      <td>NaN</td>\n",
              "      <td>AF (Atrial Fibrillation)</td>\n",
              "      <td>2000031019</td>\n",
              "      <td>NaN</td>\n",
              "      <td>NaN</td>\n",
              "    </tr>\n",
              "    <tr>\n",
              "      <th>16438</th>\n",
              "      <td>5631597446422224513</td>\n",
              "      <td>-1210657672714831684</td>\n",
              "      <td>4064452</td>\n",
              "      <td>2134-01-01</td>\n",
              "      <td>2134-01-01 14:00:00</td>\n",
              "      <td>2134-01-01</td>\n",
              "      <td>2134-01-01 14:00:00</td>\n",
              "      <td>32817</td>\n",
              "      <td>NaN</td>\n",
              "      <td>NaN</td>\n",
              "      <td>-3312868479314057914</td>\n",
              "      <td>NaN</td>\n",
              "      <td>AF (Atrial Fibrillation)</td>\n",
              "      <td>2000031019</td>\n",
              "      <td>NaN</td>\n",
              "      <td>NaN</td>\n",
              "    </tr>\n",
              "    <tr>\n",
              "      <th>16439</th>\n",
              "      <td>8817407860694965134</td>\n",
              "      <td>-1210657672714831684</td>\n",
              "      <td>4064452</td>\n",
              "      <td>2134-01-01</td>\n",
              "      <td>2134-01-01 13:00:00</td>\n",
              "      <td>2134-01-01</td>\n",
              "      <td>2134-01-01 13:00:00</td>\n",
              "      <td>32817</td>\n",
              "      <td>NaN</td>\n",
              "      <td>NaN</td>\n",
              "      <td>-3312868479314057914</td>\n",
              "      <td>NaN</td>\n",
              "      <td>AF (Atrial Fibrillation)</td>\n",
              "      <td>2000031019</td>\n",
              "      <td>NaN</td>\n",
              "      <td>NaN</td>\n",
              "    </tr>\n",
              "    <tr>\n",
              "      <th>16440</th>\n",
              "      <td>-3089187292354338535</td>\n",
              "      <td>-1210657672714831684</td>\n",
              "      <td>4064452</td>\n",
              "      <td>2134-01-01</td>\n",
              "      <td>2134-01-01 02:00:00</td>\n",
              "      <td>2134-01-01</td>\n",
              "      <td>2134-01-01 02:00:00</td>\n",
              "      <td>32817</td>\n",
              "      <td>NaN</td>\n",
              "      <td>NaN</td>\n",
              "      <td>-3312868479314057914</td>\n",
              "      <td>NaN</td>\n",
              "      <td>AF (Atrial Fibrillation)</td>\n",
              "      <td>2000031019</td>\n",
              "      <td>NaN</td>\n",
              "      <td>NaN</td>\n",
              "    </tr>\n",
              "  </tbody>\n",
              "</table>\n",
              "<p>16441 rows × 16 columns</p>\n",
              "</div>"
            ],
            "text/plain": [
              "       condition_occurrence_id  ...  condition_status_concept_id\n",
              "0          7000818053728441484  ...                          NaN\n",
              "1         -3514320024333679102  ...                          NaN\n",
              "2         -6297447354934110463  ...                          NaN\n",
              "3          3131132784874295309  ...                          NaN\n",
              "4          2246709778332812674  ...                          NaN\n",
              "...                        ...  ...                          ...\n",
              "16436      5160751222712405682  ...                          NaN\n",
              "16437      7817722518091634880  ...                          NaN\n",
              "16438      5631597446422224513  ...                          NaN\n",
              "16439      8817407860694965134  ...                          NaN\n",
              "16440     -3089187292354338535  ...                          NaN\n",
              "\n",
              "[16441 rows x 16 columns]"
            ]
          },
          "metadata": {
            "tags": []
          },
          "execution_count": 18
        }
      ]
    },
    {
      "cell_type": "markdown",
      "metadata": {
        "id": "8OLKZ36vkFCr"
      },
      "source": [
        "#### Some data quality check"
      ]
    },
    {
      "cell_type": "code",
      "metadata": {
        "id": "2bOlgaJ9Vb9k"
      },
      "source": [
        "diag['condition_source_value']=diag['condition_source_value'].str.strip()\n",
        "v_diag=diag[diag['condition_source_value'].str.strip().str.lower().str.startswith('v')][['condition_source_value','condition_type_concept_id']].drop_duplicates() #32821 are normal diagnosis, 32817 are those derived from ECG/notes\n",
        "e_diag=diag[diag['condition_source_value'].str.strip().str.lower().str.startswith(('e0','e8','e9'))][['condition_source_value','condition_type_concept_id']].drop_duplicates() #32821 are normal diagnosis, 32817 are those derived from ECG/notes\n"
      ],
      "execution_count": null,
      "outputs": []
    },
    {
      "cell_type": "code",
      "metadata": {
        "id": "DlkAQzUxWcDD",
        "colab": {
          "base_uri": "https://localhost:8080/",
          "height": 359
        },
        "outputId": "17812a9f-a2cf-4d38-93d4-e7df4c8b252b"
      },
      "source": [
        "diag_desc = pd.read_csv(mimic4_path+'/hosp/d_icd_diagnoses.csv.gz', compression='gzip', header=0)\n",
        "v_diag=v_diag.merge(diag_desc, how='left' ,left_on='condition_source_value',right_on='icd_code')\n",
        "v_diag[v_diag['icd_code'].duplicated(keep=False)]"
      ],
      "execution_count": null,
      "outputs": [
        {
          "output_type": "execute_result",
          "data": {
            "text/html": [
              "<div>\n",
              "<style scoped>\n",
              "    .dataframe tbody tr th:only-of-type {\n",
              "        vertical-align: middle;\n",
              "    }\n",
              "\n",
              "    .dataframe tbody tr th {\n",
              "        vertical-align: top;\n",
              "    }\n",
              "\n",
              "    .dataframe thead th {\n",
              "        text-align: right;\n",
              "    }\n",
              "</style>\n",
              "<table border=\"1\" class=\"dataframe\">\n",
              "  <thead>\n",
              "    <tr style=\"text-align: right;\">\n",
              "      <th></th>\n",
              "      <th>condition_source_value</th>\n",
              "      <th>condition_type_concept_id</th>\n",
              "      <th>icd_code</th>\n",
              "      <th>icd_version</th>\n",
              "      <th>long_title</th>\n",
              "    </tr>\n",
              "  </thead>\n",
              "  <tbody>\n",
              "    <tr>\n",
              "      <th>3</th>\n",
              "      <td>V462</td>\n",
              "      <td>32821</td>\n",
              "      <td>V462</td>\n",
              "      <td>9.0</td>\n",
              "      <td>Other dependence on machines, supplemental oxygen</td>\n",
              "    </tr>\n",
              "    <tr>\n",
              "      <th>4</th>\n",
              "      <td>V462</td>\n",
              "      <td>32821</td>\n",
              "      <td>V462</td>\n",
              "      <td>10.0</td>\n",
              "      <td>Person on outside of car injured in collision ...</td>\n",
              "    </tr>\n",
              "    <tr>\n",
              "      <th>7</th>\n",
              "      <td>V641</td>\n",
              "      <td>32821</td>\n",
              "      <td>V641</td>\n",
              "      <td>9.0</td>\n",
              "      <td>Surgical or other procedure not carried out be...</td>\n",
              "    </tr>\n",
              "    <tr>\n",
              "      <th>8</th>\n",
              "      <td>V641</td>\n",
              "      <td>32821</td>\n",
              "      <td>V641</td>\n",
              "      <td>10.0</td>\n",
              "      <td>Passenger in heavy transport vehicle injured i...</td>\n",
              "    </tr>\n",
              "    <tr>\n",
              "      <th>9</th>\n",
              "      <td>V643</td>\n",
              "      <td>32821</td>\n",
              "      <td>V643</td>\n",
              "      <td>9.0</td>\n",
              "      <td>Procedure not carried out for other reasons</td>\n",
              "    </tr>\n",
              "    <tr>\n",
              "      <th>10</th>\n",
              "      <td>V643</td>\n",
              "      <td>32821</td>\n",
              "      <td>V643</td>\n",
              "      <td>10.0</td>\n",
              "      <td>Unspecified occupant of heavy transport vehicl...</td>\n",
              "    </tr>\n",
              "    <tr>\n",
              "      <th>14</th>\n",
              "      <td>V860</td>\n",
              "      <td>32821</td>\n",
              "      <td>V860</td>\n",
              "      <td>9.0</td>\n",
              "      <td>Estrogen receptor positive status [ER+]</td>\n",
              "    </tr>\n",
              "    <tr>\n",
              "      <th>15</th>\n",
              "      <td>V860</td>\n",
              "      <td>32821</td>\n",
              "      <td>V860</td>\n",
              "      <td>10.0</td>\n",
              "      <td>Driver of special all-terrain or other off-roa...</td>\n",
              "    </tr>\n",
              "    <tr>\n",
              "      <th>17</th>\n",
              "      <td>V090</td>\n",
              "      <td>32821</td>\n",
              "      <td>V090</td>\n",
              "      <td>9.0</td>\n",
              "      <td>Infection with microorganisms resistant to pen...</td>\n",
              "    </tr>\n",
              "    <tr>\n",
              "      <th>18</th>\n",
              "      <td>V090</td>\n",
              "      <td>32821</td>\n",
              "      <td>V090</td>\n",
              "      <td>10.0</td>\n",
              "      <td>Pedestrian injured in nontraffic accident invo...</td>\n",
              "    </tr>\n",
              "  </tbody>\n",
              "</table>\n",
              "</div>"
            ],
            "text/plain": [
              "   condition_source_value  ...                                         long_title\n",
              "3                    V462  ...  Other dependence on machines, supplemental oxygen\n",
              "4                    V462  ...  Person on outside of car injured in collision ...\n",
              "7                    V641  ...  Surgical or other procedure not carried out be...\n",
              "8                    V641  ...  Passenger in heavy transport vehicle injured i...\n",
              "9                    V643  ...        Procedure not carried out for other reasons\n",
              "10                   V643  ...  Unspecified occupant of heavy transport vehicl...\n",
              "14                   V860  ...            Estrogen receptor positive status [ER+]\n",
              "15                   V860  ...  Driver of special all-terrain or other off-roa...\n",
              "17                   V090  ...  Infection with microorganisms resistant to pen...\n",
              "18                   V090  ...  Pedestrian injured in nontraffic accident invo...\n",
              "\n",
              "[10 rows x 5 columns]"
            ]
          },
          "metadata": {
            "tags": []
          },
          "execution_count": 20
        }
      ]
    },
    {
      "cell_type": "code",
      "metadata": {
        "id": "iKeNk7u5WtaI",
        "colab": {
          "base_uri": "https://localhost:8080/",
          "height": 235
        },
        "outputId": "24a54bdc-afac-401f-94db-58415fcf2fb8"
      },
      "source": [
        "e_diag=e_diag.merge(diag_desc, how='left' ,left_on='condition_source_value',right_on='icd_code')\n",
        "e_diag[e_diag['icd_code'].duplicated(keep=False)]"
      ],
      "execution_count": null,
      "outputs": [
        {
          "output_type": "execute_result",
          "data": {
            "text/html": [
              "<div>\n",
              "<style scoped>\n",
              "    .dataframe tbody tr th:only-of-type {\n",
              "        vertical-align: middle;\n",
              "    }\n",
              "\n",
              "    .dataframe tbody tr th {\n",
              "        vertical-align: top;\n",
              "    }\n",
              "\n",
              "    .dataframe thead th {\n",
              "        text-align: right;\n",
              "    }\n",
              "</style>\n",
              "<table border=\"1\" class=\"dataframe\">\n",
              "  <thead>\n",
              "    <tr style=\"text-align: right;\">\n",
              "      <th></th>\n",
              "      <th>condition_source_value</th>\n",
              "      <th>condition_type_concept_id</th>\n",
              "      <th>icd_code</th>\n",
              "      <th>icd_version</th>\n",
              "      <th>long_title</th>\n",
              "    </tr>\n",
              "  </thead>\n",
              "  <tbody>\n",
              "    <tr>\n",
              "      <th>12</th>\n",
              "      <td>E8809</td>\n",
              "      <td>32821</td>\n",
              "      <td>E8809</td>\n",
              "      <td>9</td>\n",
              "      <td>Accidental fall on or from other stairs or steps</td>\n",
              "    </tr>\n",
              "    <tr>\n",
              "      <th>13</th>\n",
              "      <td>E8809</td>\n",
              "      <td>32821</td>\n",
              "      <td>E8809</td>\n",
              "      <td>10</td>\n",
              "      <td>Other disorders of plasma-protein metabolism, ...</td>\n",
              "    </tr>\n",
              "    <tr>\n",
              "      <th>23</th>\n",
              "      <td>E8339</td>\n",
              "      <td>32821</td>\n",
              "      <td>E8339</td>\n",
              "      <td>9</td>\n",
              "      <td>Fall on stairs or ladders in water transport i...</td>\n",
              "    </tr>\n",
              "    <tr>\n",
              "      <th>24</th>\n",
              "      <td>E8339</td>\n",
              "      <td>32821</td>\n",
              "      <td>E8339</td>\n",
              "      <td>10</td>\n",
              "      <td>Other disorders of phosphorus metabolism</td>\n",
              "    </tr>\n",
              "    <tr>\n",
              "      <th>29</th>\n",
              "      <td>E8881</td>\n",
              "      <td>32821</td>\n",
              "      <td>E8881</td>\n",
              "      <td>9</td>\n",
              "      <td>Fall resulting in striking against other object</td>\n",
              "    </tr>\n",
              "    <tr>\n",
              "      <th>30</th>\n",
              "      <td>E8881</td>\n",
              "      <td>32821</td>\n",
              "      <td>E8881</td>\n",
              "      <td>10</td>\n",
              "      <td>Metabolic syndrome</td>\n",
              "    </tr>\n",
              "  </tbody>\n",
              "</table>\n",
              "</div>"
            ],
            "text/plain": [
              "   condition_source_value  ...                                         long_title\n",
              "12                  E8809  ...   Accidental fall on or from other stairs or steps\n",
              "13                  E8809  ...  Other disorders of plasma-protein metabolism, ...\n",
              "23                  E8339  ...  Fall on stairs or ladders in water transport i...\n",
              "24                  E8339  ...           Other disorders of phosphorus metabolism\n",
              "29                  E8881  ...    Fall resulting in striking against other object\n",
              "30                  E8881  ...                                 Metabolic syndrome\n",
              "\n",
              "[6 rows x 5 columns]"
            ]
          },
          "metadata": {
            "tags": []
          },
          "execution_count": 21
        }
      ]
    },
    {
      "cell_type": "code",
      "metadata": {
        "id": "fjHPd5POXHSo",
        "colab": {
          "base_uri": "https://localhost:8080/"
        },
        "outputId": "a3be30cf-11f7-460e-9e9e-7fad2be4e78f"
      },
      "source": [
        "pts_toexclude=diag[diag['condition_source_value'].isin(['E8809','E8339','E8881','V090','V860','V462','V641','V643'])]['person_id'].unique().tolist()\n",
        "len(pts_toexclude)"
      ],
      "execution_count": null,
      "outputs": [
        {
          "output_type": "execute_result",
          "data": {
            "text/plain": [
              "11"
            ]
          },
          "metadata": {
            "tags": []
          },
          "execution_count": 22
        }
      ]
    },
    {
      "cell_type": "code",
      "metadata": {
        "id": "YzgVycY2YcI3",
        "colab": {
          "base_uri": "https://localhost:8080/",
          "height": 173
        },
        "outputId": "807897d6-939a-4978-8c1a-5e6dd4ac2c79"
      },
      "source": [
        "pt_died[pt_died['person_id'].isin(pts_toexclude)] ### I will exclude 4 out of originally 14 cases :), It is a decision point, exclude the whole pt or just those diag records, I prefer to exclude the full patient if it is a small % but for the sake of the demo, I'll only drop those diag and similarly procedures"
      ],
      "execution_count": null,
      "outputs": [
        {
          "output_type": "execute_result",
          "data": {
            "text/html": [
              "<div>\n",
              "<style scoped>\n",
              "    .dataframe tbody tr th:only-of-type {\n",
              "        vertical-align: middle;\n",
              "    }\n",
              "\n",
              "    .dataframe tbody tr th {\n",
              "        vertical-align: top;\n",
              "    }\n",
              "\n",
              "    .dataframe thead th {\n",
              "        text-align: right;\n",
              "    }\n",
              "</style>\n",
              "<table border=\"1\" class=\"dataframe\">\n",
              "  <thead>\n",
              "    <tr style=\"text-align: right;\">\n",
              "      <th></th>\n",
              "      <th>person_id</th>\n",
              "      <th>death_date</th>\n",
              "    </tr>\n",
              "  </thead>\n",
              "  <tbody>\n",
              "    <tr>\n",
              "      <th>2</th>\n",
              "      <td>1194579079287927665</td>\n",
              "      <td>2177-03-29</td>\n",
              "    </tr>\n",
              "    <tr>\n",
              "      <th>8</th>\n",
              "      <td>-3908355835367628651</td>\n",
              "      <td>2137-09-02</td>\n",
              "    </tr>\n",
              "    <tr>\n",
              "      <th>9</th>\n",
              "      <td>4783904755296699562</td>\n",
              "      <td>2116-03-12</td>\n",
              "    </tr>\n",
              "    <tr>\n",
              "      <th>13</th>\n",
              "      <td>-9066461348710750663</td>\n",
              "      <td>2185-01-22</td>\n",
              "    </tr>\n",
              "  </tbody>\n",
              "</table>\n",
              "</div>"
            ],
            "text/plain": [
              "              person_id  death_date\n",
              "2   1194579079287927665  2177-03-29\n",
              "8  -3908355835367628651  2137-09-02\n",
              "9   4783904755296699562  2116-03-12\n",
              "13 -9066461348710750663  2185-01-22"
            ]
          },
          "metadata": {
            "tags": []
          },
          "execution_count": 23
        }
      ]
    },
    {
      "cell_type": "code",
      "metadata": {
        "id": "eIwDY8kZaZtN",
        "colab": {
          "base_uri": "https://localhost:8080/",
          "height": 419
        },
        "outputId": "8f3996d7-095f-473a-b892-f0dfc17bb267"
      },
      "source": [
        "proc_o = pd.read_csv(mimic4_omop_pth+'procedure_occurrence.csv', header=0)\n",
        "proc_o[['person_id','procedure_source_value','procedure_datetime','visit_occurrence_id']]"
      ],
      "execution_count": null,
      "outputs": [
        {
          "output_type": "execute_result",
          "data": {
            "text/html": [
              "<div>\n",
              "<style scoped>\n",
              "    .dataframe tbody tr th:only-of-type {\n",
              "        vertical-align: middle;\n",
              "    }\n",
              "\n",
              "    .dataframe tbody tr th {\n",
              "        vertical-align: top;\n",
              "    }\n",
              "\n",
              "    .dataframe thead th {\n",
              "        text-align: right;\n",
              "    }\n",
              "</style>\n",
              "<table border=\"1\" class=\"dataframe\">\n",
              "  <thead>\n",
              "    <tr style=\"text-align: right;\">\n",
              "      <th></th>\n",
              "      <th>person_id</th>\n",
              "      <th>procedure_source_value</th>\n",
              "      <th>procedure_datetime</th>\n",
              "      <th>visit_occurrence_id</th>\n",
              "    </tr>\n",
              "  </thead>\n",
              "  <tbody>\n",
              "    <tr>\n",
              "      <th>0</th>\n",
              "      <td>4783904755296699562</td>\n",
              "      <td>19301</td>\n",
              "      <td>2113-07-18 14:55:00</td>\n",
              "      <td>-433474223361412760</td>\n",
              "    </tr>\n",
              "    <tr>\n",
              "      <th>1</th>\n",
              "      <td>7918537411740862407</td>\n",
              "      <td>19303</td>\n",
              "      <td>2129-10-30 13:20:00</td>\n",
              "      <td>7730200099818586525</td>\n",
              "    </tr>\n",
              "    <tr>\n",
              "      <th>2</th>\n",
              "      <td>4498126063475867818</td>\n",
              "      <td>27235</td>\n",
              "      <td>2157-07-18 16:49:00</td>\n",
              "      <td>2514722389640694708</td>\n",
              "    </tr>\n",
              "    <tr>\n",
              "      <th>3</th>\n",
              "      <td>8090044958540695372</td>\n",
              "      <td>36252</td>\n",
              "      <td>2143-03-19 12:00:00</td>\n",
              "      <td>6734319289435533605</td>\n",
              "    </tr>\n",
              "    <tr>\n",
              "      <th>4</th>\n",
              "      <td>5863607150722936210</td>\n",
              "      <td>36830</td>\n",
              "      <td>2142-07-07 16:40:00</td>\n",
              "      <td>-5935156580867756808</td>\n",
              "    </tr>\n",
              "    <tr>\n",
              "      <th>...</th>\n",
              "      <td>...</td>\n",
              "      <td>...</td>\n",
              "      <td>...</td>\n",
              "      <td>...</td>\n",
              "    </tr>\n",
              "    <tr>\n",
              "      <th>18442</th>\n",
              "      <td>-3908355835367628651</td>\n",
              "      <td>BT1DYZZ</td>\n",
              "      <td>2137-09-02 17:05:00</td>\n",
              "      <td>-3115724380369486208</td>\n",
              "    </tr>\n",
              "    <tr>\n",
              "      <th>18443</th>\n",
              "      <td>-3908355835367628651</td>\n",
              "      <td>BT1FYZZ</td>\n",
              "      <td>2137-09-02 17:05:00</td>\n",
              "      <td>-3115724380369486208</td>\n",
              "    </tr>\n",
              "    <tr>\n",
              "      <th>18444</th>\n",
              "      <td>-6225647829918357531</td>\n",
              "      <td>D7021ZZ</td>\n",
              "      <td>2155-05-19 18:27:00</td>\n",
              "      <td>-6661057387050813606</td>\n",
              "    </tr>\n",
              "    <tr>\n",
              "      <th>18445</th>\n",
              "      <td>-6225647829918357531</td>\n",
              "      <td>D7021ZZ</td>\n",
              "      <td>2155-06-15 16:30:00</td>\n",
              "      <td>-8296465610050985060</td>\n",
              "    </tr>\n",
              "    <tr>\n",
              "      <th>18446</th>\n",
              "      <td>4352191084057402257</td>\n",
              "      <td>DW021ZZ</td>\n",
              "      <td>2135-01-19 18:36:00</td>\n",
              "      <td>-6997065935457482721</td>\n",
              "    </tr>\n",
              "  </tbody>\n",
              "</table>\n",
              "<p>18447 rows × 4 columns</p>\n",
              "</div>"
            ],
            "text/plain": [
              "                 person_id  ...  visit_occurrence_id\n",
              "0      4783904755296699562  ...  -433474223361412760\n",
              "1      7918537411740862407  ...  7730200099818586525\n",
              "2      4498126063475867818  ...  2514722389640694708\n",
              "3      8090044958540695372  ...  6734319289435533605\n",
              "4      5863607150722936210  ... -5935156580867756808\n",
              "...                    ...  ...                  ...\n",
              "18442 -3908355835367628651  ... -3115724380369486208\n",
              "18443 -3908355835367628651  ... -3115724380369486208\n",
              "18444 -6225647829918357531  ... -6661057387050813606\n",
              "18445 -6225647829918357531  ... -8296465610050985060\n",
              "18446  4352191084057402257  ... -6997065935457482721\n",
              "\n",
              "[18447 rows x 4 columns]"
            ]
          },
          "metadata": {
            "tags": []
          },
          "execution_count": 24
        }
      ]
    },
    {
      "cell_type": "code",
      "metadata": {
        "id": "X3140QNka6gF",
        "colab": {
          "base_uri": "https://localhost:8080/",
          "height": 419
        },
        "outputId": "46e4ad26-118c-45ef-efda-494155d297e8"
      },
      "source": [
        "proc_desc = pd.read_csv(mimic4_path+'/hosp/d_icd_procedures.csv.gz', compression='gzip', header=0)\n",
        "#proc_desc['icd_code']=proc_desc['icd_code'].str.strip()\n",
        "proc_codes=proc_o[['procedure_source_value','procedure_type_concept_id']].drop_duplicates() #32821 are normal diagnosis, 32817 are those derived from ECG/notes\n",
        "proc_codes['procedure_source_value']=proc_codes['procedure_source_value'].str.strip()\n",
        "proc_codes=proc_codes.merge(proc_desc, how='left' ,left_on='procedure_source_value',right_on='icd_code')\n",
        "proc_codes"
      ],
      "execution_count": null,
      "outputs": [
        {
          "output_type": "execute_result",
          "data": {
            "text/html": [
              "<div>\n",
              "<style scoped>\n",
              "    .dataframe tbody tr th:only-of-type {\n",
              "        vertical-align: middle;\n",
              "    }\n",
              "\n",
              "    .dataframe tbody tr th {\n",
              "        vertical-align: top;\n",
              "    }\n",
              "\n",
              "    .dataframe thead th {\n",
              "        text-align: right;\n",
              "    }\n",
              "</style>\n",
              "<table border=\"1\" class=\"dataframe\">\n",
              "  <thead>\n",
              "    <tr style=\"text-align: right;\">\n",
              "      <th></th>\n",
              "      <th>procedure_source_value</th>\n",
              "      <th>procedure_type_concept_id</th>\n",
              "      <th>icd_code</th>\n",
              "      <th>icd_version</th>\n",
              "      <th>long_title</th>\n",
              "    </tr>\n",
              "  </thead>\n",
              "  <tbody>\n",
              "    <tr>\n",
              "      <th>0</th>\n",
              "      <td>19301</td>\n",
              "      <td>32821</td>\n",
              "      <td>NaN</td>\n",
              "      <td>NaN</td>\n",
              "      <td>NaN</td>\n",
              "    </tr>\n",
              "    <tr>\n",
              "      <th>1</th>\n",
              "      <td>19303</td>\n",
              "      <td>32821</td>\n",
              "      <td>NaN</td>\n",
              "      <td>NaN</td>\n",
              "      <td>NaN</td>\n",
              "    </tr>\n",
              "    <tr>\n",
              "      <th>2</th>\n",
              "      <td>27235</td>\n",
              "      <td>32821</td>\n",
              "      <td>NaN</td>\n",
              "      <td>NaN</td>\n",
              "      <td>NaN</td>\n",
              "    </tr>\n",
              "    <tr>\n",
              "      <th>3</th>\n",
              "      <td>36252</td>\n",
              "      <td>32821</td>\n",
              "      <td>NaN</td>\n",
              "      <td>NaN</td>\n",
              "      <td>NaN</td>\n",
              "    </tr>\n",
              "    <tr>\n",
              "      <th>4</th>\n",
              "      <td>36830</td>\n",
              "      <td>32821</td>\n",
              "      <td>NaN</td>\n",
              "      <td>NaN</td>\n",
              "      <td>NaN</td>\n",
              "    </tr>\n",
              "    <tr>\n",
              "      <th>...</th>\n",
              "      <td>...</td>\n",
              "      <td>...</td>\n",
              "      <td>...</td>\n",
              "      <td>...</td>\n",
              "      <td>...</td>\n",
              "    </tr>\n",
              "    <tr>\n",
              "      <th>306</th>\n",
              "      <td>B54BZZA</td>\n",
              "      <td>32821</td>\n",
              "      <td>B54BZZA</td>\n",
              "      <td>10.0</td>\n",
              "      <td>Ultrasonography of Right Lower Extremity Veins...</td>\n",
              "    </tr>\n",
              "    <tr>\n",
              "      <th>307</th>\n",
              "      <td>BT1DYZZ</td>\n",
              "      <td>32821</td>\n",
              "      <td>BT1DYZZ</td>\n",
              "      <td>10.0</td>\n",
              "      <td>Fluoroscopy of Right Kidney, Ureter and Bladde...</td>\n",
              "    </tr>\n",
              "    <tr>\n",
              "      <th>308</th>\n",
              "      <td>BT1FYZZ</td>\n",
              "      <td>32821</td>\n",
              "      <td>BT1FYZZ</td>\n",
              "      <td>10.0</td>\n",
              "      <td>Fluoroscopy of Left Kidney, Ureter and Bladder...</td>\n",
              "    </tr>\n",
              "    <tr>\n",
              "      <th>309</th>\n",
              "      <td>D7021ZZ</td>\n",
              "      <td>32821</td>\n",
              "      <td>D7021ZZ</td>\n",
              "      <td>10.0</td>\n",
              "      <td>Beam Radiation of Spleen using Photons 1 - 10 MeV</td>\n",
              "    </tr>\n",
              "    <tr>\n",
              "      <th>310</th>\n",
              "      <td>DW021ZZ</td>\n",
              "      <td>32821</td>\n",
              "      <td>DW021ZZ</td>\n",
              "      <td>10.0</td>\n",
              "      <td>Beam Radiation of Chest using Photons 1 - 10 MeV</td>\n",
              "    </tr>\n",
              "  </tbody>\n",
              "</table>\n",
              "<p>311 rows × 5 columns</p>\n",
              "</div>"
            ],
            "text/plain": [
              "    procedure_source_value  ...                                         long_title\n",
              "0                    19301  ...                                                NaN\n",
              "1                    19303  ...                                                NaN\n",
              "2                    27235  ...                                                NaN\n",
              "3                    36252  ...                                                NaN\n",
              "4                    36830  ...                                                NaN\n",
              "..                     ...  ...                                                ...\n",
              "306                B54BZZA  ...  Ultrasonography of Right Lower Extremity Veins...\n",
              "307                BT1DYZZ  ...  Fluoroscopy of Right Kidney, Ureter and Bladde...\n",
              "308                BT1FYZZ  ...  Fluoroscopy of Left Kidney, Ureter and Bladder...\n",
              "309                D7021ZZ  ...  Beam Radiation of Spleen using Photons 1 - 10 MeV\n",
              "310                DW021ZZ  ...   Beam Radiation of Chest using Photons 1 - 10 MeV\n",
              "\n",
              "[311 rows x 5 columns]"
            ]
          },
          "metadata": {
            "tags": []
          },
          "execution_count": 25
        }
      ]
    },
    {
      "cell_type": "code",
      "metadata": {
        "id": "ifBZhf8dc8lf",
        "colab": {
          "base_uri": "https://localhost:8080/",
          "height": 390
        },
        "outputId": "aff8363f-3f45-44f8-f8c9-179c6c985b64"
      },
      "source": [
        "proc_codes.describe(include='all')"
      ],
      "execution_count": null,
      "outputs": [
        {
          "output_type": "execute_result",
          "data": {
            "text/html": [
              "<div>\n",
              "<style scoped>\n",
              "    .dataframe tbody tr th:only-of-type {\n",
              "        vertical-align: middle;\n",
              "    }\n",
              "\n",
              "    .dataframe tbody tr th {\n",
              "        vertical-align: top;\n",
              "    }\n",
              "\n",
              "    .dataframe thead th {\n",
              "        text-align: right;\n",
              "    }\n",
              "</style>\n",
              "<table border=\"1\" class=\"dataframe\">\n",
              "  <thead>\n",
              "    <tr style=\"text-align: right;\">\n",
              "      <th></th>\n",
              "      <th>procedure_source_value</th>\n",
              "      <th>procedure_type_concept_id</th>\n",
              "      <th>icd_code</th>\n",
              "      <th>icd_version</th>\n",
              "      <th>long_title</th>\n",
              "    </tr>\n",
              "  </thead>\n",
              "  <tbody>\n",
              "    <tr>\n",
              "      <th>count</th>\n",
              "      <td>311</td>\n",
              "      <td>311.000000</td>\n",
              "      <td>159</td>\n",
              "      <td>159.0</td>\n",
              "      <td>159</td>\n",
              "    </tr>\n",
              "    <tr>\n",
              "      <th>unique</th>\n",
              "      <td>311</td>\n",
              "      <td>NaN</td>\n",
              "      <td>159</td>\n",
              "      <td>NaN</td>\n",
              "      <td>159</td>\n",
              "    </tr>\n",
              "    <tr>\n",
              "      <th>top</th>\n",
              "      <td>43237</td>\n",
              "      <td>NaN</td>\n",
              "      <td>0HB7XZX</td>\n",
              "      <td>NaN</td>\n",
              "      <td>Introduction of Other Therapeutic Substance in...</td>\n",
              "    </tr>\n",
              "    <tr>\n",
              "      <th>freq</th>\n",
              "      <td>1</td>\n",
              "      <td>NaN</td>\n",
              "      <td>1</td>\n",
              "      <td>NaN</td>\n",
              "      <td>1</td>\n",
              "    </tr>\n",
              "    <tr>\n",
              "      <th>mean</th>\n",
              "      <td>NaN</td>\n",
              "      <td>32826.141479</td>\n",
              "      <td>NaN</td>\n",
              "      <td>10.0</td>\n",
              "      <td>NaN</td>\n",
              "    </tr>\n",
              "    <tr>\n",
              "      <th>std</th>\n",
              "      <td>NaN</td>\n",
              "      <td>6.195674</td>\n",
              "      <td>NaN</td>\n",
              "      <td>0.0</td>\n",
              "      <td>NaN</td>\n",
              "    </tr>\n",
              "    <tr>\n",
              "      <th>min</th>\n",
              "      <td>NaN</td>\n",
              "      <td>32817.000000</td>\n",
              "      <td>NaN</td>\n",
              "      <td>10.0</td>\n",
              "      <td>NaN</td>\n",
              "    </tr>\n",
              "    <tr>\n",
              "      <th>25%</th>\n",
              "      <td>NaN</td>\n",
              "      <td>32821.000000</td>\n",
              "      <td>NaN</td>\n",
              "      <td>10.0</td>\n",
              "      <td>NaN</td>\n",
              "    </tr>\n",
              "    <tr>\n",
              "      <th>50%</th>\n",
              "      <td>NaN</td>\n",
              "      <td>32821.000000</td>\n",
              "      <td>NaN</td>\n",
              "      <td>10.0</td>\n",
              "      <td>NaN</td>\n",
              "    </tr>\n",
              "    <tr>\n",
              "      <th>75%</th>\n",
              "      <td>NaN</td>\n",
              "      <td>32833.000000</td>\n",
              "      <td>NaN</td>\n",
              "      <td>10.0</td>\n",
              "      <td>NaN</td>\n",
              "    </tr>\n",
              "    <tr>\n",
              "      <th>max</th>\n",
              "      <td>NaN</td>\n",
              "      <td>32856.000000</td>\n",
              "      <td>NaN</td>\n",
              "      <td>10.0</td>\n",
              "      <td>NaN</td>\n",
              "    </tr>\n",
              "  </tbody>\n",
              "</table>\n",
              "</div>"
            ],
            "text/plain": [
              "       procedure_source_value  ...                                         long_title\n",
              "count                     311  ...                                                159\n",
              "unique                    311  ...                                                159\n",
              "top                     43237  ...  Introduction of Other Therapeutic Substance in...\n",
              "freq                        1  ...                                                  1\n",
              "mean                      NaN  ...                                                NaN\n",
              "std                       NaN  ...                                                NaN\n",
              "min                       NaN  ...                                                NaN\n",
              "25%                       NaN  ...                                                NaN\n",
              "50%                       NaN  ...                                                NaN\n",
              "75%                       NaN  ...                                                NaN\n",
              "max                       NaN  ...                                                NaN\n",
              "\n",
              "[11 rows x 5 columns]"
            ]
          },
          "metadata": {
            "tags": []
          },
          "execution_count": 26
        }
      ]
    },
    {
      "cell_type": "code",
      "metadata": {
        "id": "khBhBpqxcep3",
        "colab": {
          "base_uri": "https://localhost:8080/",
          "height": 49
        },
        "outputId": "486a2da6-c093-441b-9edb-7e5350eac6d9"
      },
      "source": [
        "proc_desc[proc_desc['icd_code'].str.contains('36830')]"
      ],
      "execution_count": null,
      "outputs": [
        {
          "output_type": "execute_result",
          "data": {
            "text/html": [
              "<div>\n",
              "<style scoped>\n",
              "    .dataframe tbody tr th:only-of-type {\n",
              "        vertical-align: middle;\n",
              "    }\n",
              "\n",
              "    .dataframe tbody tr th {\n",
              "        vertical-align: top;\n",
              "    }\n",
              "\n",
              "    .dataframe thead th {\n",
              "        text-align: right;\n",
              "    }\n",
              "</style>\n",
              "<table border=\"1\" class=\"dataframe\">\n",
              "  <thead>\n",
              "    <tr style=\"text-align: right;\">\n",
              "      <th></th>\n",
              "      <th>icd_code</th>\n",
              "      <th>icd_version</th>\n",
              "      <th>long_title</th>\n",
              "    </tr>\n",
              "  </thead>\n",
              "  <tbody>\n",
              "  </tbody>\n",
              "</table>\n",
              "</div>"
            ],
            "text/plain": [
              "Empty DataFrame\n",
              "Columns: [icd_code, icd_version, long_title]\n",
              "Index: []"
            ]
          },
          "metadata": {
            "tags": []
          },
          "execution_count": 27
        }
      ]
    },
    {
      "cell_type": "code",
      "metadata": {
        "id": "vR72I5xqegB7",
        "colab": {
          "base_uri": "https://localhost:8080/"
        },
        "outputId": "9b505848-e349-4449-a80b-0b74736d4adf"
      },
      "source": [
        "proc[proc['icd_code'].str.contains('683')]['icd_code'].drop_duplicates()"
      ],
      "execution_count": null,
      "outputs": [
        {
          "output_type": "execute_result",
          "data": {
            "text/plain": [
              "40        6839\n",
              "856       8683\n",
              "7481      6831\n",
              "141081    5683\n",
              "Name: icd_code, dtype: object"
            ]
          },
          "metadata": {
            "tags": []
          },
          "execution_count": 28
        }
      ]
    },
    {
      "cell_type": "markdown",
      "metadata": {
        "id": "FvsUt13MgHP5"
      },
      "source": [
        "**something is wrong mainly because those code are CPT not ICD procedures** :) \n",
        "\n",
        "you can just google \"procedure icd 36830\" ---> again this is a decision point and for the sake of the demo, I will just ignore those, in real practice, I make sure I include them \n",
        "\n",
        "\n",
        "And here, where terminology normalization will be helpful ---- https://github.com/ZhiGroup/terminology_representation\n",
        "\n",
        "\n"
      ]
    },
    {
      "cell_type": "code",
      "metadata": {
        "id": "qjB9ZZzx9jwU",
        "colab": {
          "base_uri": "https://localhost:8080/",
          "height": 49
        },
        "outputId": "3dd6f4ce-e57b-47cd-d05b-2ae893e0de4f"
      },
      "source": [
        "proc_codes=proc_codes.dropna()\n",
        "proc_codes[proc_codes['icd_code'].duplicated(keep=False)] #### so no duplicates issue"
      ],
      "execution_count": null,
      "outputs": [
        {
          "output_type": "execute_result",
          "data": {
            "text/html": [
              "<div>\n",
              "<style scoped>\n",
              "    .dataframe tbody tr th:only-of-type {\n",
              "        vertical-align: middle;\n",
              "    }\n",
              "\n",
              "    .dataframe tbody tr th {\n",
              "        vertical-align: top;\n",
              "    }\n",
              "\n",
              "    .dataframe thead th {\n",
              "        text-align: right;\n",
              "    }\n",
              "</style>\n",
              "<table border=\"1\" class=\"dataframe\">\n",
              "  <thead>\n",
              "    <tr style=\"text-align: right;\">\n",
              "      <th></th>\n",
              "      <th>procedure_source_value</th>\n",
              "      <th>procedure_type_concept_id</th>\n",
              "      <th>icd_code</th>\n",
              "      <th>icd_version</th>\n",
              "      <th>long_title</th>\n",
              "    </tr>\n",
              "  </thead>\n",
              "  <tbody>\n",
              "  </tbody>\n",
              "</table>\n",
              "</div>"
            ],
            "text/plain": [
              "Empty DataFrame\n",
              "Columns: [procedure_source_value, procedure_type_concept_id, icd_code, icd_version, long_title]\n",
              "Index: []"
            ]
          },
          "metadata": {
            "tags": []
          },
          "execution_count": 29
        }
      ]
    },
    {
      "cell_type": "markdown",
      "metadata": {
        "id": "2o-mFLCHXCvE"
      },
      "source": [
        "##### Alternate way to prepocess the data using sql for example you can use the below code to create a sqlite database, and you can move to sql from there"
      ]
    },
    {
      "cell_type": "code",
      "metadata": {
        "id": "ld3ZMD2tt3XB"
      },
      "source": [
        "import sqlite3\n",
        "conn = sqlite3.connect(mo_db_pth+'mimic_omop.db')\n",
        "pts[['person_id','year_of_birth','gender_source_value','race_source_value','ethnicity_source_value']].to_sql('pts_omop', conn , if_exists='replace', index=False)\n",
        "vts[['person_id','visit_occurrence_id','visit_start_datetime','visit_end_datetime','admitting_source_value','discharge_to_source_value','preceding_visit_occurrence_id']].to_sql('visits_omop', conn , if_exists='replace', index=False)\n",
        "pd.read_csv(mimic4_omop_pth+'death.csv', header=0).to_sql('death_omop', conn , if_exists='replace', index=False)\n",
        "diag[['person_id','visit_occurrence_id','condition_source_value','condition_start_datetime','condition_end_datetime']].to_sql('diag_omop', conn , if_exists='replace', index=False)\n",
        "proc_o[['person_id','visit_occurrence_id','procedure_source_value','procedure_datetime']].to_sql('proc_omop', conn , if_exists='replace', index=False)\n",
        "diag_desc.to_sql('diag_desc', conn, if_exists='replace', index=False)\n",
        "proc_desc.to_sql('diag_desc', conn, if_exists='replace', index=False)\n",
        "conn.close()\n"
      ],
      "execution_count": null,
      "outputs": []
    }
  ]
}