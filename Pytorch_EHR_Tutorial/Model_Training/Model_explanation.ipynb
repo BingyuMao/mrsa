{
  "nbformat": 4,
  "nbformat_minor": 0,
  "metadata": {
    "colab": {
      "name": "Model_explanation.ipynb",
      "provenance": [],
      "collapsed_sections": []
    },
    "kernelspec": {
      "name": "python3",
      "display_name": "Python 3"
    },
    "language_info": {
      "name": "python"
    },
    "accelerator": "GPU"
  },
  "cells": [
    {
      "cell_type": "code",
      "metadata": {
        "colab": {
          "base_uri": "https://localhost:8080/"
        },
        "id": "I2J5wKqtlkhf",
        "outputId": "862202ad-9d09-4915-f032-60c3e8358734"
      },
      "source": [
        "### Mount your google drive ###\n",
        "from google.colab import drive\n",
        "drive.mount('/content/drive')"
      ],
      "execution_count": 1,
      "outputs": [
        {
          "output_type": "stream",
          "text": [
            "Drive already mounted at /content/drive; to attempt to forcibly remount, call drive.mount(\"/content/drive\", force_remount=True).\n"
          ],
          "name": "stdout"
        }
      ]
    },
    {
      "cell_type": "code",
      "metadata": {
        "colab": {
          "base_uri": "https://localhost:8080/"
        },
        "id": "41atKTM5mTRL",
        "outputId": "db9f4a50-5095-41a8-91fc-42307e365009"
      },
      "source": [
        "!pip install lifelines "
      ],
      "execution_count": 2,
      "outputs": [
        {
          "output_type": "stream",
          "text": [
            "Requirement already satisfied: lifelines in /usr/local/lib/python3.7/dist-packages (0.26.0)\n",
            "Requirement already satisfied: numpy>=1.14.0 in /usr/local/lib/python3.7/dist-packages (from lifelines) (1.19.5)\n",
            "Requirement already satisfied: autograd-gamma>=0.3 in /usr/local/lib/python3.7/dist-packages (from lifelines) (0.5.0)\n",
            "Requirement already satisfied: pandas>=0.23.0 in /usr/local/lib/python3.7/dist-packages (from lifelines) (1.1.5)\n",
            "Requirement already satisfied: formulaic<0.3,>=0.2.2 in /usr/local/lib/python3.7/dist-packages (from lifelines) (0.2.4)\n",
            "Requirement already satisfied: autograd>=1.3 in /usr/local/lib/python3.7/dist-packages (from lifelines) (1.3)\n",
            "Requirement already satisfied: matplotlib>=3.0 in /usr/local/lib/python3.7/dist-packages (from lifelines) (3.2.2)\n",
            "Requirement already satisfied: scipy>=1.2.0 in /usr/local/lib/python3.7/dist-packages (from lifelines) (1.4.1)\n",
            "Requirement already satisfied: future>=0.15.2 in /usr/local/lib/python3.7/dist-packages (from autograd>=1.3->lifelines) (0.16.0)\n",
            "Requirement already satisfied: wrapt in /usr/local/lib/python3.7/dist-packages (from formulaic<0.3,>=0.2.2->lifelines) (1.12.1)\n",
            "Requirement already satisfied: interface-meta>=1.2 in /usr/local/lib/python3.7/dist-packages (from formulaic<0.3,>=0.2.2->lifelines) (1.2.3)\n",
            "Requirement already satisfied: astor in /usr/local/lib/python3.7/dist-packages (from formulaic<0.3,>=0.2.2->lifelines) (0.8.1)\n",
            "Requirement already satisfied: pyparsing!=2.0.4,!=2.1.2,!=2.1.6,>=2.0.1 in /usr/local/lib/python3.7/dist-packages (from matplotlib>=3.0->lifelines) (2.4.7)\n",
            "Requirement already satisfied: python-dateutil>=2.1 in /usr/local/lib/python3.7/dist-packages (from matplotlib>=3.0->lifelines) (2.8.1)\n",
            "Requirement already satisfied: kiwisolver>=1.0.1 in /usr/local/lib/python3.7/dist-packages (from matplotlib>=3.0->lifelines) (1.3.1)\n",
            "Requirement already satisfied: cycler>=0.10 in /usr/local/lib/python3.7/dist-packages (from matplotlib>=3.0->lifelines) (0.10.0)\n",
            "Requirement already satisfied: six in /usr/local/lib/python3.7/dist-packages (from cycler>=0.10->matplotlib>=3.0->lifelines) (1.15.0)\n",
            "Requirement already satisfied: pytz>=2017.2 in /usr/local/lib/python3.7/dist-packages (from pandas>=0.23.0->lifelines) (2018.9)\n"
          ],
          "name": "stdout"
        }
      ]
    },
    {
      "cell_type": "code",
      "metadata": {
        "id": "b3gFmtazl7IG"
      },
      "source": [
        "import sys\n",
        "sys.path.insert(0,\"/content/drive/MyDrive/pytorch_ehr_internal/Pytorch_EHR_Tutorial/Model_Training/\")\n",
        "import pytorch_ehr\n",
        "import pytorch_ehr.explain_ig as exp"
      ],
      "execution_count": 3,
      "outputs": []
    },
    {
      "cell_type": "code",
      "metadata": {
        "id": "TGVpsmIQnREK"
      },
      "source": [
        "input_dir='/content/drive/MyDrive/pytorch_ehr_internal/Pytorch_EHR_Tutorial/Data_Prep/data/processed_data/'\n",
        "data_prefix='Mimic_PT_mortality_dp_v1'\n",
        "output_dir = '/content/drive/MyDrive/pytorch_ehr_internal/Pytorch_EHR_Tutorial/Model_Training/Model_output/'"
      ],
      "execution_count": 4,
      "outputs": []
    },
    {
      "cell_type": "code",
      "metadata": {
        "colab": {
          "base_uri": "https://localhost:8080/"
        },
        "id": "i2HYvTbWnRah",
        "outputId": "8792816d-1e97-413a-f216-f84dec9ca5b9"
      },
      "source": [
        "df=exp.calc_cont(output_dir+'ACM_BCB_t1.pth',input_dir+data_prefix+'.combined.test2',input_dir+data_prefix+'.types',input_dir+'code_desc.tsv','mort')"
      ],
      "execution_count": 5,
      "outputs": [
        {
          "output_type": "stream",
          "text": [
            "100%|██████████| 19/19 [00:00<00:00, 468.02it/s]"
          ],
          "name": "stderr"
        },
        {
          "output_type": "stream",
          "text": [
            "multilabel data processing\n"
          ],
          "name": "stdout"
        },
        {
          "output_type": "stream",
          "text": [
            "\n"
          ],
          "name": "stderr"
        }
      ]
    },
    {
      "cell_type": "code",
      "metadata": {
        "colab": {
          "base_uri": "https://localhost:8080/",
          "height": 419
        },
        "id": "2UPnb0FCns8C",
        "outputId": "051d9e3e-3346-4134-d9d9-2c22c88fecac"
      },
      "source": [
        "df"
      ],
      "execution_count": 6,
      "outputs": [
        {
          "output_type": "execute_result",
          "data": {
            "text/html": [
              "<div>\n",
              "<style scoped>\n",
              "    .dataframe tbody tr th:only-of-type {\n",
              "        vertical-align: middle;\n",
              "    }\n",
              "\n",
              "    .dataframe tbody tr th {\n",
              "        vertical-align: top;\n",
              "    }\n",
              "\n",
              "    .dataframe thead th {\n",
              "        text-align: right;\n",
              "    }\n",
              "</style>\n",
              "<table border=\"1\" class=\"dataframe\">\n",
              "  <thead>\n",
              "    <tr style=\"text-align: right;\">\n",
              "      <th></th>\n",
              "      <th>visit_ind</th>\n",
              "      <th>Time</th>\n",
              "      <th>token_pos</th>\n",
              "      <th>TOKEN_ID</th>\n",
              "      <th>DIAGNOSIS_ID</th>\n",
              "      <th>cont_score</th>\n",
              "      <th>cat</th>\n",
              "      <th>description</th>\n",
              "      <th>PT</th>\n",
              "      <th>True_label</th>\n",
              "      <th>predicted_score</th>\n",
              "    </tr>\n",
              "  </thead>\n",
              "  <tbody>\n",
              "    <tr>\n",
              "      <th>0</th>\n",
              "      <td>0</td>\n",
              "      <td>0.0</td>\n",
              "      <td>0</td>\n",
              "      <td>104</td>\n",
              "      <td>D_ICD10_Z66</td>\n",
              "      <td>0.104160</td>\n",
              "      <td>Diag</td>\n",
              "      <td>Do not resuscitate</td>\n",
              "      <td>0</td>\n",
              "      <td>1.0</td>\n",
              "      <td>0.304788</td>\n",
              "    </tr>\n",
              "    <tr>\n",
              "      <th>7</th>\n",
              "      <td>0</td>\n",
              "      <td>0.0</td>\n",
              "      <td>1</td>\n",
              "      <td>1741</td>\n",
              "      <td>D_ICD10_K2270</td>\n",
              "      <td>0.056550</td>\n",
              "      <td>Diag</td>\n",
              "      <td>Barrett's esophagus without dysplasia</td>\n",
              "      <td>0</td>\n",
              "      <td>1.0</td>\n",
              "      <td>0.304788</td>\n",
              "    </tr>\n",
              "    <tr>\n",
              "      <th>14</th>\n",
              "      <td>0</td>\n",
              "      <td>0.0</td>\n",
              "      <td>2</td>\n",
              "      <td>334</td>\n",
              "      <td>D_ICD10_K219</td>\n",
              "      <td>-0.025385</td>\n",
              "      <td>Diag</td>\n",
              "      <td>Gastro-esophageal reflux disease without esoph...</td>\n",
              "      <td>0</td>\n",
              "      <td>1.0</td>\n",
              "      <td>0.304788</td>\n",
              "    </tr>\n",
              "    <tr>\n",
              "      <th>21</th>\n",
              "      <td>0</td>\n",
              "      <td>0.0</td>\n",
              "      <td>3</td>\n",
              "      <td>1291</td>\n",
              "      <td>D_ICD10_I428</td>\n",
              "      <td>-0.025851</td>\n",
              "      <td>Diag</td>\n",
              "      <td>Other cardiomyopathies</td>\n",
              "      <td>0</td>\n",
              "      <td>1.0</td>\n",
              "      <td>0.304788</td>\n",
              "    </tr>\n",
              "    <tr>\n",
              "      <th>28</th>\n",
              "      <td>0</td>\n",
              "      <td>0.0</td>\n",
              "      <td>4</td>\n",
              "      <td>1909</td>\n",
              "      <td>D_ICD10_I361</td>\n",
              "      <td>0.022387</td>\n",
              "      <td>Diag</td>\n",
              "      <td>Nonrheumatic tricuspid (valve) insufficiency</td>\n",
              "      <td>0</td>\n",
              "      <td>1.0</td>\n",
              "      <td>0.304788</td>\n",
              "    </tr>\n",
              "    <tr>\n",
              "      <th>...</th>\n",
              "      <td>...</td>\n",
              "      <td>...</td>\n",
              "      <td>...</td>\n",
              "      <td>...</td>\n",
              "      <td>...</td>\n",
              "      <td>...</td>\n",
              "      <td>...</td>\n",
              "      <td>...</td>\n",
              "      <td>...</td>\n",
              "      <td>...</td>\n",
              "      <td>...</td>\n",
              "    </tr>\n",
              "    <tr>\n",
              "      <th>2</th>\n",
              "      <td>0</td>\n",
              "      <td>0.0</td>\n",
              "      <td>2</td>\n",
              "      <td>549</td>\n",
              "      <td>D_ICD9_E8490</td>\n",
              "      <td>0.020623</td>\n",
              "      <td>Diag</td>\n",
              "      <td>Home accidents</td>\n",
              "      <td>18</td>\n",
              "      <td>0.0</td>\n",
              "      <td>0.520305</td>\n",
              "    </tr>\n",
              "    <tr>\n",
              "      <th>3</th>\n",
              "      <td>0</td>\n",
              "      <td>0.0</td>\n",
              "      <td>3</td>\n",
              "      <td>398</td>\n",
              "      <td>D_ICD9_30500</td>\n",
              "      <td>-0.058810</td>\n",
              "      <td>Diag</td>\n",
              "      <td>Alcohol abuse, unspecified</td>\n",
              "      <td>18</td>\n",
              "      <td>0.0</td>\n",
              "      <td>0.520305</td>\n",
              "    </tr>\n",
              "    <tr>\n",
              "      <th>4</th>\n",
              "      <td>0</td>\n",
              "      <td>0.0</td>\n",
              "      <td>4</td>\n",
              "      <td>655</td>\n",
              "      <td>D_ICD9_E8809</td>\n",
              "      <td>0.219059</td>\n",
              "      <td>Diag</td>\n",
              "      <td>Accidental fall on or from other stairs or steps</td>\n",
              "      <td>18</td>\n",
              "      <td>0.0</td>\n",
              "      <td>0.520305</td>\n",
              "    </tr>\n",
              "    <tr>\n",
              "      <th>5</th>\n",
              "      <td>0</td>\n",
              "      <td>0.0</td>\n",
              "      <td>5</td>\n",
              "      <td>1719</td>\n",
              "      <td>D_ICD9_8600</td>\n",
              "      <td>0.098867</td>\n",
              "      <td>Diag</td>\n",
              "      <td>Traumatic pneumothorax without mention of open...</td>\n",
              "      <td>18</td>\n",
              "      <td>0.0</td>\n",
              "      <td>0.520305</td>\n",
              "    </tr>\n",
              "    <tr>\n",
              "      <th>6</th>\n",
              "      <td>0</td>\n",
              "      <td>0.0</td>\n",
              "      <td>6</td>\n",
              "      <td>646</td>\n",
              "      <td>P_ICD9_3404</td>\n",
              "      <td>0.115007</td>\n",
              "      <td>Proc</td>\n",
              "      <td>Insertion of intercostal catheter for drainage</td>\n",
              "      <td>18</td>\n",
              "      <td>0.0</td>\n",
              "      <td>0.520305</td>\n",
              "    </tr>\n",
              "  </tbody>\n",
              "</table>\n",
              "<p>573 rows × 11 columns</p>\n",
              "</div>"
            ],
            "text/plain": [
              "    visit_ind  Time token_pos  ...  PT True_label  predicted_score\n",
              "0           0   0.0         0  ...   0        1.0         0.304788\n",
              "7           0   0.0         1  ...   0        1.0         0.304788\n",
              "14          0   0.0         2  ...   0        1.0         0.304788\n",
              "21          0   0.0         3  ...   0        1.0         0.304788\n",
              "28          0   0.0         4  ...   0        1.0         0.304788\n",
              "..        ...   ...       ...  ...  ..        ...              ...\n",
              "2           0   0.0         2  ...  18        0.0         0.520305\n",
              "3           0   0.0         3  ...  18        0.0         0.520305\n",
              "4           0   0.0         4  ...  18        0.0         0.520305\n",
              "5           0   0.0         5  ...  18        0.0         0.520305\n",
              "6           0   0.0         6  ...  18        0.0         0.520305\n",
              "\n",
              "[573 rows x 11 columns]"
            ]
          },
          "metadata": {
            "tags": []
          },
          "execution_count": 6
        }
      ]
    }
  ]
}