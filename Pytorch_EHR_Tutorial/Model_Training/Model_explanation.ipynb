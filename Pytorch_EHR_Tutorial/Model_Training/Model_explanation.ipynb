{
  "nbformat": 4,
  "nbformat_minor": 0,
  "metadata": {
    "accelerator": "GPU",
    "colab": {
      "name": "Model_explanation.ipynb",
      "provenance": [],
      "collapsed_sections": []
    },
    "kernelspec": {
      "display_name": "Python 3",
      "language": "python",
      "name": "python3"
    },
    "language_info": {
      "codemirror_mode": {
        "name": "ipython",
        "version": 3
      },
      "file_extension": ".py",
      "mimetype": "text/x-python",
      "name": "python",
      "nbconvert_exporter": "python",
      "pygments_lexer": "ipython3",
      "version": "3.7.1"
    }
  },
  "cells": [
    {
      "cell_type": "code",
      "metadata": {
        "colab": {
          "base_uri": "https://localhost:8080/"
        },
        "id": "I2J5wKqtlkhf",
        "outputId": "fd9b848b-b6ed-4887-dce2-9a65fe105425"
      },
      "source": [
        "### Mount your google drive ###\n",
        "from google.colab import drive\n",
        "drive.mount('/content/drive')"
      ],
      "execution_count": 1,
      "outputs": [
        {
          "output_type": "stream",
          "text": [
            "Mounted at /content/drive\n"
          ],
          "name": "stdout"
        }
      ]
    },
    {
      "cell_type": "code",
      "metadata": {
        "colab": {
          "base_uri": "https://localhost:8080/"
        },
        "id": "41atKTM5mTRL",
        "outputId": "3b66a07d-0295-42aa-b845-f9ecc8e8678e"
      },
      "source": [
        "!pip install tabulate\n",
        "!pip install termcolor\n",
        "!pip install lifelines \n",
        "exit()"
      ],
      "execution_count": 1,
      "outputs": [
        {
          "output_type": "stream",
          "text": [
            "Requirement already satisfied: tabulate in /usr/local/lib/python3.7/dist-packages (0.8.9)\n",
            "Requirement already satisfied: termcolor in /usr/local/lib/python3.7/dist-packages (1.1.0)\n",
            "Requirement already satisfied: lifelines in /usr/local/lib/python3.7/dist-packages (0.26.0)\n",
            "Requirement already satisfied: scipy>=1.2.0 in /usr/local/lib/python3.7/dist-packages (from lifelines) (1.4.1)\n",
            "Requirement already satisfied: matplotlib>=3.0 in /usr/local/lib/python3.7/dist-packages (from lifelines) (3.2.2)\n",
            "Requirement already satisfied: formulaic<0.3,>=0.2.2 in /usr/local/lib/python3.7/dist-packages (from lifelines) (0.2.4)\n",
            "Requirement already satisfied: pandas>=0.23.0 in /usr/local/lib/python3.7/dist-packages (from lifelines) (1.1.5)\n",
            "Requirement already satisfied: autograd-gamma>=0.3 in /usr/local/lib/python3.7/dist-packages (from lifelines) (0.5.0)\n",
            "Requirement already satisfied: autograd>=1.3 in /usr/local/lib/python3.7/dist-packages (from lifelines) (1.3)\n",
            "Requirement already satisfied: numpy>=1.14.0 in /usr/local/lib/python3.7/dist-packages (from lifelines) (1.19.5)\n",
            "Requirement already satisfied: future>=0.15.2 in /usr/local/lib/python3.7/dist-packages (from autograd>=1.3->lifelines) (0.16.0)\n",
            "Requirement already satisfied: wrapt in /usr/local/lib/python3.7/dist-packages (from formulaic<0.3,>=0.2.2->lifelines) (1.12.1)\n",
            "Requirement already satisfied: interface-meta>=1.2 in /usr/local/lib/python3.7/dist-packages (from formulaic<0.3,>=0.2.2->lifelines) (1.2.3)\n",
            "Requirement already satisfied: astor in /usr/local/lib/python3.7/dist-packages (from formulaic<0.3,>=0.2.2->lifelines) (0.8.1)\n",
            "Requirement already satisfied: cycler>=0.10 in /usr/local/lib/python3.7/dist-packages (from matplotlib>=3.0->lifelines) (0.10.0)\n",
            "Requirement already satisfied: pyparsing!=2.0.4,!=2.1.2,!=2.1.6,>=2.0.1 in /usr/local/lib/python3.7/dist-packages (from matplotlib>=3.0->lifelines) (2.4.7)\n",
            "Requirement already satisfied: python-dateutil>=2.1 in /usr/local/lib/python3.7/dist-packages (from matplotlib>=3.0->lifelines) (2.8.1)\n",
            "Requirement already satisfied: kiwisolver>=1.0.1 in /usr/local/lib/python3.7/dist-packages (from matplotlib>=3.0->lifelines) (1.3.1)\n",
            "Requirement already satisfied: six in /usr/local/lib/python3.7/dist-packages (from cycler>=0.10->matplotlib>=3.0->lifelines) (1.15.0)\n",
            "Requirement already satisfied: pytz>=2017.2 in /usr/local/lib/python3.7/dist-packages (from pandas>=0.23.0->lifelines) (2018.9)\n"
          ],
          "name": "stdout"
        }
      ]
    },
    {
      "cell_type": "code",
      "metadata": {
        "id": "b3gFmtazl7IG"
      },
      "source": [
        "drive_path=\"/content/drive/MyDrive/pytorch_ehr/Pytorch_EHR_Tutorial\"\n",
        "import sys\n",
        "sys.path.insert(0,drive_path+\"/Model_Training/\")\n",
        "import pytorch_ehr\n",
        "import pytorch_ehr.explain_ig as exp"
      ],
      "execution_count": 2,
      "outputs": []
    },
    {
      "cell_type": "code",
      "metadata": {
        "id": "z1dPyDcIxkJh"
      },
      "source": [
        "??exp.int_grad_pt"
      ],
      "execution_count": 3,
      "outputs": []
    },
    {
      "cell_type": "code",
      "metadata": {
        "id": "TGVpsmIQnREK"
      },
      "source": [
        "input_dir=drive_path+'/Data_Prep/data/processed_data/'\n",
        "data_prefix='Mimic_PT_mortality_dp_v1'\n",
        "output_dir = drive_path+'/Model_Training/Model_output/'"
      ],
      "execution_count": 5,
      "outputs": []
    },
    {
      "cell_type": "code",
      "metadata": {
        "colab": {
          "base_uri": "https://localhost:8080/"
        },
        "id": "i2HYvTbWnRah",
        "outputId": "d848d842-cac6-46dd-e30c-26f8dffd5d84"
      },
      "source": [
        "df=exp.calc_contribution(output_dir+'ACM_BCB_t1.pth',input_dir+data_prefix+'.combined.test2',input_dir+data_prefix+'.types',input_dir+'code_desc.tsv','mort', qc=True)"
      ],
      "execution_count": 6,
      "outputs": [
        {
          "output_type": "stream",
          "text": [
            "100%|██████████| 21/21 [00:00<00:00, 390.30it/s]"
          ],
          "name": "stderr"
        },
        {
          "output_type": "stream",
          "text": [
            "multilabel data processing\n"
          ],
          "name": "stdout"
        },
        {
          "output_type": "stream",
          "text": [
            "\n"
          ],
          "name": "stderr"
        },
        {
          "output_type": "stream",
          "text": [
            "output difference :  tensor(0.3608, device='cuda:0')  , sum of contribution scores =  tensor(0.3598, device='cuda:0', grad_fn=<SumBackward0>)\n",
            "output difference :  tensor(0.2326, device='cuda:0')  , sum of contribution scores =  tensor(0.2302, device='cuda:0', grad_fn=<SumBackward0>)\n",
            "output difference :  tensor(0.3273, device='cuda:0')  , sum of contribution scores =  tensor(0.3267, device='cuda:0', grad_fn=<SumBackward0>)\n",
            "output difference :  tensor(0.0055, device='cuda:0')  , sum of contribution scores =  tensor(0.0055, device='cuda:0', grad_fn=<SumBackward0>)\n",
            "output difference :  tensor(0.7428, device='cuda:0')  , sum of contribution scores =  tensor(0.7403, device='cuda:0', grad_fn=<SumBackward0>)\n",
            "output difference :  tensor(0.1813, device='cuda:0')  , sum of contribution scores =  tensor(0.1788, device='cuda:0', grad_fn=<SumBackward0>)\n",
            "output difference :  tensor(0.0045, device='cuda:0')  , sum of contribution scores =  tensor(0.0044, device='cuda:0', grad_fn=<SumBackward0>)\n",
            "output difference :  tensor(0.2029, device='cuda:0')  , sum of contribution scores =  tensor(0.2005, device='cuda:0', grad_fn=<SumBackward0>)\n",
            "output difference :  tensor(-0.0048, device='cuda:0')  , sum of contribution scores =  tensor(-0.0051, device='cuda:0', grad_fn=<SumBackward0>)\n",
            "output difference :  tensor(5.7003e-05, device='cuda:0')  , sum of contribution scores =  tensor(-4.4846e-05, device='cuda:0', grad_fn=<SumBackward0>)\n",
            "output difference :  tensor(-0.0037, device='cuda:0')  , sum of contribution scores =  tensor(-0.0037, device='cuda:0', grad_fn=<SumBackward0>)\n",
            "output difference :  tensor(0.0467, device='cuda:0')  , sum of contribution scores =  tensor(0.0458, device='cuda:0', grad_fn=<SumBackward0>)\n",
            "output difference :  tensor(0.7832, device='cuda:0')  , sum of contribution scores =  tensor(0.7841, device='cuda:0', grad_fn=<SumBackward0>)\n",
            "output difference :  tensor(0.0004, device='cuda:0')  , sum of contribution scores =  tensor(0.0004, device='cuda:0', grad_fn=<SumBackward0>)\n",
            "output difference :  tensor(-0.0019, device='cuda:0')  , sum of contribution scores =  tensor(-0.0020, device='cuda:0', grad_fn=<SumBackward0>)\n",
            "output difference :  tensor(0.1788, device='cuda:0')  , sum of contribution scores =  tensor(0.1774, device='cuda:0', grad_fn=<SumBackward0>)\n",
            "output difference :  tensor(0.8470, device='cuda:0')  , sum of contribution scores =  tensor(0.8477, device='cuda:0', grad_fn=<SumBackward0>)\n",
            "output difference :  tensor(-0.0035, device='cuda:0')  , sum of contribution scores =  tensor(-0.0037, device='cuda:0', grad_fn=<SumBackward0>)\n",
            "output difference :  tensor(-0.0032, device='cuda:0')  , sum of contribution scores =  tensor(-0.0034, device='cuda:0', grad_fn=<SumBackward0>)\n",
            "output difference :  tensor(-0.0035, device='cuda:0')  , sum of contribution scores =  tensor(-0.0037, device='cuda:0', grad_fn=<SumBackward0>)\n",
            "output difference :  tensor(0.1940, device='cuda:0')  , sum of contribution scores =  tensor(0.1935, device='cuda:0', grad_fn=<SumBackward0>)\n"
          ],
          "name": "stdout"
        }
      ]
    },
    {
      "cell_type": "code",
      "metadata": {
        "colab": {
          "base_uri": "https://localhost:8080/",
          "height": 424
        },
        "id": "2UPnb0FCns8C",
        "outputId": "addfee13-a8ca-4a15-c218-15571d7ed94c"
      },
      "source": [
        "df"
      ],
      "execution_count": 7,
      "outputs": [
        {
          "output_type": "execute_result",
          "data": {
            "text/html": [
              "<div>\n",
              "<style scoped>\n",
              "    .dataframe tbody tr th:only-of-type {\n",
              "        vertical-align: middle;\n",
              "    }\n",
              "\n",
              "    .dataframe tbody tr th {\n",
              "        vertical-align: top;\n",
              "    }\n",
              "\n",
              "    .dataframe thead th {\n",
              "        text-align: right;\n",
              "    }\n",
              "</style>\n",
              "<table border=\"1\" class=\"dataframe\">\n",
              "  <thead>\n",
              "    <tr style=\"text-align: right;\">\n",
              "      <th></th>\n",
              "      <th>visit_ind</th>\n",
              "      <th>Time</th>\n",
              "      <th>token_pos</th>\n",
              "      <th>TOKEN_ID</th>\n",
              "      <th>DIAGNOSIS_ID</th>\n",
              "      <th>cont_score</th>\n",
              "      <th>cat</th>\n",
              "      <th>description</th>\n",
              "      <th>PT</th>\n",
              "      <th>True_label</th>\n",
              "      <th>predicted_score</th>\n",
              "    </tr>\n",
              "  </thead>\n",
              "  <tbody>\n",
              "    <tr>\n",
              "      <th>0</th>\n",
              "      <td>0</td>\n",
              "      <td>0.0</td>\n",
              "      <td>0</td>\n",
              "      <td>734</td>\n",
              "      <td>P_ICD10_02HV33Z</td>\n",
              "      <td>0.071282</td>\n",
              "      <td>Proc</td>\n",
              "      <td>Insertion of Infusion Device into Superior Ven...</td>\n",
              "      <td>0</td>\n",
              "      <td>0.0</td>\n",
              "      <td>0.370281</td>\n",
              "    </tr>\n",
              "    <tr>\n",
              "      <th>10</th>\n",
              "      <td>0</td>\n",
              "      <td>0.0</td>\n",
              "      <td>1</td>\n",
              "      <td>346</td>\n",
              "      <td>D_ICD10_I5033</td>\n",
              "      <td>-0.061311</td>\n",
              "      <td>Diag</td>\n",
              "      <td>Acute on chronic diastolic (congestive) heart ...</td>\n",
              "      <td>0</td>\n",
              "      <td>0.0</td>\n",
              "      <td>0.370281</td>\n",
              "    </tr>\n",
              "    <tr>\n",
              "      <th>20</th>\n",
              "      <td>0</td>\n",
              "      <td>0.0</td>\n",
              "      <td>2</td>\n",
              "      <td>1268</td>\n",
              "      <td>D_ICD10_R791</td>\n",
              "      <td>-0.042595</td>\n",
              "      <td>Diag</td>\n",
              "      <td>Abnormal coagulation profile</td>\n",
              "      <td>0</td>\n",
              "      <td>0.0</td>\n",
              "      <td>0.370281</td>\n",
              "    </tr>\n",
              "    <tr>\n",
              "      <th>30</th>\n",
              "      <td>0</td>\n",
              "      <td>0.0</td>\n",
              "      <td>3</td>\n",
              "      <td>881</td>\n",
              "      <td>D_ICD10_Y929</td>\n",
              "      <td>-0.009735</td>\n",
              "      <td>Diag</td>\n",
              "      <td>Unspecified place or not applicable</td>\n",
              "      <td>0</td>\n",
              "      <td>0.0</td>\n",
              "      <td>0.370281</td>\n",
              "    </tr>\n",
              "    <tr>\n",
              "      <th>40</th>\n",
              "      <td>0</td>\n",
              "      <td>0.0</td>\n",
              "      <td>4</td>\n",
              "      <td>911</td>\n",
              "      <td>D_ICD10_T8119XA</td>\n",
              "      <td>0.032990</td>\n",
              "      <td>Diag</td>\n",
              "      <td>Other postprocedural shock, initial encounter</td>\n",
              "      <td>0</td>\n",
              "      <td>0.0</td>\n",
              "      <td>0.370281</td>\n",
              "    </tr>\n",
              "    <tr>\n",
              "      <th>...</th>\n",
              "      <td>...</td>\n",
              "      <td>...</td>\n",
              "      <td>...</td>\n",
              "      <td>...</td>\n",
              "      <td>...</td>\n",
              "      <td>...</td>\n",
              "      <td>...</td>\n",
              "      <td>...</td>\n",
              "      <td>...</td>\n",
              "      <td>...</td>\n",
              "      <td>...</td>\n",
              "    </tr>\n",
              "    <tr>\n",
              "      <th>23</th>\n",
              "      <td>0</td>\n",
              "      <td>0.0</td>\n",
              "      <td>23</td>\n",
              "      <td>598</td>\n",
              "      <td>D_ICD9_28749</td>\n",
              "      <td>-0.026477</td>\n",
              "      <td>Diag</td>\n",
              "      <td>Other secondary thrombocytopenia</td>\n",
              "      <td>20</td>\n",
              "      <td>0.0</td>\n",
              "      <td>0.200589</td>\n",
              "    </tr>\n",
              "    <tr>\n",
              "      <th>24</th>\n",
              "      <td>0</td>\n",
              "      <td>0.0</td>\n",
              "      <td>24</td>\n",
              "      <td>599</td>\n",
              "      <td>D_ICD9_79029</td>\n",
              "      <td>-0.075257</td>\n",
              "      <td>Diag</td>\n",
              "      <td>Other abnormal glucose</td>\n",
              "      <td>20</td>\n",
              "      <td>0.0</td>\n",
              "      <td>0.200589</td>\n",
              "    </tr>\n",
              "    <tr>\n",
              "      <th>25</th>\n",
              "      <td>0</td>\n",
              "      <td>0.0</td>\n",
              "      <td>25</td>\n",
              "      <td>600</td>\n",
              "      <td>D_ICD9_58389</td>\n",
              "      <td>-0.001254</td>\n",
              "      <td>Diag</td>\n",
              "      <td>Nephritis and nephropathy, not specified as ac...</td>\n",
              "      <td>20</td>\n",
              "      <td>0.0</td>\n",
              "      <td>0.200589</td>\n",
              "    </tr>\n",
              "    <tr>\n",
              "      <th>26</th>\n",
              "      <td>0</td>\n",
              "      <td>0.0</td>\n",
              "      <td>26</td>\n",
              "      <td>288</td>\n",
              "      <td>D_ICD9_5845</td>\n",
              "      <td>0.085650</td>\n",
              "      <td>Diag</td>\n",
              "      <td>Acute kidney failure with lesion of tubular ne...</td>\n",
              "      <td>20</td>\n",
              "      <td>0.0</td>\n",
              "      <td>0.200589</td>\n",
              "    </tr>\n",
              "    <tr>\n",
              "      <th>27</th>\n",
              "      <td>0</td>\n",
              "      <td>0.0</td>\n",
              "      <td>27</td>\n",
              "      <td>279</td>\n",
              "      <td>P_ICD9_3891</td>\n",
              "      <td>0.002185</td>\n",
              "      <td>Proc</td>\n",
              "      <td>Arterial catheterization</td>\n",
              "      <td>20</td>\n",
              "      <td>0.0</td>\n",
              "      <td>0.200589</td>\n",
              "    </tr>\n",
              "  </tbody>\n",
              "</table>\n",
              "<p>965 rows × 11 columns</p>\n",
              "</div>"
            ],
            "text/plain": [
              "    visit_ind  Time token_pos  ...  PT True_label  predicted_score\n",
              "0           0   0.0         0  ...   0        0.0         0.370281\n",
              "10          0   0.0         1  ...   0        0.0         0.370281\n",
              "20          0   0.0         2  ...   0        0.0         0.370281\n",
              "30          0   0.0         3  ...   0        0.0         0.370281\n",
              "40          0   0.0         4  ...   0        0.0         0.370281\n",
              "..        ...   ...       ...  ...  ..        ...              ...\n",
              "23          0   0.0        23  ...  20        0.0         0.200589\n",
              "24          0   0.0        24  ...  20        0.0         0.200589\n",
              "25          0   0.0        25  ...  20        0.0         0.200589\n",
              "26          0   0.0        26  ...  20        0.0         0.200589\n",
              "27          0   0.0        27  ...  20        0.0         0.200589\n",
              "\n",
              "[965 rows x 11 columns]"
            ]
          },
          "metadata": {
            "tags": []
          },
          "execution_count": 7
        }
      ]
    },
    {
      "cell_type": "code",
      "metadata": {
        "id": "_GxwPMrfxkJl"
      },
      "source": [
        ""
      ],
      "execution_count": null,
      "outputs": []
    }
  ]
}