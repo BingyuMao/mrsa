{
  "nbformat": 4,
  "nbformat_minor": 0,
  "metadata": {
    "accelerator": "GPU",
    "colab": {
      "provenance": []
    },
    "kernelspec": {
      "display_name": "Python 3",
      "language": "python",
      "name": "python3"
    },
    "language_info": {
      "codemirror_mode": {
        "name": "ipython",
        "version": 3
      },
      "file_extension": ".py",
      "mimetype": "text/x-python",
      "name": "python",
      "nbconvert_exporter": "python",
      "pygments_lexer": "ipython3",
      "version": "3.7.1"
    }
  },
  "cells": [
    {
      "cell_type": "code",
      "metadata": {
        "colab": {
          "base_uri": "https://localhost:8080/"
        },
        "id": "I2J5wKqtlkhf",
        "outputId": "43c919eb-6fdf-42a7-f1b9-f0979cdb152f"
      },
      "source": [
        "### Mount your google drive ###\n",
        "from google.colab import drive\n",
        "drive.mount('/content/drive')"
      ],
      "execution_count": 1,
      "outputs": [
        {
          "output_type": "stream",
          "name": "stdout",
          "text": [
            "Mounted at /content/drive\n"
          ]
        }
      ]
    },
    {
      "cell_type": "code",
      "metadata": {
        "colab": {
          "base_uri": "https://localhost:8080/"
        },
        "id": "41atKTM5mTRL",
        "outputId": "1bfbf6b8-8402-412e-c21f-c3683c122acd"
      },
      "source": [
        "!pip install tabulate\n",
        "!pip install termcolor\n",
        "!pip install lifelines\n",
        "exit()"
      ],
      "execution_count": 2,
      "outputs": [
        {
          "output_type": "stream",
          "name": "stdout",
          "text": [
            "Looking in indexes: https://pypi.org/simple, https://us-python.pkg.dev/colab-wheels/public/simple/\n",
            "Requirement already satisfied: tabulate in /usr/local/lib/python3.10/dist-packages (0.8.10)\n",
            "Looking in indexes: https://pypi.org/simple, https://us-python.pkg.dev/colab-wheels/public/simple/\n",
            "Requirement already satisfied: termcolor in /usr/local/lib/python3.10/dist-packages (2.3.0)\n",
            "Looking in indexes: https://pypi.org/simple, https://us-python.pkg.dev/colab-wheels/public/simple/\n",
            "Collecting lifelines\n",
            "  Downloading lifelines-0.27.7-py3-none-any.whl (409 kB)\n",
            "\u001b[2K     \u001b[90m━━━━━━━━━━━━━━━━━━━━━━━━━━━━━━━━━━━━━━━\u001b[0m \u001b[32m409.4/409.4 kB\u001b[0m \u001b[31m7.0 MB/s\u001b[0m eta \u001b[36m0:00:00\u001b[0m\n",
            "\u001b[?25hRequirement already satisfied: numpy>=1.14.0 in /usr/local/lib/python3.10/dist-packages (from lifelines) (1.22.4)\n",
            "Requirement already satisfied: scipy>=1.2.0 in /usr/local/lib/python3.10/dist-packages (from lifelines) (1.10.1)\n",
            "Requirement already satisfied: pandas>=1.0.0 in /usr/local/lib/python3.10/dist-packages (from lifelines) (1.5.3)\n",
            "Requirement already satisfied: matplotlib>=3.0 in /usr/local/lib/python3.10/dist-packages (from lifelines) (3.7.1)\n",
            "Requirement already satisfied: autograd>=1.5 in /usr/local/lib/python3.10/dist-packages (from lifelines) (1.6)\n",
            "Collecting autograd-gamma>=0.3 (from lifelines)\n",
            "  Downloading autograd-gamma-0.5.0.tar.gz (4.0 kB)\n",
            "  Preparing metadata (setup.py) ... \u001b[?25l\u001b[?25hdone\n",
            "Collecting formulaic>=0.2.2 (from lifelines)\n",
            "  Downloading formulaic-0.6.3-py3-none-any.whl (82 kB)\n",
            "\u001b[2K     \u001b[90m━━━━━━━━━━━━━━━━━━━━━━━━━━━━━━━━━━━━━━━━\u001b[0m \u001b[32m82.5/82.5 kB\u001b[0m \u001b[31m11.3 MB/s\u001b[0m eta \u001b[36m0:00:00\u001b[0m\n",
            "\u001b[?25hRequirement already satisfied: future>=0.15.2 in /usr/local/lib/python3.10/dist-packages (from autograd>=1.5->lifelines) (0.18.3)\n",
            "Collecting astor>=0.8 (from formulaic>=0.2.2->lifelines)\n",
            "  Downloading astor-0.8.1-py2.py3-none-any.whl (27 kB)\n",
            "Collecting interface-meta>=1.2.0 (from formulaic>=0.2.2->lifelines)\n",
            "  Downloading interface_meta-1.3.0-py3-none-any.whl (14 kB)\n",
            "Requirement already satisfied: typing-extensions>=4.2.0 in /usr/local/lib/python3.10/dist-packages (from formulaic>=0.2.2->lifelines) (4.6.3)\n",
            "Requirement already satisfied: wrapt>=1.0 in /usr/local/lib/python3.10/dist-packages (from formulaic>=0.2.2->lifelines) (1.14.1)\n",
            "Requirement already satisfied: contourpy>=1.0.1 in /usr/local/lib/python3.10/dist-packages (from matplotlib>=3.0->lifelines) (1.1.0)\n",
            "Requirement already satisfied: cycler>=0.10 in /usr/local/lib/python3.10/dist-packages (from matplotlib>=3.0->lifelines) (0.11.0)\n",
            "Requirement already satisfied: fonttools>=4.22.0 in /usr/local/lib/python3.10/dist-packages (from matplotlib>=3.0->lifelines) (4.40.0)\n",
            "Requirement already satisfied: kiwisolver>=1.0.1 in /usr/local/lib/python3.10/dist-packages (from matplotlib>=3.0->lifelines) (1.4.4)\n",
            "Requirement already satisfied: packaging>=20.0 in /usr/local/lib/python3.10/dist-packages (from matplotlib>=3.0->lifelines) (23.1)\n",
            "Requirement already satisfied: pillow>=6.2.0 in /usr/local/lib/python3.10/dist-packages (from matplotlib>=3.0->lifelines) (8.4.0)\n",
            "Requirement already satisfied: pyparsing>=2.3.1 in /usr/local/lib/python3.10/dist-packages (from matplotlib>=3.0->lifelines) (3.1.0)\n",
            "Requirement already satisfied: python-dateutil>=2.7 in /usr/local/lib/python3.10/dist-packages (from matplotlib>=3.0->lifelines) (2.8.2)\n",
            "Requirement already satisfied: pytz>=2020.1 in /usr/local/lib/python3.10/dist-packages (from pandas>=1.0.0->lifelines) (2022.7.1)\n",
            "Requirement already satisfied: six>=1.5 in /usr/local/lib/python3.10/dist-packages (from python-dateutil>=2.7->matplotlib>=3.0->lifelines) (1.16.0)\n",
            "Building wheels for collected packages: autograd-gamma\n",
            "  Building wheel for autograd-gamma (setup.py) ... \u001b[?25l\u001b[?25hdone\n",
            "  Created wheel for autograd-gamma: filename=autograd_gamma-0.5.0-py3-none-any.whl size=4031 sha256=cadca5fe70516c01e17001c32dd86a657c22c748b48df4ab7dbbab4d34e7c315\n",
            "  Stored in directory: /root/.cache/pip/wheels/25/cc/e0/ef2969164144c899fedb22b338f6703e2b9cf46eeebf254991\n",
            "Successfully built autograd-gamma\n",
            "Installing collected packages: interface-meta, astor, autograd-gamma, formulaic, lifelines\n",
            "Successfully installed astor-0.8.1 autograd-gamma-0.5.0 formulaic-0.6.3 interface-meta-1.3.0 lifelines-0.27.7\n"
          ]
        }
      ]
    },
    {
      "cell_type": "code",
      "metadata": {
        "id": "b3gFmtazl7IG"
      },
      "source": [
        "drive_path=\"/content/drive/MyDrive/pytorch_ehr/Pytorch_EHR_Tutorial\"\n",
        "import sys\n",
        "sys.path.insert(0,drive_path+\"/Model_Training/\")\n",
        "import pytorch_ehr\n",
        "import pytorch_ehr.explain_ig as exp"
      ],
      "execution_count": 1,
      "outputs": []
    },
    {
      "cell_type": "code",
      "metadata": {
        "id": "z1dPyDcIxkJh"
      },
      "source": [
        "??exp.int_grad_pt"
      ],
      "execution_count": null,
      "outputs": []
    },
    {
      "cell_type": "code",
      "metadata": {
        "id": "TGVpsmIQnREK"
      },
      "source": [
        "input_dir=drive_path+'/Data_Prep/data/processed_data/'\n",
        "data_prefix='dhf_easy_dmd_v1'\n",
        "output_dir = drive_path+'/Model_Training/Model_output/'"
      ],
      "execution_count": 2,
      "outputs": []
    },
    {
      "cell_type": "code",
      "metadata": {
        "colab": {
          "base_uri": "https://localhost:8080/",
          "height": 879
        },
        "id": "i2HYvTbWnRah",
        "outputId": "a3aeb6a2-74c6-427b-c034-3efb13ce27a8"
      },
      "source": [
        "df1=exp.calc_contribution_nodesc(output_dir+'ICHI_2023_t1.pth',input_dir+data_prefix+'.combined.test',input_dir+data_prefix+'.types','mort',bi=True, qc=True)"
      ],
      "execution_count": 6,
      "outputs": [
        {
          "output_type": "stream",
          "name": "stdout",
          "text": [
            "multilabel data processing\n"
          ]
        },
        {
          "output_type": "stream",
          "name": "stderr",
          "text": [
            "100%|██████████| 2423/2423 [00:19<00:00, 125.86it/s]\n"
          ]
        },
        {
          "output_type": "stream",
          "name": "stdout",
          "text": [
            "output difference :  tensor(0.0696, device='cuda:0')  , sum of contribution scores =  tensor(0.0675, device='cuda:0', grad_fn=<SumBackward0>)\n",
            "output difference :  tensor(-0.0703, device='cuda:0')  , sum of contribution scores =  tensor(-0.0754, device='cuda:0', grad_fn=<SumBackward0>)\n",
            "output difference :  tensor(0.0112, device='cuda:0')  , sum of contribution scores =  tensor(0.0084, device='cuda:0', grad_fn=<SumBackward0>)\n",
            "output difference :  tensor(0.0014, device='cuda:0')  , sum of contribution scores =  tensor(-0.0006, device='cuda:0', grad_fn=<SumBackward0>)\n",
            "output difference :  tensor(0.0689, device='cuda:0')  , sum of contribution scores =  tensor(0.0674, device='cuda:0', grad_fn=<SumBackward0>)\n",
            "output difference :  tensor(0.1661, device='cuda:0')  , sum of contribution scores =  tensor(0.1667, device='cuda:0', grad_fn=<SumBackward0>)\n",
            "output difference :  tensor(-0.0679, device='cuda:0')  , sum of contribution scores =  tensor(-0.0735, device='cuda:0', grad_fn=<SumBackward0>)\n",
            "output difference :  tensor(0.0016, device='cuda:0')  , sum of contribution scores =  tensor(0.0004, device='cuda:0', grad_fn=<SumBackward0>)\n",
            "output difference :  tensor(-0.0406, device='cuda:0')  , sum of contribution scores =  tensor(-0.0443, device='cuda:0', grad_fn=<SumBackward0>)\n",
            "output difference :  tensor(0.1039, device='cuda:0')  , sum of contribution scores =  tensor(0.1026, device='cuda:0', grad_fn=<SumBackward0>)\n",
            "output difference :  tensor(-0.0434, device='cuda:0')  , sum of contribution scores =  tensor(-0.0462, device='cuda:0', grad_fn=<SumBackward0>)\n",
            "output difference :  tensor(-0.0395, device='cuda:0')  , sum of contribution scores =  tensor(-0.0421, device='cuda:0', grad_fn=<SumBackward0>)\n",
            "output difference :  tensor(-0.0026, device='cuda:0')  , sum of contribution scores =  tensor(-0.0062, device='cuda:0', grad_fn=<SumBackward0>)\n",
            "output difference :  tensor(0.0594, device='cuda:0')  , sum of contribution scores =  tensor(0.0580, device='cuda:0', grad_fn=<SumBackward0>)\n",
            "output difference :  tensor(-0.0562, device='cuda:0')  , sum of contribution scores =  tensor(-0.0606, device='cuda:0', grad_fn=<SumBackward0>)\n",
            "output difference :  tensor(-0.0023, device='cuda:0')  , sum of contribution scores =  tensor(-0.0041, device='cuda:0', grad_fn=<SumBackward0>)\n",
            "output difference :  tensor(-0.0840, device='cuda:0')  , sum of contribution scores =  tensor(-0.0874, device='cuda:0', grad_fn=<SumBackward0>)\n",
            "output difference :  tensor(0.0368, device='cuda:0')  , sum of contribution scores =  tensor(0.0338, device='cuda:0', grad_fn=<SumBackward0>)\n",
            "output difference :  tensor(-0.0229, device='cuda:0')  , sum of contribution scores =  tensor(-0.0235, device='cuda:0', grad_fn=<SumBackward0>)\n",
            "output difference :  tensor(0.0130, device='cuda:0')  , sum of contribution scores =  tensor(0.0120, device='cuda:0', grad_fn=<SumBackward0>)\n",
            "output difference :  tensor(0.0423, device='cuda:0')  , sum of contribution scores =  tensor(0.0373, device='cuda:0', grad_fn=<SumBackward0>)\n",
            "output difference :  tensor(0.0116, device='cuda:0')  , sum of contribution scores =  tensor(0.0112, device='cuda:0', grad_fn=<SumBackward0>)\n",
            "output difference :  tensor(0.0108, device='cuda:0')  , sum of contribution scores =  tensor(0.0090, device='cuda:0', grad_fn=<SumBackward0>)\n",
            "output difference :  tensor(-0.0138, device='cuda:0')  , sum of contribution scores =  tensor(-0.0152, device='cuda:0', grad_fn=<SumBackward0>)\n",
            "output difference :  tensor(0.0213, device='cuda:0')  , sum of contribution scores =  tensor(0.0208, device='cuda:0', grad_fn=<SumBackward0>)\n",
            "output difference :  tensor(-0.0161, device='cuda:0')  , sum of contribution scores =  tensor(-0.0184, device='cuda:0', grad_fn=<SumBackward0>)\n",
            "output difference :  tensor(-0.0084, device='cuda:0')  , sum of contribution scores =  tensor(-0.0112, device='cuda:0', grad_fn=<SumBackward0>)\n",
            "output difference :  tensor(0.0166, device='cuda:0')  , sum of contribution scores =  tensor(0.0162, device='cuda:0', grad_fn=<SumBackward0>)\n",
            "output difference :  tensor(0.0241, device='cuda:0')  , sum of contribution scores =  tensor(0.0230, device='cuda:0', grad_fn=<SumBackward0>)\n",
            "output difference :  tensor(0.0104, device='cuda:0')  , sum of contribution scores =  tensor(0.0088, device='cuda:0', grad_fn=<SumBackward0>)\n"
          ]
        },
        {
          "output_type": "error",
          "ename": "KeyboardInterrupt",
          "evalue": "ignored",
          "traceback": [
            "\u001b[0;31m---------------------------------------------------------------------------\u001b[0m",
            "\u001b[0;31mKeyboardInterrupt\u001b[0m                         Traceback (most recent call last)",
            "\u001b[0;32m<ipython-input-6-5a0a12b675c4>\u001b[0m in \u001b[0;36m<cell line: 1>\u001b[0;34m()\u001b[0m\n\u001b[0;32m----> 1\u001b[0;31m \u001b[0mdf1\u001b[0m\u001b[0;34m=\u001b[0m\u001b[0mexp\u001b[0m\u001b[0;34m.\u001b[0m\u001b[0mcalc_contribution_nodesc\u001b[0m\u001b[0;34m(\u001b[0m\u001b[0moutput_dir\u001b[0m\u001b[0;34m+\u001b[0m\u001b[0;34m'ICHI_2023_t1.pth'\u001b[0m\u001b[0;34m,\u001b[0m\u001b[0minput_dir\u001b[0m\u001b[0;34m+\u001b[0m\u001b[0mdata_prefix\u001b[0m\u001b[0;34m+\u001b[0m\u001b[0;34m'.combined.test'\u001b[0m\u001b[0;34m,\u001b[0m\u001b[0minput_dir\u001b[0m\u001b[0;34m+\u001b[0m\u001b[0mdata_prefix\u001b[0m\u001b[0;34m+\u001b[0m\u001b[0;34m'.types'\u001b[0m\u001b[0;34m,\u001b[0m\u001b[0;34m'mort'\u001b[0m\u001b[0;34m,\u001b[0m\u001b[0mbi\u001b[0m\u001b[0;34m=\u001b[0m\u001b[0;32mTrue\u001b[0m\u001b[0;34m,\u001b[0m \u001b[0mqc\u001b[0m\u001b[0;34m=\u001b[0m\u001b[0;32mTrue\u001b[0m\u001b[0;34m)\u001b[0m\u001b[0;34m\u001b[0m\u001b[0;34m\u001b[0m\u001b[0m\n\u001b[0m",
            "\u001b[0;32m/content/drive/MyDrive/pytorch_ehr/Pytorch_EHR_Tutorial/Model_Training/pytorch_ehr/explain_ig.py\u001b[0m in \u001b[0;36mcalc_contribution_nodesc\u001b[0;34m(model_pth, data_File, type_File, task, bi, qc)\u001b[0m\n\u001b[1;32m    242\u001b[0m   \u001b[0ml_df\u001b[0m\u001b[0;34m=\u001b[0m\u001b[0;34m[\u001b[0m\u001b[0;34m]\u001b[0m\u001b[0;34m\u001b[0m\u001b[0;34m\u001b[0m\u001b[0m\n\u001b[1;32m    243\u001b[0m   \u001b[0;32mfor\u001b[0m \u001b[0mi\u001b[0m \u001b[0;34m,\u001b[0m \u001b[0mpt\u001b[0m \u001b[0;32min\u001b[0m \u001b[0menumerate\u001b[0m\u001b[0;34m(\u001b[0m\u001b[0mmbs_list\u001b[0m\u001b[0;34m)\u001b[0m\u001b[0;34m:\u001b[0m\u001b[0;34m\u001b[0m\u001b[0;34m\u001b[0m\u001b[0m\n\u001b[0;32m--> 244\u001b[0;31m     \u001b[0mlabel\u001b[0m\u001b[0;34m,\u001b[0m \u001b[0moutput_score\u001b[0m \u001b[0;34m,\u001b[0m \u001b[0mpt_inp_cont_1\u001b[0m\u001b[0;34m=\u001b[0m\u001b[0mint_grad_pt_nodesc\u001b[0m\u001b[0;34m(\u001b[0m\u001b[0mbest_model\u001b[0m \u001b[0;34m,\u001b[0m \u001b[0mdiag_t\u001b[0m\u001b[0;34m,\u001b[0m \u001b[0mpt\u001b[0m \u001b[0;34m,\u001b[0m\u001b[0mbi\u001b[0m\u001b[0;34m,\u001b[0m \u001b[0mm\u001b[0m\u001b[0;34m=\u001b[0m\u001b[0;36m64\u001b[0m \u001b[0;34m,\u001b[0m \u001b[0mqc\u001b[0m\u001b[0;34m=\u001b[0m\u001b[0mqc\u001b[0m\u001b[0;34m)\u001b[0m\u001b[0;34m\u001b[0m\u001b[0;34m\u001b[0m\u001b[0m\n\u001b[0m\u001b[1;32m    245\u001b[0m     \u001b[0mpt_inp_cont_1\u001b[0m\u001b[0;34m[\u001b[0m\u001b[0;34m'PT'\u001b[0m\u001b[0;34m]\u001b[0m\u001b[0;34m=\u001b[0m\u001b[0mi\u001b[0m\u001b[0;34m\u001b[0m\u001b[0;34m\u001b[0m\u001b[0m\n\u001b[1;32m    246\u001b[0m     \u001b[0;32mif\u001b[0m \u001b[0mtask\u001b[0m\u001b[0;34m==\u001b[0m\u001b[0;34m'mort'\u001b[0m\u001b[0;34m:\u001b[0m\u001b[0;34m\u001b[0m\u001b[0;34m\u001b[0m\u001b[0m\n",
            "\u001b[0;32m/content/drive/MyDrive/pytorch_ehr/Pytorch_EHR_Tutorial/Model_Training/pytorch_ehr/explain_ig.py\u001b[0m in \u001b[0;36mint_grad_pt_nodesc\u001b[0;34m(best_model, diag_t, pt, bi, m, qc)\u001b[0m\n\u001b[1;32m    127\u001b[0m         \u001b[0mx_in2\u001b[0m\u001b[0;34m.\u001b[0m\u001b[0mgrad\u001b[0m \u001b[0;34m=\u001b[0m \u001b[0;32mNone\u001b[0m\u001b[0;34m\u001b[0m\u001b[0;34m\u001b[0m\u001b[0m\n\u001b[1;32m    128\u001b[0m         \u001b[0mpred\u001b[0m \u001b[0;34m=\u001b[0m \u001b[0mf\u001b[0m\u001b[0;34m(\u001b[0m\u001b[0mx_in2\u001b[0m\u001b[0;34m/\u001b[0m\u001b[0mm\u001b[0m\u001b[0;34m*\u001b[0m\u001b[0mk\u001b[0m\u001b[0;34m,\u001b[0m \u001b[0mx_in\u001b[0m\u001b[0;34m)\u001b[0m\u001b[0;34m\u001b[0m\u001b[0;34m\u001b[0m\u001b[0m\n\u001b[0;32m--> 129\u001b[0;31m         \u001b[0mpred\u001b[0m\u001b[0;34m.\u001b[0m\u001b[0mbackward\u001b[0m\u001b[0;34m(\u001b[0m\u001b[0;34m)\u001b[0m\u001b[0;34m\u001b[0m\u001b[0;34m\u001b[0m\u001b[0m\n\u001b[0m\u001b[1;32m    130\u001b[0m         \u001b[0mcode_visit_cont\u001b[0m \u001b[0;34m+=\u001b[0m \u001b[0mx_in2\u001b[0m\u001b[0;34m.\u001b[0m\u001b[0mgrad\u001b[0m\u001b[0;34m/\u001b[0m\u001b[0mk\u001b[0m\u001b[0;34m\u001b[0m\u001b[0;34m\u001b[0m\u001b[0m\n\u001b[1;32m    131\u001b[0m \u001b[0;34m\u001b[0m\u001b[0m\n",
            "\u001b[0;32m/usr/local/lib/python3.10/dist-packages/torch/_tensor.py\u001b[0m in \u001b[0;36mbackward\u001b[0;34m(self, gradient, retain_graph, create_graph, inputs)\u001b[0m\n\u001b[1;32m    485\u001b[0m                 \u001b[0minputs\u001b[0m\u001b[0;34m=\u001b[0m\u001b[0minputs\u001b[0m\u001b[0;34m,\u001b[0m\u001b[0;34m\u001b[0m\u001b[0;34m\u001b[0m\u001b[0m\n\u001b[1;32m    486\u001b[0m             )\n\u001b[0;32m--> 487\u001b[0;31m         torch.autograd.backward(\n\u001b[0m\u001b[1;32m    488\u001b[0m             \u001b[0mself\u001b[0m\u001b[0;34m,\u001b[0m \u001b[0mgradient\u001b[0m\u001b[0;34m,\u001b[0m \u001b[0mretain_graph\u001b[0m\u001b[0;34m,\u001b[0m \u001b[0mcreate_graph\u001b[0m\u001b[0;34m,\u001b[0m \u001b[0minputs\u001b[0m\u001b[0;34m=\u001b[0m\u001b[0minputs\u001b[0m\u001b[0;34m\u001b[0m\u001b[0;34m\u001b[0m\u001b[0m\n\u001b[1;32m    489\u001b[0m         )\n",
            "\u001b[0;32m/usr/local/lib/python3.10/dist-packages/torch/autograd/__init__.py\u001b[0m in \u001b[0;36mbackward\u001b[0;34m(tensors, grad_tensors, retain_graph, create_graph, grad_variables, inputs)\u001b[0m\n\u001b[1;32m    198\u001b[0m     \u001b[0;31m# some Python versions print out the first line of a multi-line function\u001b[0m\u001b[0;34m\u001b[0m\u001b[0;34m\u001b[0m\u001b[0m\n\u001b[1;32m    199\u001b[0m     \u001b[0;31m# calls in the traceback and some print out the last line\u001b[0m\u001b[0;34m\u001b[0m\u001b[0;34m\u001b[0m\u001b[0m\n\u001b[0;32m--> 200\u001b[0;31m     Variable._execution_engine.run_backward(  # Calls into the C++ engine to run the backward pass\n\u001b[0m\u001b[1;32m    201\u001b[0m         \u001b[0mtensors\u001b[0m\u001b[0;34m,\u001b[0m \u001b[0mgrad_tensors_\u001b[0m\u001b[0;34m,\u001b[0m \u001b[0mretain_graph\u001b[0m\u001b[0;34m,\u001b[0m \u001b[0mcreate_graph\u001b[0m\u001b[0;34m,\u001b[0m \u001b[0minputs\u001b[0m\u001b[0;34m,\u001b[0m\u001b[0;34m\u001b[0m\u001b[0;34m\u001b[0m\u001b[0m\n\u001b[1;32m    202\u001b[0m         allow_unreachable=True, accumulate_grad=True)  # Calls into the C++ engine to run the backward pass\n",
            "\u001b[0;31mKeyboardInterrupt\u001b[0m: "
          ]
        }
      ]
    },
    {
      "cell_type": "code",
      "metadata": {
        "colab": {
          "base_uri": "https://localhost:8080/",
          "height": 424
        },
        "id": "2UPnb0FCns8C",
        "outputId": "addfee13-a8ca-4a15-c218-15571d7ed94c"
      },
      "source": [
        "##df -- with desc"
      ],
      "execution_count": null,
      "outputs": [
        {
          "output_type": "execute_result",
          "data": {
            "text/html": [
              "<div>\n",
              "<style scoped>\n",
              "    .dataframe tbody tr th:only-of-type {\n",
              "        vertical-align: middle;\n",
              "    }\n",
              "\n",
              "    .dataframe tbody tr th {\n",
              "        vertical-align: top;\n",
              "    }\n",
              "\n",
              "    .dataframe thead th {\n",
              "        text-align: right;\n",
              "    }\n",
              "</style>\n",
              "<table border=\"1\" class=\"dataframe\">\n",
              "  <thead>\n",
              "    <tr style=\"text-align: right;\">\n",
              "      <th></th>\n",
              "      <th>visit_ind</th>\n",
              "      <th>Time</th>\n",
              "      <th>token_pos</th>\n",
              "      <th>TOKEN_ID</th>\n",
              "      <th>DIAGNOSIS_ID</th>\n",
              "      <th>cont_score</th>\n",
              "      <th>cat</th>\n",
              "      <th>description</th>\n",
              "      <th>PT</th>\n",
              "      <th>True_label</th>\n",
              "      <th>predicted_score</th>\n",
              "    </tr>\n",
              "  </thead>\n",
              "  <tbody>\n",
              "    <tr>\n",
              "      <th>0</th>\n",
              "      <td>0</td>\n",
              "      <td>0.0</td>\n",
              "      <td>0</td>\n",
              "      <td>734</td>\n",
              "      <td>P_ICD10_02HV33Z</td>\n",
              "      <td>0.071282</td>\n",
              "      <td>Proc</td>\n",
              "      <td>Insertion of Infusion Device into Superior Ven...</td>\n",
              "      <td>0</td>\n",
              "      <td>0.0</td>\n",
              "      <td>0.370281</td>\n",
              "    </tr>\n",
              "    <tr>\n",
              "      <th>10</th>\n",
              "      <td>0</td>\n",
              "      <td>0.0</td>\n",
              "      <td>1</td>\n",
              "      <td>346</td>\n",
              "      <td>D_ICD10_I5033</td>\n",
              "      <td>-0.061311</td>\n",
              "      <td>Diag</td>\n",
              "      <td>Acute on chronic diastolic (congestive) heart ...</td>\n",
              "      <td>0</td>\n",
              "      <td>0.0</td>\n",
              "      <td>0.370281</td>\n",
              "    </tr>\n",
              "    <tr>\n",
              "      <th>20</th>\n",
              "      <td>0</td>\n",
              "      <td>0.0</td>\n",
              "      <td>2</td>\n",
              "      <td>1268</td>\n",
              "      <td>D_ICD10_R791</td>\n",
              "      <td>-0.042595</td>\n",
              "      <td>Diag</td>\n",
              "      <td>Abnormal coagulation profile</td>\n",
              "      <td>0</td>\n",
              "      <td>0.0</td>\n",
              "      <td>0.370281</td>\n",
              "    </tr>\n",
              "    <tr>\n",
              "      <th>30</th>\n",
              "      <td>0</td>\n",
              "      <td>0.0</td>\n",
              "      <td>3</td>\n",
              "      <td>881</td>\n",
              "      <td>D_ICD10_Y929</td>\n",
              "      <td>-0.009735</td>\n",
              "      <td>Diag</td>\n",
              "      <td>Unspecified place or not applicable</td>\n",
              "      <td>0</td>\n",
              "      <td>0.0</td>\n",
              "      <td>0.370281</td>\n",
              "    </tr>\n",
              "    <tr>\n",
              "      <th>40</th>\n",
              "      <td>0</td>\n",
              "      <td>0.0</td>\n",
              "      <td>4</td>\n",
              "      <td>911</td>\n",
              "      <td>D_ICD10_T8119XA</td>\n",
              "      <td>0.032990</td>\n",
              "      <td>Diag</td>\n",
              "      <td>Other postprocedural shock, initial encounter</td>\n",
              "      <td>0</td>\n",
              "      <td>0.0</td>\n",
              "      <td>0.370281</td>\n",
              "    </tr>\n",
              "    <tr>\n",
              "      <th>...</th>\n",
              "      <td>...</td>\n",
              "      <td>...</td>\n",
              "      <td>...</td>\n",
              "      <td>...</td>\n",
              "      <td>...</td>\n",
              "      <td>...</td>\n",
              "      <td>...</td>\n",
              "      <td>...</td>\n",
              "      <td>...</td>\n",
              "      <td>...</td>\n",
              "      <td>...</td>\n",
              "    </tr>\n",
              "    <tr>\n",
              "      <th>23</th>\n",
              "      <td>0</td>\n",
              "      <td>0.0</td>\n",
              "      <td>23</td>\n",
              "      <td>598</td>\n",
              "      <td>D_ICD9_28749</td>\n",
              "      <td>-0.026477</td>\n",
              "      <td>Diag</td>\n",
              "      <td>Other secondary thrombocytopenia</td>\n",
              "      <td>20</td>\n",
              "      <td>0.0</td>\n",
              "      <td>0.200589</td>\n",
              "    </tr>\n",
              "    <tr>\n",
              "      <th>24</th>\n",
              "      <td>0</td>\n",
              "      <td>0.0</td>\n",
              "      <td>24</td>\n",
              "      <td>599</td>\n",
              "      <td>D_ICD9_79029</td>\n",
              "      <td>-0.075257</td>\n",
              "      <td>Diag</td>\n",
              "      <td>Other abnormal glucose</td>\n",
              "      <td>20</td>\n",
              "      <td>0.0</td>\n",
              "      <td>0.200589</td>\n",
              "    </tr>\n",
              "    <tr>\n",
              "      <th>25</th>\n",
              "      <td>0</td>\n",
              "      <td>0.0</td>\n",
              "      <td>25</td>\n",
              "      <td>600</td>\n",
              "      <td>D_ICD9_58389</td>\n",
              "      <td>-0.001254</td>\n",
              "      <td>Diag</td>\n",
              "      <td>Nephritis and nephropathy, not specified as ac...</td>\n",
              "      <td>20</td>\n",
              "      <td>0.0</td>\n",
              "      <td>0.200589</td>\n",
              "    </tr>\n",
              "    <tr>\n",
              "      <th>26</th>\n",
              "      <td>0</td>\n",
              "      <td>0.0</td>\n",
              "      <td>26</td>\n",
              "      <td>288</td>\n",
              "      <td>D_ICD9_5845</td>\n",
              "      <td>0.085650</td>\n",
              "      <td>Diag</td>\n",
              "      <td>Acute kidney failure with lesion of tubular ne...</td>\n",
              "      <td>20</td>\n",
              "      <td>0.0</td>\n",
              "      <td>0.200589</td>\n",
              "    </tr>\n",
              "    <tr>\n",
              "      <th>27</th>\n",
              "      <td>0</td>\n",
              "      <td>0.0</td>\n",
              "      <td>27</td>\n",
              "      <td>279</td>\n",
              "      <td>P_ICD9_3891</td>\n",
              "      <td>0.002185</td>\n",
              "      <td>Proc</td>\n",
              "      <td>Arterial catheterization</td>\n",
              "      <td>20</td>\n",
              "      <td>0.0</td>\n",
              "      <td>0.200589</td>\n",
              "    </tr>\n",
              "  </tbody>\n",
              "</table>\n",
              "<p>965 rows × 11 columns</p>\n",
              "</div>"
            ],
            "text/plain": [
              "    visit_ind  Time token_pos  ...  PT True_label  predicted_score\n",
              "0           0   0.0         0  ...   0        0.0         0.370281\n",
              "10          0   0.0         1  ...   0        0.0         0.370281\n",
              "20          0   0.0         2  ...   0        0.0         0.370281\n",
              "30          0   0.0         3  ...   0        0.0         0.370281\n",
              "40          0   0.0         4  ...   0        0.0         0.370281\n",
              "..        ...   ...       ...  ...  ..        ...              ...\n",
              "23          0   0.0        23  ...  20        0.0         0.200589\n",
              "24          0   0.0        24  ...  20        0.0         0.200589\n",
              "25          0   0.0        25  ...  20        0.0         0.200589\n",
              "26          0   0.0        26  ...  20        0.0         0.200589\n",
              "27          0   0.0        27  ...  20        0.0         0.200589\n",
              "\n",
              "[965 rows x 11 columns]"
            ]
          },
          "metadata": {
            "tags": []
          },
          "execution_count": 7
        }
      ]
    },
    {
      "cell_type": "code",
      "metadata": {
        "id": "_GxwPMrfxkJl"
      },
      "source": [],
      "execution_count": null,
      "outputs": []
    }
  ]
}