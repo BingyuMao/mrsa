{
  "nbformat": 4,
  "nbformat_minor": 0,
  "metadata": {
    "colab": {
      "name": "Model_Training.ipynb",
      "provenance": [],
      "collapsed_sections": []
    },
    "kernelspec": {
      "display_name": "Python 3",
      "name": "python3"
    },
    "language_info": {
      "name": "python"
    },
    "accelerator": "GPU"
  },
  "cells": [
    {
      "cell_type": "code",
      "metadata": {
        "id": "cJobfZO6OERm"
      },
      "source": [
        "## lrasmy@Zhilab last revised August 1 2021 ##\n",
        "##############################################"
      ],
      "execution_count": null,
      "outputs": []
    },
    {
      "cell_type": "code",
      "metadata": {
        "colab": {
          "base_uri": "https://localhost:8080/"
        },
        "id": "sKFwuJdr4pZT",
        "outputId": "deb1a799-58f5-48f0-98ca-e1c44f32a1be"
      },
      "source": [
        "### Mount your google drive ###\n",
        "from google.colab import drive\n",
        "drive.mount('/content/drive')"
      ],
      "execution_count": 3,
      "outputs": [
        {
          "output_type": "stream",
          "text": [
            "Drive already mounted at /content/drive; to attempt to forcibly remount, call drive.mount(\"/content/drive\", force_remount=True).\n"
          ],
          "name": "stdout"
        }
      ]
    },
    {
      "cell_type": "markdown",
      "metadata": {
        "id": "sT4bgfaA4xGg"
      },
      "source": [
        "### Import Required packages"
      ]
    },
    {
      "cell_type": "markdown",
      "metadata": {
        "id": "Pwtve90447go"
      },
      "source": [
        "Make sure that you are using a GPU Runtime\n"
      ]
    },
    {
      "cell_type": "code",
      "metadata": {
        "id": "QkpN5c5kBCEV"
      },
      "source": [
        "### install required packages\n",
        "! pip install lifelines --user\n",
        "! pip install pip install 'ray[default]'\n",
        "! pip install 'ray[tune]'"
      ],
      "execution_count": null,
      "outputs": []
    },
    {
      "cell_type": "code",
      "metadata": {
        "id": "JuGWi6Q248Fy"
      },
      "source": [
        "import os\n",
        "import pandas as pd\n",
        "import numpy as np\n",
        "try:\n",
        "    import cPickle as pickle\n",
        "except:\n",
        "    import pickle\n",
        "import time\n",
        "from tqdm import tqdm\n",
        "\n",
        "import sklearn.metrics as m\n",
        "from sklearn.metrics import roc_auc_score\n",
        "from termcolor import colored\n",
        "\n",
        "\n",
        "import torch\n",
        "import torch.nn as nn\n",
        "from torch.nn import Parameter\n",
        "import torch.nn.functional as F\n",
        "from torch.autograd import Variable\n",
        "from torch import optim\n",
        "\n",
        "###GPU enabling and device allocation\n",
        "use_cuda = torch.cuda.is_available()\n",
        "#if use_cuda: torch.cuda.set_device(7)\n",
        "\n",
        "\n"
      ],
      "execution_count": null,
      "outputs": []
    },
    {
      "cell_type": "markdown",
      "metadata": {
        "id": "WsDyWcPm5FHJ"
      },
      "source": [
        "#### Please Note: if any error message displayed or you installed fresh packages, please make sure you run the following pytorch_ehr import cell **twice**\n",
        "\n",
        "---\n",
        "\n",
        "\n",
        "\n",
        "---\n",
        "\n"
      ]
    },
    {
      "cell_type": "code",
      "metadata": {
        "id": "V08IIUEb5dih"
      },
      "source": [
        "from importlib import reload\n",
        "\n",
        "### import pytorch ehr files\n",
        "try:\n",
        "  import sys\n",
        "  sys.path.insert(0,\"/content/drive/MyDrive/pytorch_ehr/Pytorch_EHR_Tutorial/Model_Training/\")\n",
        "  import pytorch_ehr\n",
        "  import pytorch_ehr.models as model \n",
        "  from pytorch_ehr.EHRDataloader import EHRdataloader\n",
        "  from pytorch_ehr.EHRDataloader import EHRdataFromLoadedPickles as EHRDataset\n",
        "  import pytorch_ehr.utils_final as ut \n",
        "  from pytorch_ehr.EHREmb import EHREmbeddings\n",
        "except:\n",
        "  exit()\n",
        "  print('Notebook restarted after package installation')"
      ],
      "execution_count": 5,
      "outputs": []
    },
    {
      "cell_type": "markdown",
      "metadata": {
        "id": "NkM-UqhLjbL0"
      },
      "source": [
        "### load preprocessed data"
      ]
    },
    {
      "cell_type": "code",
      "metadata": {
        "id": "C1hRyzZ4CqVy"
      },
      "source": [
        "input_dir='/content/drive/MyDrive/pytorch_ehr/Pytorch_EHR_Tutorial/Data_Prep/data/processed_data/'\n",
        "data_prefix='Mimic_PT_mortality_dp_v1'\n",
        "output_dir = '/content/drive/MyDrive/pytorch_ehr/Pytorch_EHR_Tutorial/Model_Training/Model_output/'\n",
        "if not os.path.exists(output_dir):\n",
        "        os.makedirs(output_dir)"
      ],
      "execution_count": 8,
      "outputs": []
    },
    {
      "cell_type": "code",
      "metadata": {
        "colab": {
          "base_uri": "https://localhost:8080/"
        },
        "id": "HUexZ89_Bahw",
        "outputId": "b36ad118-0856-4103-be21-5e3435a46237"
      },
      "source": [
        "### Load the preprocessed data\n",
        "\n",
        "train_sl= pickle.load(open(input_dir+data_prefix+'.combined.train', 'rb'),encoding='bytes')\n",
        "test_sl= pickle.load(open(input_dir+data_prefix+'.combined.test', 'rb'), encoding='bytes')\n",
        "valid_sl= pickle.load(open(input_dir+data_prefix+'.combined.valid', 'rb'), encoding='bytes')\n",
        "# types dictionary\n",
        "types_d=pickle.load(open(input_dir+data_prefix+'.types', 'rb'), encoding='bytes')\n",
        "types_d_rev = dict(zip(types_d.values(),types_d.keys()))\n",
        "input_size_l=[max(types_d_rev.keys())+1]\n",
        "print (len(train_sl),len(valid_sl),len(test_sl))\n",
        "print(input_size_l)"
      ],
      "execution_count": 9,
      "outputs": [
        {
          "output_type": "stream",
          "text": [
            "37049 5292 10585\n",
            "[27362]\n"
          ],
          "name": "stdout"
        }
      ]
    },
    {
      "cell_type": "code",
      "metadata": {
        "id": "IzYt-ifnS1rx"
      },
      "source": [
        "omop_pts=pickle.load(open('/content/drive/MyDrive/pytorch_ehr/Pytorch_EHR_Tutorial/Data_Prep/data/processed_data.omop_pts', 'rb'), encoding='bytes')\n",
        "test_sl2=[]\n",
        "for p in test_sl:\n",
        "  if p[0] in omop_pts : test_sl2.append(p)\n",
        "\n",
        "pickle.dump(test_sl2, open(input_dir+data_prefix+'.combined.test2', 'wb'), -1)\n"
      ],
      "execution_count": 10,
      "outputs": []
    },
    {
      "cell_type": "code",
      "metadata": {
        "id": "yDuYB1hZEMrW"
      },
      "source": [
        "def load_mbs_var_list(sets_list,packpadmode,task,bs=128,half=True):\n",
        "    if task: multiLbl=True\n",
        "    mb_lists=[]\n",
        "    for dset in sets_list:\n",
        "        print (' creating the list of minibatches')\n",
        "        dataset = EHRDataset(dset,sort= True, model='RNN')\n",
        "        data_mbs = list(tqdm(EHRdataloader(dataset, batch_size = bs, packPadMode = packpadmode,multilbl=multiLbl)))\n",
        "        mb_lists.append(data_mbs)\n",
        "    return mb_lists\n"
      ],
      "execution_count": 11,
      "outputs": []
    },
    {
      "cell_type": "code",
      "metadata": {
        "colab": {
          "base_uri": "https://localhost:8080/"
        },
        "id": "lGr9KIOjEe4X",
        "outputId": "dd3d2ce0-93ba-4d97-cb1c-5e1152682fab"
      },
      "source": [
        "[train_mbs,valid_mbs,test_mbs]=load_mbs_var_list([train_sl,valid_sl,test_sl],packpadmode=True,task='mort',bs=256)"
      ],
      "execution_count": 12,
      "outputs": [
        {
          "output_type": "stream",
          "text": [
            "\r  0%|          | 0/145 [00:00<?, ?it/s]"
          ],
          "name": "stderr"
        },
        {
          "output_type": "stream",
          "text": [
            " creating the list of minibatches\n",
            "multilabel data processing\n"
          ],
          "name": "stdout"
        },
        {
          "output_type": "stream",
          "text": [
            "100%|██████████| 145/145 [00:25<00:00,  5.60it/s]\n",
            "  0%|          | 0/21 [00:00<?, ?it/s]"
          ],
          "name": "stderr"
        },
        {
          "output_type": "stream",
          "text": [
            " creating the list of minibatches\n",
            "multilabel data processing\n"
          ],
          "name": "stdout"
        },
        {
          "output_type": "stream",
          "text": [
            "100%|██████████| 21/21 [00:01<00:00, 10.67it/s]\n",
            "  0%|          | 0/42 [00:00<?, ?it/s]"
          ],
          "name": "stderr"
        },
        {
          "output_type": "stream",
          "text": [
            " creating the list of minibatches\n",
            "multilabel data processing\n"
          ],
          "name": "stdout"
        },
        {
          "output_type": "stream",
          "text": [
            "100%|██████████| 42/42 [00:04<00:00, 10.07it/s]\n"
          ],
          "name": "stderr"
        }
      ]
    },
    {
      "cell_type": "markdown",
      "metadata": {
        "id": "aySyHxQbj20a"
      },
      "source": [
        "### Model Training"
      ]
    },
    {
      "cell_type": "markdown",
      "metadata": {
        "id": "SjQPnKCVooHH"
      },
      "source": [
        "#### Binary Classification"
      ]
    },
    {
      "cell_type": "code",
      "metadata": {
        "colab": {
          "base_uri": "https://localhost:8080/"
        },
        "id": "1ahQ-OuWFLzx",
        "outputId": "0c1bf2ad-d8ea-4654-e179-e5ac4f1aaf16"
      },
      "source": [
        "#### Binary classification Model\n",
        "ehr_model=model.EHR_RNN(input_size_l,embed_dim=64, hidden_size=32, n_layers=1,cell_type='GRU',bii=False ,time=True, packPadMode=True, surv=False, cls_dim=1)\n",
        "if use_cuda:ehr_model.cuda()\n",
        "train_auc_allep,valid_auc_allep,test_auc_allep,RNN_f_label,RNN_f_score=ut.run_dl_model(ehr_model,train_mbs,valid_mbs,[test_mbs],output_dir+'ACM_BCB_t1.pth',output_dir+'ACM_BCB_t1.st',wmodel='RNN',packpadmode=True,task='mort',opt='Adamax')\n"
      ],
      "execution_count": 13,
      "outputs": [
        {
          "output_type": "stream",
          "text": [
            "weights :  None\n",
            "Epoch:  0  Train_auc : 0.9552520821064044  , Valid_auc :  0.9381769971777331  Avg Loss:  0.24972253457225604  , Train Time : 0m 0s\n",
            " & Test_auc s :  [0.9401851890463849]\n",
            "Eval Time : 0m 0s\n",
            "\n",
            " Confusion matrix\u001b[0m yellow\n",
            "[[8953  208]\n",
            " [ 727  697]]\n",
            "\n",
            " Classification Report:               precision    recall  f1-score   support\n",
            "\n",
            "         0.0       0.92      0.98      0.95      9161\n",
            "         1.0       0.77      0.49      0.60      1424\n",
            "\n",
            "    accuracy                           0.91     10585\n",
            "   macro avg       0.85      0.73      0.77     10585\n",
            "weighted avg       0.90      0.91      0.90     10585\n",
            "\n",
            "Epoch:  1  Train_auc : 0.9652026164300077  , Valid_auc :  0.9442523122677635  Avg Loss:  0.19291570474361552  , Train Time : 0m 0s\n",
            " & Test_auc s :  [0.9471766152068675]\n",
            "Eval Time : 0m 0s\n",
            "\n",
            " Confusion matrix\u001b[0m yellow\n",
            "[[8626  535]\n",
            " [ 348 1076]]\n",
            "\n",
            " Classification Report:               precision    recall  f1-score   support\n",
            "\n",
            "         0.0       0.96      0.94      0.95      9161\n",
            "         1.0       0.67      0.76      0.71      1424\n",
            "\n",
            "    accuracy                           0.92     10585\n",
            "   macro avg       0.81      0.85      0.83     10585\n",
            "weighted avg       0.92      0.92      0.92     10585\n",
            "\n",
            "Epoch:  2  Train_auc : 0.9723738607192667  , Valid_auc :  0.9490796640262589  Avg Loss:  0.17868770607586562  , Train Time : 0m 0s\n",
            " & Test_auc s :  [0.9506972032148985]\n",
            "Eval Time : 0m 0s\n",
            "\n",
            " Confusion matrix\u001b[0m yellow\n",
            "[[8710  451]\n",
            " [ 392 1032]]\n",
            "\n",
            " Classification Report:               precision    recall  f1-score   support\n",
            "\n",
            "         0.0       0.96      0.95      0.95      9161\n",
            "         1.0       0.70      0.72      0.71      1424\n",
            "\n",
            "    accuracy                           0.92     10585\n",
            "   macro avg       0.83      0.84      0.83     10585\n",
            "weighted avg       0.92      0.92      0.92     10585\n",
            "\n",
            "Epoch:  3  Train_auc : 0.9771157429276421  , Valid_auc :  0.9529992985014084  Avg Loss:  0.17016268727080577  , Train Time : 0m 0s\n",
            " & Test_auc s :  [0.9528756949648547]\n",
            "Eval Time : 0m 0s\n",
            "\n",
            " Confusion matrix\u001b[0m yellow\n",
            "[[8717  444]\n",
            " [ 358 1066]]\n",
            "\n",
            " Classification Report:               precision    recall  f1-score   support\n",
            "\n",
            "         0.0       0.96      0.95      0.96      9161\n",
            "         1.0       0.71      0.75      0.73      1424\n",
            "\n",
            "    accuracy                           0.92     10585\n",
            "   macro avg       0.83      0.85      0.84     10585\n",
            "weighted avg       0.93      0.92      0.93     10585\n",
            "\n",
            "Epoch:  4  Train_auc : 0.9800323867762363  , Valid_auc :  0.9516368349780039  Avg Loss:  0.1570271972952218  , Train Time : 0m 0s\n",
            "Epoch:  5  Train_auc : 0.9820173943508603  , Valid_auc :  0.9492092533906998  Avg Loss:  0.15014438819268655  , Train Time : 0m 0s\n",
            "Epoch:  6  Train_auc : 0.9817095151020497  , Valid_auc :  0.9481438394606716  Avg Loss:  0.142049581429054  , Train Time : 0m 0s\n",
            "Epoch:  7  Train_auc : 0.9839869966760292  , Valid_auc :  0.9467094804679537  Avg Loss:  0.13891008416640346  , Train Time : 0m 0s\n",
            "Epoch:  8  Train_auc : 0.986588616900719  , Valid_auc :  0.9475710426351968  Avg Loss:  0.12849677734333895  , Train Time : 0m 0s\n",
            "Epoch:  9  Train_auc : 0.9889163165373773  , Valid_auc :  0.9461745545069731  Avg Loss:  0.12308359667658805  , Train Time : 0m 0s\n",
            "Epoch:  10  Train_auc : 0.9873790861798818  , Valid_auc :  0.9462076915134054  Avg Loss:  0.11559493605946673  , Train Time : 0m 0s\n",
            "Epoch:  11  Train_auc : 0.9906935362770258  , Valid_auc :  0.9486056864878234  Avg Loss:  0.1153288549647249  , Train Time : 0m 0s\n",
            "Epoch:  12  Train_auc : 0.9916366822551929  , Valid_auc :  0.9465387657116009  Avg Loss:  0.10880077733048076  , Train Time : 0m 0s\n",
            "Epoch:  13  Train_auc : 0.9916549916229609  , Valid_auc :  0.9442076364823055  Avg Loss:  0.10676378077217218  , Train Time : 0m 0s\n",
            "Epoch:  14  Train_auc : 0.992063819488596  , Valid_auc :  0.9417383377708322  Avg Loss:  0.09681121891942518  , Train Time : 0m 0s\n",
            "bestValidAuc 0.952999 at epoch 3 \n",
            "Test AUCs are  [0.9528756949648547]\n"
          ],
          "name": "stdout"
        }
      ]
    },
    {
      "cell_type": "markdown",
      "metadata": {
        "id": "lB-rQzKNowAP"
      },
      "source": [
        "#### Survival"
      ]
    },
    {
      "cell_type": "code",
      "metadata": {
        "colab": {
          "base_uri": "https://localhost:8080/"
        },
        "id": "kNOlPpjp3NpY",
        "outputId": "5b5a66ef-d054-474f-d622-4d2d2db641cd"
      },
      "source": [
        "###Survival Model\n",
        "ehr_model_s=model.EHR_RNN(input_size_l,embed_dim=64, hidden_size=32, n_layers=1,cell_type='GRU',bii=False ,time=True, packPadMode=True, surv=True)\n",
        "if use_cuda:ehr_model_s.cuda()\n",
        "\n",
        "train_auc_allep_S,valid_auc_allep_S,test_auc_allep_S,RNN_f_label_S,RNN_f_score_S=ut.run_dl_model_surv(ehr_model_s,train_mbs,valid_mbs,[test_mbs],output_dir+'ACM_BCB_s1.pth',output_dir+'ACM_BCB_s1.st',wmodel='RNN',packpadmode=True,task='mort_surv',patience=5)\n"
      ],
      "execution_count": 14,
      "outputs": [
        {
          "output_type": "stream",
          "text": [
            "Epoch:  0  Train_cindex : 0.9254682016968017  , Valid_cindex :  0.9018613156454984  Avg Loss:  3.7622567998951877  , Train Time : 0m 0s\n",
            " & Test_auc s :  [0.9097767195008065]\n",
            "Eval Time : 0m 0s\n",
            "Epoch:  1  Train_cindex : 0.9463623011816882  , Valid_cindex :  0.9114014247861294  Avg Loss:  3.2413876928132153  , Train Time : 0m 0s\n",
            " & Test_auc s :  [0.9171244941398048]\n",
            "Eval Time : 0m 0s\n",
            "Epoch:  2  Train_cindex : 0.9576866444874876  , Valid_cindex :  0.9115747162764445  Avg Loss:  2.961409904216898  , Train Time : 0m 0s\n",
            " & Test_auc s :  [0.9161447484688957]\n",
            "Eval Time : 0m 0s\n",
            "Epoch:  3  Train_cindex : 0.964489731050019  , Valid_cindex :  0.9077070152521267  Avg Loss:  2.7341148170931584  , Train Time : 0m 0s\n",
            "Epoch:  4  Train_cindex : 0.9712149966232244  , Valid_cindex :  0.9082660866077861  Avg Loss:  2.529479238082623  , Train Time : 0m 0s\n",
            "Epoch:  5  Train_cindex : 0.973901117208393  , Valid_cindex :  0.9068067247000613  Avg Loss:  2.3389043018735687  , Train Time : 0m 0s\n",
            "Epoch:  6  Train_cindex : 0.977000557280716  , Valid_cindex :  0.9062047430706097  Avg Loss:  2.1977262250308334  , Train Time : 0m 0s\n",
            "Epoch:  7  Train_cindex : 0.9798079659402513  , Valid_cindex :  0.9061704973713332  Avg Loss:  2.066314671779501  , Train Time : 0m 0s\n",
            "Epoch:  8  Train_cindex : 0.9809683297627514  , Valid_cindex :  0.9060310389815082  Avg Loss:  1.9301133468233307  , Train Time : 0m 0s\n",
            "bestValidAuc 0.911575 at epoch 2 \n",
            "Test AUCs are  [0.9161447484688957]\n"
          ],
          "name": "stdout"
        }
      ]
    },
    {
      "cell_type": "markdown",
      "metadata": {
        "id": "_QFoXN131peP"
      },
      "source": [
        "### Hyperparameter Tunninig\n",
        "\n",
        "5 years ago, Bayesian optimization was the SOTA of hyperparemeters search, an example resource is Botorch \n",
        "\n",
        "Nowadays there many new packages for hyperparameter search exist, some popular examples include RayTune and Optuna \n",
        "\n",
        "Actually you can even combine both where you can get the benefit of the best computational resources utilization from ray tune and the optuna search algorithm.\n",
        "More examples are on:\n",
        "\n",
        " Pytorch Raytune Tutorial: https://pytorch.org/tutorials/beginner/hyperparameter_tuning_tutorial.html?highlight=transformer \n",
        "\n",
        "Using Optuna algorithm in Raytune:\n",
        "https://docs.ray.io/en/master/tune/api_docs/suggestion.html#tune-optuna\n",
        "\n",
        "Optuna code examples (select pytorch): https://optuna.org/#code_examples\n",
        "\n",
        "Optuna tutorial on multi-objective optimization: https://optuna.readthedocs.io/en/stable/tutorial/20_recipes/002_multi_objective.html#sphx-glr-tutorial-20-recipes-002-multi-objective-py\n",
        "\n",
        "\n",
        "####### here I'll only show a very shallow hand written example on the main concept for the sake of time\n"
      ]
    },
    {
      "cell_type": "code",
      "metadata": {
        "id": "ArLXFdB210Ok"
      },
      "source": [
        "def run_dl_model_hps(config, input_size_1=[27362],epochs=100, task='mort', w_model='RNN', packpadmode=True, patience=10):\n",
        "    ### for raytune, you need to limit your input to the config or use tune.with_parameters \n",
        "    ### for optuna, your input will be the trial\n",
        "    ### Further examples can be found above\n",
        "\n",
        "    sys.path.insert(0,\"/content/drive/MyDrive/pytorch_ehr/Pytorch_EHR_Tutorial/Model_Training/\")\n",
        "    import pytorch_ehr\n",
        "    from pytorch_ehr import models as model \n",
        "    from pytorch_ehr import utils_final as ut\n",
        "\n",
        "    l2 = config['l2']\n",
        "    lr = config['lr']\n",
        "    #lr = trial.suggest_float(\"lr\", 1e-5, 1e-1, log=True)  #### this is just an example in case you use optuna\n",
        "    eps = config['eps']    \n",
        "    try:\n",
        "      opt = config['opt']\n",
        "    except: \n",
        "      opt='Adamax'\n",
        "      print('optimizer reset to Adamax') \n",
        "    try:\n",
        "      embed_dim = config['embed_dim']\n",
        "      hidden_size = config['hidden_size']\n",
        "    except:\n",
        "      embed_dim = 2**config['embed_dim_exp']\n",
        "      hidden_size = 2**config['hidden_size_exp']\n",
        "      print(\"embed_dim: \", embed_dim , \" hidden_size\" , hidden_size )\n",
        "\n",
        "    ehr_model = model.EHR_RNN(input_size_1, embed_dim=embed_dim, hidden_size=hidden_size, n_layers=1, cell_type='GRU', bii=False , time=True)\n",
        "    if use_cuda: ehr_model = ehr_model.cuda()\n",
        "\n",
        "    if opt== 'Adadelta':\n",
        "        #lr=1\n",
        "        optimizer = optim.Adadelta(ehr_model.parameters(), lr=lr, weight_decay=l2 ,eps=eps) ## rho=0.9\n",
        "    elif opt== 'Adagrad':\n",
        "        optimizer = optim.Adagrad(ehr_model.parameters(), lr=lr, weight_decay=l2) ##lr_decay no eps\n",
        "    elif opt== 'Adam':\n",
        "        optimizer = optim.Adam(ehr_model.parameters(), lr=lr, weight_decay=l2,eps=eps ) ## Beta defaults (0.9, 0.999), amsgrad (false)\n",
        "    elif opt== 'Adamax':\n",
        "        optimizer = optim.Adamax(ehr_model.parameters(), lr=lr, weight_decay=l2 ,eps=eps) ### Beta defaults (0.9, 0.999)\n",
        "    elif opt== 'RMSprop':\n",
        "        optimizer = optim.RMSprop(ehr_model.parameters(), lr=lr, weight_decay=l2 ,eps=eps)                \n",
        "    elif opt== 'ASGD':\n",
        "        optimizer = optim.ASGD(ehr_model.parameters(), lr=lr, weight_decay=l2 ) ### other parameters\n",
        "    elif opt== 'SGD':\n",
        "        optimizer = optim.SGD(ehr_model.parameters(), lr=lr, weight_decay=l2 ) ### other parameters\n",
        "    \n",
        "\n",
        "    ##Training epochs\n",
        "    bestValidAuc = 0.0\n",
        "    bestValidEpoch = 0\n",
        "\n",
        "    ### epochs loop\n",
        "    for ep in range(epochs):\n",
        "        start = time.time()\n",
        "        current_loss, train_loss = ut.trainbatches_outcomes(train_mbs, model= ehr_model, task=task, optimizer = optimizer,loss_fn = nn.BCELoss())\n",
        "        avg_loss = np.mean(train_loss)\n",
        "        train_time = ut.timeSince(start)\n",
        "        eval_start = time.time()\n",
        "        #Train_auc, y_real, y_hat  = ut.calculate_auc_outcomes(ehr_model, train_mbs, task=task, which_model = w_model)\n",
        "        valid_auc, y_real, y_hat  = ut.calculate_auc_outcomes(ehr_model, valid_mbs, task=task, which_model = w_model)\n",
        "        #print (\"Epoch: \" ,str(ep) ,\" Train_auc :\" , str(Train_auc) , \" , Valid_auc : \" ,str(valid_auc) ,\" Avg Loss: \" ,str(avg_loss), ' , Train Time :' , str(train_time) )\n",
        "        if valid_auc > bestValidAuc: \n",
        "            bestValidAuc = valid_auc\n",
        "            bestValidEpoch = ep\n",
        "            bavg_loss= avg_loss\n",
        "        if ep - bestValidEpoch >patience: break\n",
        "    #tune.report(accuracy=bestValidAuc)\n",
        "    return bestValidAuc,bavg_loss,bestValidEpoch"
      ],
      "execution_count": 48,
      "outputs": []
    },
    {
      "cell_type": "code",
      "metadata": {
        "colab": {
          "base_uri": "https://localhost:8080/",
          "height": 241
        },
        "id": "75yuc9QUAc8c",
        "outputId": "5598f700-3966-4aca-83d7-d37a4b155d68"
      },
      "source": [
        "def loguniform (lower, upper):\n",
        "  logmin = np.log(lower) / np.log(10)\n",
        "  logmax = np.log(upper) / np.log(10)\n",
        "  items = 10**(np.random.uniform(logmin, logmax, size=1))\n",
        "  return (items.round(7)[0])\n",
        "\n",
        "results_ft=[]\n",
        "for opt in ['Adamax','Adagrad']:\n",
        "  for run in range(2):\n",
        "    config = {\"l2\": loguniform(1e-5, 1e-2),\n",
        "              \"lr\": loguniform(1e-3, 1e-1),\n",
        "              \"opt\": opt,\n",
        "              \"eps\": loguniform(1e-6, 1e-2),\n",
        "              \"embed_dim_exp\": np.random.randint(5, 8),\n",
        "              \"hidden_size_exp\": np.random.randint(5, 9)}\n",
        "    config['best_valid_auc'], config['avg_loss'], config['best_epoch']=run_dl_model_hps(config)\n",
        "    results_ft.append(config)\n",
        "\n",
        "pd.DataFrame(results_ft)"
      ],
      "execution_count": 50,
      "outputs": [
        {
          "output_type": "stream",
          "text": [
            "embed_dim:  64  hidden_size 128\n",
            "embed_dim:  128  hidden_size 64\n",
            "embed_dim:  128  hidden_size 32\n",
            "embed_dim:  64  hidden_size 32\n"
          ],
          "name": "stdout"
        },
        {
          "output_type": "execute_result",
          "data": {
            "text/html": [
              "<div>\n",
              "<style scoped>\n",
              "    .dataframe tbody tr th:only-of-type {\n",
              "        vertical-align: middle;\n",
              "    }\n",
              "\n",
              "    .dataframe tbody tr th {\n",
              "        vertical-align: top;\n",
              "    }\n",
              "\n",
              "    .dataframe thead th {\n",
              "        text-align: right;\n",
              "    }\n",
              "</style>\n",
              "<table border=\"1\" class=\"dataframe\">\n",
              "  <thead>\n",
              "    <tr style=\"text-align: right;\">\n",
              "      <th></th>\n",
              "      <th>l2</th>\n",
              "      <th>lr</th>\n",
              "      <th>opt</th>\n",
              "      <th>eps</th>\n",
              "      <th>embed_dim_exp</th>\n",
              "      <th>hidden_size_exp</th>\n",
              "      <th>best_valid_auc</th>\n",
              "      <th>avg_loss</th>\n",
              "      <th>best_epoch</th>\n",
              "    </tr>\n",
              "  </thead>\n",
              "  <tbody>\n",
              "    <tr>\n",
              "      <th>0</th>\n",
              "      <td>0.000011</td>\n",
              "      <td>0.001571</td>\n",
              "      <td>Adamax</td>\n",
              "      <td>0.000005</td>\n",
              "      <td>6</td>\n",
              "      <td>7</td>\n",
              "      <td>0.935702</td>\n",
              "      <td>0.088833</td>\n",
              "      <td>15</td>\n",
              "    </tr>\n",
              "    <tr>\n",
              "      <th>1</th>\n",
              "      <td>0.000047</td>\n",
              "      <td>0.022186</td>\n",
              "      <td>Adamax</td>\n",
              "      <td>0.001750</td>\n",
              "      <td>7</td>\n",
              "      <td>6</td>\n",
              "      <td>0.939908</td>\n",
              "      <td>0.001788</td>\n",
              "      <td>84</td>\n",
              "    </tr>\n",
              "    <tr>\n",
              "      <th>2</th>\n",
              "      <td>0.000022</td>\n",
              "      <td>0.012363</td>\n",
              "      <td>Adagrad</td>\n",
              "      <td>0.005624</td>\n",
              "      <td>7</td>\n",
              "      <td>5</td>\n",
              "      <td>0.929112</td>\n",
              "      <td>0.073046</td>\n",
              "      <td>23</td>\n",
              "    </tr>\n",
              "    <tr>\n",
              "      <th>3</th>\n",
              "      <td>0.000062</td>\n",
              "      <td>0.014622</td>\n",
              "      <td>Adagrad</td>\n",
              "      <td>0.000003</td>\n",
              "      <td>6</td>\n",
              "      <td>5</td>\n",
              "      <td>0.938831</td>\n",
              "      <td>0.090043</td>\n",
              "      <td>23</td>\n",
              "    </tr>\n",
              "  </tbody>\n",
              "</table>\n",
              "</div>"
            ],
            "text/plain": [
              "         l2        lr      opt  ...  best_valid_auc  avg_loss  best_epoch\n",
              "0  0.000011  0.001571   Adamax  ...        0.935702  0.088833          15\n",
              "1  0.000047  0.022186   Adamax  ...        0.939908  0.001788          84\n",
              "2  0.000022  0.012363  Adagrad  ...        0.929112  0.073046          23\n",
              "3  0.000062  0.014622  Adagrad  ...        0.938831  0.090043          23\n",
              "\n",
              "[4 rows x 9 columns]"
            ]
          },
          "metadata": {
            "tags": []
          },
          "execution_count": 50
        }
      ]
    },
    {
      "cell_type": "code",
      "metadata": {
        "id": "dCJPYJDtsZSr"
      },
      "source": [
        "#### example code if you need to run raytune\n",
        "#from ray import tune\n",
        "#\n",
        "#config = {\"l2\": tune.loguniform(1e-5, 1e-2),\n",
        "#          \"lr\": tune.loguniform(1e-3, 1e-1),\n",
        "#          \"opt\": tune.grid_search(['Adamax','Adagrad']),\n",
        "#          \"eps\": tune.loguniform(1e-6, 1e-2),\n",
        "#          \"embed_dim\": tune.sample_from(lambda _: 2 ** np.random.randint(5, 8)),\n",
        "#          \"hidden_size\": tune.sample_from(lambda _: 2 ** np.random.randint(5, 9))}\n",
        "#\n",
        "#result=tune.run(run_dl_model_hps,config=config)"
      ],
      "execution_count": null,
      "outputs": []
    },
    {
      "cell_type": "code",
      "metadata": {
        "id": "Pr2A5By2jnZ9"
      },
      "source": [
        "#### later when you get results you can use something like\n",
        "best_trial = result.get_best_trial(\"accuracy\", \"max\")\n",
        "print(\"Best trial config: {}\".format(best_trial.config))\n",
        "print(\"Best trial final validation AUC: {}\".format(best_trial.last_result[\"accuracy\"]))"
      ],
      "execution_count": null,
      "outputs": []
    },
    {
      "cell_type": "markdown",
      "metadata": {
        "id": "hU1ZZLTaxB0f"
      },
      "source": [
        "### Model Evaluation\n"
      ]
    },
    {
      "cell_type": "markdown",
      "metadata": {
        "id": "DW-3aj0TxVCM"
      },
      "source": [
        "#### Binary Classification Models"
      ]
    },
    {
      "cell_type": "code",
      "metadata": {
        "colab": {
          "base_uri": "https://localhost:8080/",
          "height": 182
        },
        "id": "6B8nsO48AsW8",
        "outputId": "1e84401f-831b-4b16-ba52-5591f2dbb995"
      },
      "source": [
        "### to load a trained mode\n",
        "best_model_bc = torch.load(output_dir+'ACM_BCB_t1.pth')\n",
        "if use_cuda:best_model_bc.cuda()\n",
        "\n",
        "### create a minibatch list for my new test set\n",
        "[valid_mbs,test2_mbs]=load_mbs_var_list([valid_sl,test_sl2],packpadmode=True,task='mort',bs=256)\n",
        "\n",
        "### to get the predictions\n",
        "t2_labels, t2_scores = ut.get_preds( test2_mbs , best_model_bc )\n",
        "t2_metrics_df, t2_metrics_list = ut.cl_metrics_bc('Test2',t2_labels, t2_scores) ### As I don't specify the threshold on the ths option, it will calculate the best threshold\n",
        "t2_metrics_df"
      ],
      "execution_count": null,
      "outputs": [
        {
          "output_type": "stream",
          "text": [
            "\r  0%|          | 0/21 [00:00<?, ?it/s]"
          ],
          "name": "stderr"
        },
        {
          "output_type": "stream",
          "text": [
            " creating the list of minibatches\n",
            "multilabel data processing\n"
          ],
          "name": "stdout"
        },
        {
          "output_type": "stream",
          "text": [
            "100%|██████████| 21/21 [00:01<00:00, 14.54it/s]\n",
            "100%|██████████| 1/1 [00:00<00:00, 104.78it/s]\n"
          ],
          "name": "stderr"
        },
        {
          "output_type": "stream",
          "text": [
            " creating the list of minibatches\n",
            "multilabel data processing\n"
          ],
          "name": "stdout"
        },
        {
          "output_type": "execute_result",
          "data": {
            "text/html": [
              "<div>\n",
              "<style scoped>\n",
              "    .dataframe tbody tr th:only-of-type {\n",
              "        vertical-align: middle;\n",
              "    }\n",
              "\n",
              "    .dataframe tbody tr th {\n",
              "        vertical-align: top;\n",
              "    }\n",
              "\n",
              "    .dataframe thead th {\n",
              "        text-align: right;\n",
              "    }\n",
              "</style>\n",
              "<table border=\"1\" class=\"dataframe\">\n",
              "  <thead>\n",
              "    <tr style=\"text-align: right;\">\n",
              "      <th></th>\n",
              "      <th>Cohort</th>\n",
              "      <th>best_ths_given</th>\n",
              "      <th>AUROC</th>\n",
              "      <th>AUPRC</th>\n",
              "      <th>ths_95_sens</th>\n",
              "      <th>sens95</th>\n",
              "      <th>spec95</th>\n",
              "      <th>accuracy</th>\n",
              "      <th>precision</th>\n",
              "      <th>sensitivity_recall</th>\n",
              "      <th>f1-score</th>\n",
              "      <th>specificity</th>\n",
              "    </tr>\n",
              "  </thead>\n",
              "  <tbody>\n",
              "    <tr>\n",
              "      <th>0</th>\n",
              "      <td>Test2</td>\n",
              "      <td>0.021363</td>\n",
              "      <td>0.916667</td>\n",
              "      <td>0.729167</td>\n",
              "      <td>0.021363</td>\n",
              "      <td>1.0</td>\n",
              "      <td>0.777778</td>\n",
              "      <td>0.818182</td>\n",
              "      <td>0.5</td>\n",
              "      <td>1.0</td>\n",
              "      <td>0.666667</td>\n",
              "      <td>0.777778</td>\n",
              "    </tr>\n",
              "  </tbody>\n",
              "</table>\n",
              "</div>"
            ],
            "text/plain": [
              "  Cohort  best_ths_given     AUROC  ...  sensitivity_recall  f1-score  specificity\n",
              "0  Test2        0.021363  0.916667  ...                 1.0  0.666667     0.777778\n",
              "\n",
              "[1 rows x 12 columns]"
            ]
          },
          "metadata": {
            "tags": []
          },
          "execution_count": 49
        }
      ]
    },
    {
      "cell_type": "code",
      "metadata": {
        "colab": {
          "base_uri": "https://localhost:8080/",
          "height": 80
        },
        "id": "hr2VAQyZe_CP",
        "outputId": "6fe5e2de-a16d-437d-8fc7-81c9589c6f75"
      },
      "source": [
        "vlabels, vscores = ut.get_preds( valid_mbs , best_model_bc )\n",
        "vmetrics_df, vmetrics_list = ut.cl_metrics_bc('valid',vlabels, vscores) ### As I don't specify the threshold on the ths option, it will calculate the best threshold\n",
        "vmetrics_df"
      ],
      "execution_count": null,
      "outputs": [
        {
          "output_type": "execute_result",
          "data": {
            "text/html": [
              "<div>\n",
              "<style scoped>\n",
              "    .dataframe tbody tr th:only-of-type {\n",
              "        vertical-align: middle;\n",
              "    }\n",
              "\n",
              "    .dataframe tbody tr th {\n",
              "        vertical-align: top;\n",
              "    }\n",
              "\n",
              "    .dataframe thead th {\n",
              "        text-align: right;\n",
              "    }\n",
              "</style>\n",
              "<table border=\"1\" class=\"dataframe\">\n",
              "  <thead>\n",
              "    <tr style=\"text-align: right;\">\n",
              "      <th></th>\n",
              "      <th>Cohort</th>\n",
              "      <th>best_ths_given</th>\n",
              "      <th>AUROC</th>\n",
              "      <th>AUPRC</th>\n",
              "      <th>ths_95_sens</th>\n",
              "      <th>sens95</th>\n",
              "      <th>spec95</th>\n",
              "      <th>accuracy</th>\n",
              "      <th>precision</th>\n",
              "      <th>sensitivity_recall</th>\n",
              "      <th>f1-score</th>\n",
              "      <th>specificity</th>\n",
              "    </tr>\n",
              "  </thead>\n",
              "  <tbody>\n",
              "    <tr>\n",
              "      <th>0</th>\n",
              "      <td>valid</td>\n",
              "      <td>0.080712</td>\n",
              "      <td>0.955314</td>\n",
              "      <td>0.777034</td>\n",
              "      <td>0.024286</td>\n",
              "      <td>0.950521</td>\n",
              "      <td>0.818081</td>\n",
              "      <td>0.89229</td>\n",
              "      <td>0.583756</td>\n",
              "      <td>0.898438</td>\n",
              "      <td>0.707692</td>\n",
              "      <td>0.891247</td>\n",
              "    </tr>\n",
              "  </tbody>\n",
              "</table>\n",
              "</div>"
            ],
            "text/plain": [
              "  Cohort  best_ths_given     AUROC  ...  sensitivity_recall  f1-score  specificity\n",
              "0  valid        0.080712  0.955314  ...            0.898438  0.707692     0.891247\n",
              "\n",
              "[1 rows x 12 columns]"
            ]
          },
          "metadata": {
            "tags": []
          },
          "execution_count": 50
        }
      ]
    },
    {
      "cell_type": "code",
      "metadata": {
        "id": "ehinLsdhn39T"
      },
      "source": [
        "cohorts_preds=[('Test 1', np.array(RNN_f_label).squeeze() , np.array(RNN_f_score).squeeze()),('valid',vlabels, vscores),('Test2',t2_labels, t2_scores)]\n"
      ],
      "execution_count": null,
      "outputs": []
    },
    {
      "cell_type": "code",
      "metadata": {
        "colab": {
          "base_uri": "https://localhost:8080/",
          "height": 142
        },
        "id": "24jeJclhjQZz",
        "outputId": "b512fc4d-eb5c-4554-ba5a-05b431faee35"
      },
      "source": [
        "df_metrics = ut.cl_metrics_m(cohorts_preds,bth=0.15)\n",
        "df_metrics"
      ],
      "execution_count": null,
      "outputs": [
        {
          "output_type": "execute_result",
          "data": {
            "text/html": [
              "<div>\n",
              "<style scoped>\n",
              "    .dataframe tbody tr th:only-of-type {\n",
              "        vertical-align: middle;\n",
              "    }\n",
              "\n",
              "    .dataframe tbody tr th {\n",
              "        vertical-align: top;\n",
              "    }\n",
              "\n",
              "    .dataframe thead th {\n",
              "        text-align: right;\n",
              "    }\n",
              "</style>\n",
              "<table border=\"1\" class=\"dataframe\">\n",
              "  <thead>\n",
              "    <tr style=\"text-align: right;\">\n",
              "      <th></th>\n",
              "      <th>Cohort</th>\n",
              "      <th>best_ths_given</th>\n",
              "      <th>AUROC</th>\n",
              "      <th>AUPRC</th>\n",
              "      <th>ths_95_sens</th>\n",
              "      <th>sens95</th>\n",
              "      <th>spec95</th>\n",
              "      <th>accuracy</th>\n",
              "      <th>precision</th>\n",
              "      <th>sensitivity_recall</th>\n",
              "      <th>f1-score</th>\n",
              "      <th>specificity</th>\n",
              "    </tr>\n",
              "  </thead>\n",
              "  <tbody>\n",
              "    <tr>\n",
              "      <th>0</th>\n",
              "      <td>Test 1</td>\n",
              "      <td>0.15</td>\n",
              "      <td>0.952259</td>\n",
              "      <td>0.768062</td>\n",
              "      <td>0.018276</td>\n",
              "      <td>0.950306</td>\n",
              "      <td>0.807262</td>\n",
              "      <td>0.908928</td>\n",
              "      <td>0.628499</td>\n",
              "      <td>0.840708</td>\n",
              "      <td>0.719278</td>\n",
              "      <td>0.919921</td>\n",
              "    </tr>\n",
              "    <tr>\n",
              "      <th>1</th>\n",
              "      <td>valid</td>\n",
              "      <td>0.15</td>\n",
              "      <td>0.955314</td>\n",
              "      <td>0.777034</td>\n",
              "      <td>0.024286</td>\n",
              "      <td>0.950521</td>\n",
              "      <td>0.818081</td>\n",
              "      <td>0.908919</td>\n",
              "      <td>0.637236</td>\n",
              "      <td>0.864583</td>\n",
              "      <td>0.733702</td>\n",
              "      <td>0.916446</td>\n",
              "    </tr>\n",
              "    <tr>\n",
              "      <th>2</th>\n",
              "      <td>Test2</td>\n",
              "      <td>0.15</td>\n",
              "      <td>0.916667</td>\n",
              "      <td>0.729167</td>\n",
              "      <td>0.021363</td>\n",
              "      <td>1.000000</td>\n",
              "      <td>0.777778</td>\n",
              "      <td>0.863636</td>\n",
              "      <td>0.600000</td>\n",
              "      <td>0.750000</td>\n",
              "      <td>0.666667</td>\n",
              "      <td>0.888889</td>\n",
              "    </tr>\n",
              "  </tbody>\n",
              "</table>\n",
              "</div>"
            ],
            "text/plain": [
              "   Cohort  best_ths_given     AUROC  ...  sensitivity_recall  f1-score  specificity\n",
              "0  Test 1            0.15  0.952259  ...            0.840708  0.719278     0.919921\n",
              "1   valid            0.15  0.955314  ...            0.864583  0.733702     0.916446\n",
              "2   Test2            0.15  0.916667  ...            0.750000  0.666667     0.888889\n",
              "\n",
              "[3 rows x 12 columns]"
            ]
          },
          "metadata": {
            "tags": []
          },
          "execution_count": 52
        }
      ]
    },
    {
      "cell_type": "markdown",
      "metadata": {
        "id": "jsitljIQmcYx"
      },
      "source": [
        ""
      ]
    },
    {
      "cell_type": "code",
      "metadata": {
        "colab": {
          "base_uri": "https://localhost:8080/",
          "height": 297
        },
        "id": "mdUr0YIQjdFB",
        "outputId": "d799ce84-36ea-4665-84c5-cab18217d08b"
      },
      "source": [
        "ut.plot_roc_curve_combined_m(\"in-Hospital Mortality\",[('Test 1', np.array(RNN_f_label).squeeze() , np.array(RNN_f_score).squeeze())])"
      ],
      "execution_count": null,
      "outputs": [
        {
          "output_type": "display_data",
          "data": {
            "image/png": "[encoded data removed]",
            "text/plain": [
              "<Figure size 432x288 with 1 Axes>"
            ]
          },
          "metadata": {
            "tags": [],
            "needs_background": "light"
          }
        }
      ]
    },
    {
      "cell_type": "code",
      "metadata": {
        "colab": {
          "base_uri": "https://localhost:8080/",
          "height": 297
        },
        "id": "f32hWZn97SL3",
        "outputId": "513b1b36-ca01-4609-c642-929523c77d3b"
      },
      "source": [
        "ut.plot_roc_curve_combined_m(\"in-Hospital Mortality\",cohorts_preds)"
      ],
      "execution_count": null,
      "outputs": [
        {
          "output_type": "display_data",
          "data": {
            "image/png": "[encoded data removed]",
            "text/plain": [
              "<Figure size 432x288 with 1 Axes>"
            ]
          },
          "metadata": {
            "tags": [],
            "needs_background": "light"
          }
        }
      ]
    },
    {
      "cell_type": "code",
      "metadata": {
        "colab": {
          "base_uri": "https://localhost:8080/",
          "height": 475
        },
        "id": "vNlA8QyOvonV",
        "outputId": "520985b1-46b6-4034-9fb3-52bcad70a579"
      },
      "source": [
        "ut.plot_calibration_curve_m(\"in-Hospital Mortality\",1,[('Test', np.array(RNN_f_label).squeeze() , np.array(RNN_f_score).squeeze())],n_bins=10)"
      ],
      "execution_count": null,
      "outputs": [
        {
          "output_type": "display_data",
          "data": {
            "image/png": "[encoded data removed]",
            "text/plain": [
              "<Figure size 432x504 with 2 Axes>"
            ]
          },
          "metadata": {
            "tags": [],
            "needs_background": "light"
          }
        }
      ]
    },
    {
      "cell_type": "code",
      "metadata": {
        "colab": {
          "base_uri": "https://localhost:8080/",
          "height": 475
        },
        "id": "_D0kF96PoNUg",
        "outputId": "808b7f20-2dfa-471e-c1ac-7ee55084d689"
      },
      "source": [
        "ut.plot_calibration_curve_m(\"in-Hospital Mortality\",1,cohorts_preds,n_bins=20)"
      ],
      "execution_count": null,
      "outputs": [
        {
          "output_type": "display_data",
          "data": {
            "image/png": "[encoded data removed]",
            "text/plain": [
              "<Figure size 432x504 with 2 Axes>"
            ]
          },
          "metadata": {
            "tags": [],
            "needs_background": "light"
          }
        }
      ]
    },
    {
      "cell_type": "markdown",
      "metadata": {
        "id": "SSo9JaGPpWfN"
      },
      "source": [
        "### Survival Model\n"
      ]
    },
    {
      "cell_type": "code",
      "metadata": {
        "id": "wiPK2otKpU9o"
      },
      "source": [
        "### to load a trained model\n",
        "best_model_surv = torch.load(output_dir+'ACM_BCB_s1.pth')\n",
        "if use_cuda:best_model_surv.cuda()\n",
        "\n",
        "### to get the predictions\n",
        "t2_labels_s, t2_scores_s = ut.get_preds( test2_mbs , best_model_surv , surv=True )\n"
      ],
      "execution_count": null,
      "outputs": []
    },
    {
      "cell_type": "code",
      "metadata": {
        "colab": {
          "base_uri": "https://localhost:8080/"
        },
        "id": "cQXjU4ogHjY9",
        "outputId": "603eee14-fce8-4a18-da96-9a1195e376e2"
      },
      "source": [
        "reload(ut)\n",
        "df_ts2_pred=ut.convert_preds_df(t2_labels_s, t2_scores_s,surv=True)\n",
        "df_ts2_pred"
      ],
      "execution_count": null,
      "outputs": [
        {
          "output_type": "execute_result",
          "data": {
            "text/html": [
              "<div>\n",
              "<style scoped>\n",
              "    .dataframe tbody tr th:only-of-type {\n",
              "        vertical-align: middle;\n",
              "    }\n",
              "\n",
              "    .dataframe tbody tr th {\n",
              "        vertical-align: top;\n",
              "    }\n",
              "\n",
              "    .dataframe thead th {\n",
              "        text-align: right;\n",
              "    }\n",
              "</style>\n",
              "<table border=\"1\" class=\"dataframe\">\n",
              "  <thead>\n",
              "    <tr style=\"text-align: right;\">\n",
              "      <th></th>\n",
              "      <th>Label</th>\n",
              "      <th>TTE</th>\n",
              "      <th>pred_nloghHF</th>\n",
              "    </tr>\n",
              "  </thead>\n",
              "  <tbody>\n",
              "    <tr>\n",
              "      <th>0</th>\n",
              "      <td>0.0</td>\n",
              "      <td>11.0</td>\n",
              "      <td>1.821606</td>\n",
              "    </tr>\n",
              "    <tr>\n",
              "      <th>1</th>\n",
              "      <td>1.0</td>\n",
              "      <td>12.0</td>\n",
              "      <td>1.959840</td>\n",
              "    </tr>\n",
              "    <tr>\n",
              "      <th>2</th>\n",
              "      <td>0.0</td>\n",
              "      <td>7.0</td>\n",
              "      <td>0.139040</td>\n",
              "    </tr>\n",
              "    <tr>\n",
              "      <th>3</th>\n",
              "      <td>1.0</td>\n",
              "      <td>14.0</td>\n",
              "      <td>3.219073</td>\n",
              "    </tr>\n",
              "    <tr>\n",
              "      <th>4</th>\n",
              "      <td>0.0</td>\n",
              "      <td>19.0</td>\n",
              "      <td>-1.217319</td>\n",
              "    </tr>\n",
              "    <tr>\n",
              "      <th>5</th>\n",
              "      <td>1.0</td>\n",
              "      <td>0.0</td>\n",
              "      <td>3.422247</td>\n",
              "    </tr>\n",
              "    <tr>\n",
              "      <th>6</th>\n",
              "      <td>0.0</td>\n",
              "      <td>6.0</td>\n",
              "      <td>0.926608</td>\n",
              "    </tr>\n",
              "    <tr>\n",
              "      <th>7</th>\n",
              "      <td>0.0</td>\n",
              "      <td>5.0</td>\n",
              "      <td>-1.236388</td>\n",
              "    </tr>\n",
              "    <tr>\n",
              "      <th>8</th>\n",
              "      <td>0.0</td>\n",
              "      <td>5.0</td>\n",
              "      <td>-1.025039</td>\n",
              "    </tr>\n",
              "    <tr>\n",
              "      <th>9</th>\n",
              "      <td>0.0</td>\n",
              "      <td>3.0</td>\n",
              "      <td>4.107366</td>\n",
              "    </tr>\n",
              "    <tr>\n",
              "      <th>10</th>\n",
              "      <td>0.0</td>\n",
              "      <td>2.0</td>\n",
              "      <td>-0.549581</td>\n",
              "    </tr>\n",
              "    <tr>\n",
              "      <th>11</th>\n",
              "      <td>0.0</td>\n",
              "      <td>6.0</td>\n",
              "      <td>-1.394195</td>\n",
              "    </tr>\n",
              "    <tr>\n",
              "      <th>12</th>\n",
              "      <td>0.0</td>\n",
              "      <td>9.0</td>\n",
              "      <td>1.105898</td>\n",
              "    </tr>\n",
              "    <tr>\n",
              "      <th>13</th>\n",
              "      <td>0.0</td>\n",
              "      <td>4.0</td>\n",
              "      <td>-2.155304</td>\n",
              "    </tr>\n",
              "    <tr>\n",
              "      <th>14</th>\n",
              "      <td>0.0</td>\n",
              "      <td>3.0</td>\n",
              "      <td>-1.208833</td>\n",
              "    </tr>\n",
              "    <tr>\n",
              "      <th>15</th>\n",
              "      <td>0.0</td>\n",
              "      <td>10.0</td>\n",
              "      <td>1.741875</td>\n",
              "    </tr>\n",
              "    <tr>\n",
              "      <th>16</th>\n",
              "      <td>0.0</td>\n",
              "      <td>12.0</td>\n",
              "      <td>-1.867798</td>\n",
              "    </tr>\n",
              "    <tr>\n",
              "      <th>17</th>\n",
              "      <td>1.0</td>\n",
              "      <td>4.0</td>\n",
              "      <td>3.728341</td>\n",
              "    </tr>\n",
              "    <tr>\n",
              "      <th>18</th>\n",
              "      <td>0.0</td>\n",
              "      <td>14.0</td>\n",
              "      <td>2.070423</td>\n",
              "    </tr>\n",
              "    <tr>\n",
              "      <th>19</th>\n",
              "      <td>0.0</td>\n",
              "      <td>5.0</td>\n",
              "      <td>0.450465</td>\n",
              "    </tr>\n",
              "    <tr>\n",
              "      <th>20</th>\n",
              "      <td>0.0</td>\n",
              "      <td>5.0</td>\n",
              "      <td>-0.558699</td>\n",
              "    </tr>\n",
              "    <tr>\n",
              "      <th>21</th>\n",
              "      <td>0.0</td>\n",
              "      <td>12.0</td>\n",
              "      <td>-0.820326</td>\n",
              "    </tr>\n",
              "  </tbody>\n",
              "</table>\n",
              "</div>"
            ],
            "text/plain": [
              "    Label   TTE  pred_nloghHF\n",
              "0     0.0  11.0      1.821606\n",
              "1     1.0  12.0      1.959840\n",
              "2     0.0   7.0      0.139040\n",
              "3     1.0  14.0      3.219073\n",
              "4     0.0  19.0     -1.217319\n",
              "5     1.0   0.0      3.422247\n",
              "6     0.0   6.0      0.926608\n",
              "7     0.0   5.0     -1.236388\n",
              "8     0.0   5.0     -1.025039\n",
              "9     0.0   3.0      4.107366\n",
              "10    0.0   2.0     -0.549581\n",
              "11    0.0   6.0     -1.394195\n",
              "12    0.0   9.0      1.105898\n",
              "13    0.0   4.0     -2.155304\n",
              "14    0.0   3.0     -1.208833\n",
              "15    0.0  10.0      1.741875\n",
              "16    0.0  12.0     -1.867798\n",
              "17    1.0   4.0      3.728341\n",
              "18    0.0  14.0      2.070423\n",
              "19    0.0   5.0      0.450465\n",
              "20    0.0   5.0     -0.558699\n",
              "21    0.0  12.0     -0.820326"
            ]
          },
          "metadata": {
            "tags": []
          },
          "execution_count": 58
        }
      ]
    },
    {
      "cell_type": "code",
      "metadata": {
        "colab": {
          "base_uri": "https://localhost:8080/"
        },
        "id": "5f6JHikxYS4-",
        "outputId": "99e084b5-50f9-4698-a5fe-17a4121a76ea"
      },
      "source": [
        "vlabels_s, vscores_s = ut.get_preds( valid_mbs , best_model_surv , surv=True )\n",
        "valid_ref= ut.create_ref_percentile(vlabels_s, vscores_s )\n",
        "valid_ref"
      ],
      "execution_count": null,
      "outputs": [
        {
          "output_type": "execute_result",
          "data": {
            "text/html": [
              "<div>\n",
              "<style scoped>\n",
              "    .dataframe tbody tr th:only-of-type {\n",
              "        vertical-align: middle;\n",
              "    }\n",
              "\n",
              "    .dataframe tbody tr th {\n",
              "        vertical-align: top;\n",
              "    }\n",
              "\n",
              "    .dataframe thead th {\n",
              "        text-align: right;\n",
              "    }\n",
              "</style>\n",
              "<table border=\"1\" class=\"dataframe\">\n",
              "  <thead>\n",
              "    <tr style=\"text-align: right;\">\n",
              "      <th></th>\n",
              "      <th>percentile</th>\n",
              "      <th>pred_nloghHF</th>\n",
              "    </tr>\n",
              "  </thead>\n",
              "  <tbody>\n",
              "    <tr>\n",
              "      <th>0</th>\n",
              "      <td>0.00</td>\n",
              "      <td>-3.09</td>\n",
              "    </tr>\n",
              "    <tr>\n",
              "      <th>1</th>\n",
              "      <td>0.01</td>\n",
              "      <td>-2.88</td>\n",
              "    </tr>\n",
              "    <tr>\n",
              "      <th>2</th>\n",
              "      <td>0.02</td>\n",
              "      <td>-2.73</td>\n",
              "    </tr>\n",
              "    <tr>\n",
              "      <th>3</th>\n",
              "      <td>0.03</td>\n",
              "      <td>-2.64</td>\n",
              "    </tr>\n",
              "    <tr>\n",
              "      <th>4</th>\n",
              "      <td>0.04</td>\n",
              "      <td>-2.55</td>\n",
              "    </tr>\n",
              "    <tr>\n",
              "      <th>...</th>\n",
              "      <td>...</td>\n",
              "      <td>...</td>\n",
              "    </tr>\n",
              "    <tr>\n",
              "      <th>96</th>\n",
              "      <td>0.96</td>\n",
              "      <td>4.50</td>\n",
              "    </tr>\n",
              "    <tr>\n",
              "      <th>97</th>\n",
              "      <td>0.97</td>\n",
              "      <td>4.89</td>\n",
              "    </tr>\n",
              "    <tr>\n",
              "      <th>98</th>\n",
              "      <td>0.98</td>\n",
              "      <td>5.37</td>\n",
              "    </tr>\n",
              "    <tr>\n",
              "      <th>99</th>\n",
              "      <td>0.99</td>\n",
              "      <td>5.94</td>\n",
              "    </tr>\n",
              "    <tr>\n",
              "      <th>100</th>\n",
              "      <td>1.00</td>\n",
              "      <td>6.76</td>\n",
              "    </tr>\n",
              "  </tbody>\n",
              "</table>\n",
              "<p>101 rows × 2 columns</p>\n",
              "</div>"
            ],
            "text/plain": [
              "     percentile  pred_nloghHF\n",
              "0          0.00         -3.09\n",
              "1          0.01         -2.88\n",
              "2          0.02         -2.73\n",
              "3          0.03         -2.64\n",
              "4          0.04         -2.55\n",
              "..          ...           ...\n",
              "96         0.96          4.50\n",
              "97         0.97          4.89\n",
              "98         0.98          5.37\n",
              "99         0.99          5.94\n",
              "100        1.00          6.76\n",
              "\n",
              "[101 rows x 2 columns]"
            ]
          },
          "metadata": {
            "tags": []
          },
          "execution_count": 59
        }
      ]
    },
    {
      "cell_type": "code",
      "metadata": {
        "colab": {
          "base_uri": "https://localhost:8080/"
        },
        "id": "iodTTZcdZEOv",
        "outputId": "e3e1ba88-2ef5-458e-92b2-f6fc61d1eb3f"
      },
      "source": [
        "df_ts2_pred_perc=ut.assign_perc_based_on_reference(df_ts2_pred,valid_ref)\n",
        "df_ts2_pred_perc"
      ],
      "execution_count": null,
      "outputs": [
        {
          "output_type": "execute_result",
          "data": {
            "text/html": [
              "<div>\n",
              "<style scoped>\n",
              "    .dataframe tbody tr th:only-of-type {\n",
              "        vertical-align: middle;\n",
              "    }\n",
              "\n",
              "    .dataframe tbody tr th {\n",
              "        vertical-align: top;\n",
              "    }\n",
              "\n",
              "    .dataframe thead th {\n",
              "        text-align: right;\n",
              "    }\n",
              "</style>\n",
              "<table border=\"1\" class=\"dataframe\">\n",
              "  <thead>\n",
              "    <tr style=\"text-align: right;\">\n",
              "      <th></th>\n",
              "      <th>Label</th>\n",
              "      <th>TTE</th>\n",
              "      <th>pred_nloghHF</th>\n",
              "      <th>percentile_from_ref</th>\n",
              "      <th>pred_max</th>\n",
              "    </tr>\n",
              "  </thead>\n",
              "  <tbody>\n",
              "    <tr>\n",
              "      <th>0</th>\n",
              "      <td>0.0</td>\n",
              "      <td>11.0</td>\n",
              "      <td>1.821606</td>\n",
              "      <td>0.78</td>\n",
              "      <td>1.92</td>\n",
              "    </tr>\n",
              "    <tr>\n",
              "      <th>1</th>\n",
              "      <td>1.0</td>\n",
              "      <td>12.0</td>\n",
              "      <td>1.959840</td>\n",
              "      <td>0.79</td>\n",
              "      <td>2.02</td>\n",
              "    </tr>\n",
              "    <tr>\n",
              "      <th>2</th>\n",
              "      <td>0.0</td>\n",
              "      <td>7.0</td>\n",
              "      <td>0.139040</td>\n",
              "      <td>0.60</td>\n",
              "      <td>0.18</td>\n",
              "    </tr>\n",
              "    <tr>\n",
              "      <th>3</th>\n",
              "      <td>1.0</td>\n",
              "      <td>14.0</td>\n",
              "      <td>3.219073</td>\n",
              "      <td>0.90</td>\n",
              "      <td>3.34</td>\n",
              "    </tr>\n",
              "    <tr>\n",
              "      <th>4</th>\n",
              "      <td>0.0</td>\n",
              "      <td>19.0</td>\n",
              "      <td>-1.217319</td>\n",
              "      <td>0.36</td>\n",
              "      <td>-1.21</td>\n",
              "    </tr>\n",
              "    <tr>\n",
              "      <th>5</th>\n",
              "      <td>1.0</td>\n",
              "      <td>0.0</td>\n",
              "      <td>3.422247</td>\n",
              "      <td>0.91</td>\n",
              "      <td>3.51</td>\n",
              "    </tr>\n",
              "    <tr>\n",
              "      <th>6</th>\n",
              "      <td>0.0</td>\n",
              "      <td>6.0</td>\n",
              "      <td>0.926608</td>\n",
              "      <td>0.69</td>\n",
              "      <td>0.98</td>\n",
              "    </tr>\n",
              "    <tr>\n",
              "      <th>7</th>\n",
              "      <td>0.0</td>\n",
              "      <td>5.0</td>\n",
              "      <td>-1.236388</td>\n",
              "      <td>0.36</td>\n",
              "      <td>-1.21</td>\n",
              "    </tr>\n",
              "    <tr>\n",
              "      <th>8</th>\n",
              "      <td>0.0</td>\n",
              "      <td>5.0</td>\n",
              "      <td>-1.025039</td>\n",
              "      <td>0.41</td>\n",
              "      <td>-0.98</td>\n",
              "    </tr>\n",
              "    <tr>\n",
              "      <th>9</th>\n",
              "      <td>0.0</td>\n",
              "      <td>3.0</td>\n",
              "      <td>4.107366</td>\n",
              "      <td>0.95</td>\n",
              "      <td>4.21</td>\n",
              "    </tr>\n",
              "    <tr>\n",
              "      <th>10</th>\n",
              "      <td>0.0</td>\n",
              "      <td>2.0</td>\n",
              "      <td>-0.549581</td>\n",
              "      <td>0.50</td>\n",
              "      <td>-0.50</td>\n",
              "    </tr>\n",
              "    <tr>\n",
              "      <th>11</th>\n",
              "      <td>0.0</td>\n",
              "      <td>6.0</td>\n",
              "      <td>-1.394195</td>\n",
              "      <td>0.31</td>\n",
              "      <td>-1.39</td>\n",
              "    </tr>\n",
              "    <tr>\n",
              "      <th>12</th>\n",
              "      <td>0.0</td>\n",
              "      <td>9.0</td>\n",
              "      <td>1.105898</td>\n",
              "      <td>0.71</td>\n",
              "      <td>1.13</td>\n",
              "    </tr>\n",
              "    <tr>\n",
              "      <th>13</th>\n",
              "      <td>0.0</td>\n",
              "      <td>4.0</td>\n",
              "      <td>-2.155304</td>\n",
              "      <td>0.11</td>\n",
              "      <td>-2.14</td>\n",
              "    </tr>\n",
              "    <tr>\n",
              "      <th>14</th>\n",
              "      <td>0.0</td>\n",
              "      <td>3.0</td>\n",
              "      <td>-1.208833</td>\n",
              "      <td>0.37</td>\n",
              "      <td>-1.16</td>\n",
              "    </tr>\n",
              "    <tr>\n",
              "      <th>15</th>\n",
              "      <td>0.0</td>\n",
              "      <td>10.0</td>\n",
              "      <td>1.741875</td>\n",
              "      <td>0.77</td>\n",
              "      <td>1.80</td>\n",
              "    </tr>\n",
              "    <tr>\n",
              "      <th>16</th>\n",
              "      <td>0.0</td>\n",
              "      <td>12.0</td>\n",
              "      <td>-1.867798</td>\n",
              "      <td>0.19</td>\n",
              "      <td>-1.83</td>\n",
              "    </tr>\n",
              "    <tr>\n",
              "      <th>17</th>\n",
              "      <td>1.0</td>\n",
              "      <td>4.0</td>\n",
              "      <td>3.728341</td>\n",
              "      <td>0.93</td>\n",
              "      <td>3.81</td>\n",
              "    </tr>\n",
              "    <tr>\n",
              "      <th>18</th>\n",
              "      <td>0.0</td>\n",
              "      <td>14.0</td>\n",
              "      <td>2.070423</td>\n",
              "      <td>0.80</td>\n",
              "      <td>2.13</td>\n",
              "    </tr>\n",
              "    <tr>\n",
              "      <th>19</th>\n",
              "      <td>0.0</td>\n",
              "      <td>5.0</td>\n",
              "      <td>0.450465</td>\n",
              "      <td>0.64</td>\n",
              "      <td>0.51</td>\n",
              "    </tr>\n",
              "    <tr>\n",
              "      <th>20</th>\n",
              "      <td>0.0</td>\n",
              "      <td>5.0</td>\n",
              "      <td>-0.558699</td>\n",
              "      <td>0.49</td>\n",
              "      <td>-0.55</td>\n",
              "    </tr>\n",
              "    <tr>\n",
              "      <th>21</th>\n",
              "      <td>0.0</td>\n",
              "      <td>12.0</td>\n",
              "      <td>-0.820326</td>\n",
              "      <td>0.45</td>\n",
              "      <td>-0.76</td>\n",
              "    </tr>\n",
              "  </tbody>\n",
              "</table>\n",
              "</div>"
            ],
            "text/plain": [
              "    Label   TTE  pred_nloghHF  percentile_from_ref  pred_max\n",
              "0     0.0  11.0      1.821606                 0.78      1.92\n",
              "1     1.0  12.0      1.959840                 0.79      2.02\n",
              "2     0.0   7.0      0.139040                 0.60      0.18\n",
              "3     1.0  14.0      3.219073                 0.90      3.34\n",
              "4     0.0  19.0     -1.217319                 0.36     -1.21\n",
              "5     1.0   0.0      3.422247                 0.91      3.51\n",
              "6     0.0   6.0      0.926608                 0.69      0.98\n",
              "7     0.0   5.0     -1.236388                 0.36     -1.21\n",
              "8     0.0   5.0     -1.025039                 0.41     -0.98\n",
              "9     0.0   3.0      4.107366                 0.95      4.21\n",
              "10    0.0   2.0     -0.549581                 0.50     -0.50\n",
              "11    0.0   6.0     -1.394195                 0.31     -1.39\n",
              "12    0.0   9.0      1.105898                 0.71      1.13\n",
              "13    0.0   4.0     -2.155304                 0.11     -2.14\n",
              "14    0.0   3.0     -1.208833                 0.37     -1.16\n",
              "15    0.0  10.0      1.741875                 0.77      1.80\n",
              "16    0.0  12.0     -1.867798                 0.19     -1.83\n",
              "17    1.0   4.0      3.728341                 0.93      3.81\n",
              "18    0.0  14.0      2.070423                 0.80      2.13\n",
              "19    0.0   5.0      0.450465                 0.64      0.51\n",
              "20    0.0   5.0     -0.558699                 0.49     -0.55\n",
              "21    0.0  12.0     -0.820326                 0.45     -0.76"
            ]
          },
          "metadata": {
            "tags": []
          },
          "execution_count": 60
        }
      ]
    },
    {
      "cell_type": "code",
      "metadata": {
        "id": "hiZeW61XvzaO"
      },
      "source": [
        "### We can do the following:\n",
        "df_vs_pred = ut.get_preds_asdf( valid_mbs , best_model_surv , surv=True )\n",
        "df_vs_pred['cohort']='valid'\n",
        "df_ts_pred = ut.get_preds_asdf( test_mbs , best_model_surv , surv=True )\n",
        "df_ts_pred['cohort']='test'\n",
        "df_ts2_pred['cohort']='test2'\n",
        "df_s_pred= pd.concat([df_ts_pred,df_vs_pred,df_ts2_pred])\n",
        "df_s_pred_perc=ut.assign_perc_based_on_reference(df_s_pred,valid_ref)\n",
        "\n",
        "#### and plot curves as shown later"
      ],
      "execution_count": null,
      "outputs": []
    },
    {
      "cell_type": "code",
      "metadata": {
        "colab": {
          "base_uri": "https://localhost:8080/"
        },
        "id": "Rc2-WfWV6CM1",
        "outputId": "384bd412-40c8-49f6-a1ba-786b7bc143f1"
      },
      "source": [
        "## Model initiation\n",
        "from lifelines import KaplanMeierFitter\n",
        "import matplotlib.pyplot as plt\n",
        "\n",
        "kmf = KaplanMeierFitter()\n",
        "ax = plt.subplot(111)\n",
        "subcohort=df_s_pred_perc[df_s_pred_perc['cohort']=='test']\n",
        "for per_range in [['Low risk',0,0.3],['medium risk',0.3,0.7],['high risk',0.7,1]]:\n",
        "    [subset,from_p,to_p]=per_range\n",
        "    sub_per=subcohort[subcohort['percentile_from_ref'].between(from_p,to_p,inclusive='left')]\n",
        "    t = sub_per['TTE']\n",
        "    l = sub_per['Label']\n",
        "    kmf.fit(t,l, label=subset)\n",
        "    kmf.plot(title='Survival Analysis', ax=ax)#, at_risk_counts =True)\n",
        "    plt.ylabel('Survival')\n",
        "    plt.xlabel('Time in days')\n",
        "    plt.grid(True)\n",
        "plt.show()\n",
        "\n",
        "table = kmf.event_table\n",
        "table['survival prob'] = kmf.survival_function_\n",
        "print(table.sample(n=20).sort_values(by='event_at'))"
      ],
      "execution_count": null,
      "outputs": [
        {
          "output_type": "display_data",
          "data": {
            "image/png": "[encoded data removed]",
            "text/plain": [
              "<Figure size 432x288 with 1 Axes>"
            ]
          },
          "metadata": {
            "tags": [],
            "needs_background": "light"
          }
        },
        {
          "output_type": "stream",
          "text": [
            "          removed  observed  censored  entrance  at_risk  survival prob\n",
            "event_at                                                               \n",
            "1.0           300       191       109         0     2776       0.847449\n",
            "7.0           154        52       102         0     1110       0.615976\n",
            "15.0           49        25        24         0      343       0.426979\n",
            "17.0           25        10        15         0      258       0.393677\n",
            "18.0           32        11        21         0      233       0.375092\n",
            "19.0           26         9        17         0      201       0.358296\n",
            "20.0           19         6        13         0      175       0.346012\n",
            "22.0           11         4         7         0      135       0.324998\n",
            "26.0            8         6         2         0       88       0.269602\n",
            "28.0            4         1         3         0       70       0.255785\n",
            "29.0            8         4         4         0       66       0.240282\n",
            "30.0            2         1         1         0       58       0.236140\n",
            "32.0            6         2         4         0       51       0.214725\n",
            "33.0            4         2         2         0       45       0.205182\n",
            "39.0            1         1         0         0       32       0.187977\n",
            "50.0            1         1         0         0        8       0.082260\n",
            "51.0            1         0         1         0        7       0.082260\n",
            "69.0            1         0         1         0        5       0.082260\n",
            "87.0            1         0         1         0        2       0.061695\n",
            "92.0            1         1         0         0        1       0.000000\n"
          ],
          "name": "stdout"
        }
      ]
    },
    {
      "cell_type": "code",
      "metadata": {
        "colab": {
          "base_uri": "https://localhost:8080/"
        },
        "id": "J23_UEbmHWeB",
        "outputId": "f628ebf7-7934-486a-8a8a-53f74c25e9b8"
      },
      "source": [
        "#### calculate clinically relevant metrics\n",
        "cohorts_preds_surv=[]\n",
        "for cohort in df_s_pred_perc['cohort'].unique():\n",
        "    subset_surv_pred=df_s_pred_perc[df_s_pred_perc['cohort']== cohort]\n",
        "    for t in [1,2,3,5,7,14,21,30]:\n",
        "        true_label=((subset_surv_pred['Label']==1)&(subset_surv_pred['TTE']<=t)).astype(float)\n",
        "        cohorts_preds_surv.append([cohort+'_t'+str(t),true_label,subset_surv_pred['percentile_from_ref']])\n",
        "\n",
        "df_metrics_surv = ut.cl_metrics_m(cohorts_preds_surv,bth=0.15)\n",
        "df_metrics_surv[['dataset', 'day_window']]= df_metrics_surv['Cohort'].str.split('_t', expand=True)\n",
        "df_metrics_surv['day_window']=df_metrics_surv['day_window'].astype(int)\n",
        "df_metrics_surv"
      ],
      "execution_count": null,
      "outputs": [
        {
          "output_type": "execute_result",
          "data": {
            "text/html": [
              "<div>\n",
              "<style scoped>\n",
              "    .dataframe tbody tr th:only-of-type {\n",
              "        vertical-align: middle;\n",
              "    }\n",
              "\n",
              "    .dataframe tbody tr th {\n",
              "        vertical-align: top;\n",
              "    }\n",
              "\n",
              "    .dataframe thead th {\n",
              "        text-align: right;\n",
              "    }\n",
              "</style>\n",
              "<table border=\"1\" class=\"dataframe\">\n",
              "  <thead>\n",
              "    <tr style=\"text-align: right;\">\n",
              "      <th></th>\n",
              "      <th>Cohort</th>\n",
              "      <th>best_ths_given</th>\n",
              "      <th>AUROC</th>\n",
              "      <th>AUPRC</th>\n",
              "      <th>ths_95_sens</th>\n",
              "      <th>sens95</th>\n",
              "      <th>spec95</th>\n",
              "      <th>accuracy</th>\n",
              "      <th>precision</th>\n",
              "      <th>sensitivity_recall</th>\n",
              "      <th>f1-score</th>\n",
              "      <th>specificity</th>\n",
              "      <th>dataset</th>\n",
              "      <th>day_window</th>\n",
              "    </tr>\n",
              "  </thead>\n",
              "  <tbody>\n",
              "    <tr>\n",
              "      <th>0</th>\n",
              "      <td>test_t1</td>\n",
              "      <td>0.15</td>\n",
              "      <td>0.918683</td>\n",
              "      <td>0.397007</td>\n",
              "      <td>0.67</td>\n",
              "      <td>0.950593</td>\n",
              "      <td>0.704633</td>\n",
              "      <td>0.203401</td>\n",
              "      <td>0.056612</td>\n",
              "      <td>1.000000</td>\n",
              "      <td>0.107158</td>\n",
              "      <td>0.163409</td>\n",
              "      <td>test</td>\n",
              "      <td>1</td>\n",
              "    </tr>\n",
              "    <tr>\n",
              "      <th>1</th>\n",
              "      <td>test_t2</td>\n",
              "      <td>0.15</td>\n",
              "      <td>0.925855</td>\n",
              "      <td>0.484941</td>\n",
              "      <td>0.67</td>\n",
              "      <td>0.954545</td>\n",
              "      <td>0.715063</td>\n",
              "      <td>0.217950</td>\n",
              "      <td>0.073842</td>\n",
              "      <td>1.000000</td>\n",
              "      <td>0.137529</td>\n",
              "      <td>0.165945</td>\n",
              "      <td>test</td>\n",
              "      <td>2</td>\n",
              "    </tr>\n",
              "    <tr>\n",
              "      <th>2</th>\n",
              "      <td>test_t3</td>\n",
              "      <td>0.15</td>\n",
              "      <td>0.927307</td>\n",
              "      <td>0.527621</td>\n",
              "      <td>0.67</td>\n",
              "      <td>0.956688</td>\n",
              "      <td>0.723776</td>\n",
              "      <td>0.229759</td>\n",
              "      <td>0.087827</td>\n",
              "      <td>1.000000</td>\n",
              "      <td>0.161473</td>\n",
              "      <td>0.168061</td>\n",
              "      <td>test</td>\n",
              "      <td>3</td>\n",
              "    </tr>\n",
              "    <tr>\n",
              "      <th>3</th>\n",
              "      <td>test_t5</td>\n",
              "      <td>0.15</td>\n",
              "      <td>0.927982</td>\n",
              "      <td>0.583530</td>\n",
              "      <td>0.66</td>\n",
              "      <td>0.957011</td>\n",
              "      <td>0.724709</td>\n",
              "      <td>0.247898</td>\n",
              "      <td>0.109309</td>\n",
              "      <td>1.000000</td>\n",
              "      <td>0.197075</td>\n",
              "      <td>0.171420</td>\n",
              "      <td>test</td>\n",
              "      <td>5</td>\n",
              "    </tr>\n",
              "    <tr>\n",
              "      <th>4</th>\n",
              "      <td>test_t7</td>\n",
              "      <td>0.15</td>\n",
              "      <td>0.929788</td>\n",
              "      <td>0.615852</td>\n",
              "      <td>0.66</td>\n",
              "      <td>0.954833</td>\n",
              "      <td>0.733805</td>\n",
              "      <td>0.259802</td>\n",
              "      <td>0.123629</td>\n",
              "      <td>0.998193</td>\n",
              "      <td>0.220010</td>\n",
              "      <td>0.173560</td>\n",
              "      <td>test</td>\n",
              "      <td>7</td>\n",
              "    </tr>\n",
              "    <tr>\n",
              "      <th>5</th>\n",
              "      <td>test_t14</td>\n",
              "      <td>0.15</td>\n",
              "      <td>0.931278</td>\n",
              "      <td>0.659560</td>\n",
              "      <td>0.65</td>\n",
              "      <td>0.951368</td>\n",
              "      <td>0.736865</td>\n",
              "      <td>0.279547</td>\n",
              "      <td>0.147013</td>\n",
              "      <td>0.998480</td>\n",
              "      <td>0.256290</td>\n",
              "      <td>0.177473</td>\n",
              "      <td>test</td>\n",
              "      <td>14</td>\n",
              "    </tr>\n",
              "    <tr>\n",
              "      <th>6</th>\n",
              "      <td>test_t21</td>\n",
              "      <td>0.15</td>\n",
              "      <td>0.932842</td>\n",
              "      <td>0.673180</td>\n",
              "      <td>0.65</td>\n",
              "      <td>0.950714</td>\n",
              "      <td>0.743059</td>\n",
              "      <td>0.287482</td>\n",
              "      <td>0.156411</td>\n",
              "      <td>0.998571</td>\n",
              "      <td>0.270459</td>\n",
              "      <td>0.179096</td>\n",
              "      <td>test</td>\n",
              "      <td>21</td>\n",
              "    </tr>\n",
              "    <tr>\n",
              "      <th>7</th>\n",
              "      <td>test_t30</td>\n",
              "      <td>0.15</td>\n",
              "      <td>0.933045</td>\n",
              "      <td>0.677677</td>\n",
              "      <td>0.64</td>\n",
              "      <td>0.951950</td>\n",
              "      <td>0.733413</td>\n",
              "      <td>0.290883</td>\n",
              "      <td>0.160439</td>\n",
              "      <td>0.998607</td>\n",
              "      <td>0.276460</td>\n",
              "      <td>0.179801</td>\n",
              "      <td>test</td>\n",
              "      <td>30</td>\n",
              "    </tr>\n",
              "    <tr>\n",
              "      <th>8</th>\n",
              "      <td>valid_t1</td>\n",
              "      <td>0.15</td>\n",
              "      <td>0.913230</td>\n",
              "      <td>0.363378</td>\n",
              "      <td>0.64</td>\n",
              "      <td>0.957364</td>\n",
              "      <td>0.665872</td>\n",
              "      <td>0.193122</td>\n",
              "      <td>0.056979</td>\n",
              "      <td>1.000000</td>\n",
              "      <td>0.107814</td>\n",
              "      <td>0.151768</td>\n",
              "      <td>valid</td>\n",
              "      <td>1</td>\n",
              "    </tr>\n",
              "    <tr>\n",
              "      <th>9</th>\n",
              "      <td>valid_t2</td>\n",
              "      <td>0.15</td>\n",
              "      <td>0.927933</td>\n",
              "      <td>0.496003</td>\n",
              "      <td>0.68</td>\n",
              "      <td>0.952802</td>\n",
              "      <td>0.718554</td>\n",
              "      <td>0.208428</td>\n",
              "      <td>0.074867</td>\n",
              "      <td>1.000000</td>\n",
              "      <td>0.139306</td>\n",
              "      <td>0.154250</td>\n",
              "      <td>valid</td>\n",
              "      <td>2</td>\n",
              "    </tr>\n",
              "    <tr>\n",
              "      <th>10</th>\n",
              "      <td>valid_t3</td>\n",
              "      <td>0.15</td>\n",
              "      <td>0.930127</td>\n",
              "      <td>0.542643</td>\n",
              "      <td>0.68</td>\n",
              "      <td>0.952128</td>\n",
              "      <td>0.723556</td>\n",
              "      <td>0.215420</td>\n",
              "      <td>0.083039</td>\n",
              "      <td>1.000000</td>\n",
              "      <td>0.153344</td>\n",
              "      <td>0.155411</td>\n",
              "      <td>valid</td>\n",
              "      <td>3</td>\n",
              "    </tr>\n",
              "    <tr>\n",
              "      <th>11</th>\n",
              "      <td>valid_t5</td>\n",
              "      <td>0.15</td>\n",
              "      <td>0.930103</td>\n",
              "      <td>0.594546</td>\n",
              "      <td>0.67</td>\n",
              "      <td>0.953975</td>\n",
              "      <td>0.725800</td>\n",
              "      <td>0.234316</td>\n",
              "      <td>0.105345</td>\n",
              "      <td>0.997908</td>\n",
              "      <td>0.190571</td>\n",
              "      <td>0.158496</td>\n",
              "      <td>valid</td>\n",
              "      <td>5</td>\n",
              "    </tr>\n",
              "    <tr>\n",
              "      <th>12</th>\n",
              "      <td>valid_t7</td>\n",
              "      <td>0.15</td>\n",
              "      <td>0.931490</td>\n",
              "      <td>0.626603</td>\n",
              "      <td>0.65</td>\n",
              "      <td>0.954044</td>\n",
              "      <td>0.713774</td>\n",
              "      <td>0.246788</td>\n",
              "      <td>0.119920</td>\n",
              "      <td>0.998162</td>\n",
              "      <td>0.214117</td>\n",
              "      <td>0.160699</td>\n",
              "      <td>valid</td>\n",
              "      <td>7</td>\n",
              "    </tr>\n",
              "    <tr>\n",
              "      <th>13</th>\n",
              "      <td>valid_t14</td>\n",
              "      <td>0.15</td>\n",
              "      <td>0.935927</td>\n",
              "      <td>0.678429</td>\n",
              "      <td>0.65</td>\n",
              "      <td>0.954942</td>\n",
              "      <td>0.734796</td>\n",
              "      <td>0.273998</td>\n",
              "      <td>0.151723</td>\n",
              "      <td>0.998547</td>\n",
              "      <td>0.263420</td>\n",
              "      <td>0.165725</td>\n",
              "      <td>valid</td>\n",
              "      <td>14</td>\n",
              "    </tr>\n",
              "    <tr>\n",
              "      <th>14</th>\n",
              "      <td>valid_t21</td>\n",
              "      <td>0.15</td>\n",
              "      <td>0.933974</td>\n",
              "      <td>0.689876</td>\n",
              "      <td>0.65</td>\n",
              "      <td>0.950887</td>\n",
              "      <td>0.740952</td>\n",
              "      <td>0.282124</td>\n",
              "      <td>0.161440</td>\n",
              "      <td>0.997271</td>\n",
              "      <td>0.277894</td>\n",
              "      <td>0.167142</td>\n",
              "      <td>valid</td>\n",
              "      <td>21</td>\n",
              "    </tr>\n",
              "    <tr>\n",
              "      <th>15</th>\n",
              "      <td>valid_t30</td>\n",
              "      <td>0.15</td>\n",
              "      <td>0.932665</td>\n",
              "      <td>0.693017</td>\n",
              "      <td>0.64</td>\n",
              "      <td>0.950667</td>\n",
              "      <td>0.732277</td>\n",
              "      <td>0.285336</td>\n",
              "      <td>0.165194</td>\n",
              "      <td>0.997333</td>\n",
              "      <td>0.283441</td>\n",
              "      <td>0.167768</td>\n",
              "      <td>valid</td>\n",
              "      <td>30</td>\n",
              "    </tr>\n",
              "    <tr>\n",
              "      <th>16</th>\n",
              "      <td>test2_t1</td>\n",
              "      <td>0.15</td>\n",
              "      <td>0.904762</td>\n",
              "      <td>0.333333</td>\n",
              "      <td>0.91</td>\n",
              "      <td>1.000000</td>\n",
              "      <td>0.904762</td>\n",
              "      <td>0.090909</td>\n",
              "      <td>0.047619</td>\n",
              "      <td>1.000000</td>\n",
              "      <td>0.090909</td>\n",
              "      <td>0.047619</td>\n",
              "      <td>test2</td>\n",
              "      <td>1</td>\n",
              "    </tr>\n",
              "    <tr>\n",
              "      <th>17</th>\n",
              "      <td>test2_t2</td>\n",
              "      <td>0.15</td>\n",
              "      <td>0.904762</td>\n",
              "      <td>0.333333</td>\n",
              "      <td>0.91</td>\n",
              "      <td>1.000000</td>\n",
              "      <td>0.904762</td>\n",
              "      <td>0.090909</td>\n",
              "      <td>0.047619</td>\n",
              "      <td>1.000000</td>\n",
              "      <td>0.090909</td>\n",
              "      <td>0.047619</td>\n",
              "      <td>test2</td>\n",
              "      <td>2</td>\n",
              "    </tr>\n",
              "    <tr>\n",
              "      <th>18</th>\n",
              "      <td>test2_t3</td>\n",
              "      <td>0.15</td>\n",
              "      <td>0.904762</td>\n",
              "      <td>0.333333</td>\n",
              "      <td>0.91</td>\n",
              "      <td>1.000000</td>\n",
              "      <td>0.904762</td>\n",
              "      <td>0.090909</td>\n",
              "      <td>0.047619</td>\n",
              "      <td>1.000000</td>\n",
              "      <td>0.090909</td>\n",
              "      <td>0.047619</td>\n",
              "      <td>test2</td>\n",
              "      <td>3</td>\n",
              "    </tr>\n",
              "    <tr>\n",
              "      <th>19</th>\n",
              "      <td>test2_t5</td>\n",
              "      <td>0.15</td>\n",
              "      <td>0.950000</td>\n",
              "      <td>0.583333</td>\n",
              "      <td>0.91</td>\n",
              "      <td>1.000000</td>\n",
              "      <td>0.950000</td>\n",
              "      <td>0.136364</td>\n",
              "      <td>0.095238</td>\n",
              "      <td>1.000000</td>\n",
              "      <td>0.173913</td>\n",
              "      <td>0.050000</td>\n",
              "      <td>test2</td>\n",
              "      <td>5</td>\n",
              "    </tr>\n",
              "    <tr>\n",
              "      <th>20</th>\n",
              "      <td>test2_t7</td>\n",
              "      <td>0.15</td>\n",
              "      <td>0.950000</td>\n",
              "      <td>0.583333</td>\n",
              "      <td>0.91</td>\n",
              "      <td>1.000000</td>\n",
              "      <td>0.950000</td>\n",
              "      <td>0.136364</td>\n",
              "      <td>0.095238</td>\n",
              "      <td>1.000000</td>\n",
              "      <td>0.173913</td>\n",
              "      <td>0.050000</td>\n",
              "      <td>test2</td>\n",
              "      <td>7</td>\n",
              "    </tr>\n",
              "    <tr>\n",
              "      <th>21</th>\n",
              "      <td>test2_t14</td>\n",
              "      <td>0.15</td>\n",
              "      <td>0.930556</td>\n",
              "      <td>0.645833</td>\n",
              "      <td>0.79</td>\n",
              "      <td>1.000000</td>\n",
              "      <td>0.888889</td>\n",
              "      <td>0.227273</td>\n",
              "      <td>0.190476</td>\n",
              "      <td>1.000000</td>\n",
              "      <td>0.320000</td>\n",
              "      <td>0.055556</td>\n",
              "      <td>test2</td>\n",
              "      <td>14</td>\n",
              "    </tr>\n",
              "    <tr>\n",
              "      <th>22</th>\n",
              "      <td>test2_t21</td>\n",
              "      <td>0.15</td>\n",
              "      <td>0.930556</td>\n",
              "      <td>0.645833</td>\n",
              "      <td>0.79</td>\n",
              "      <td>1.000000</td>\n",
              "      <td>0.888889</td>\n",
              "      <td>0.227273</td>\n",
              "      <td>0.190476</td>\n",
              "      <td>1.000000</td>\n",
              "      <td>0.320000</td>\n",
              "      <td>0.055556</td>\n",
              "      <td>test2</td>\n",
              "      <td>21</td>\n",
              "    </tr>\n",
              "    <tr>\n",
              "      <th>23</th>\n",
              "      <td>test2_t30</td>\n",
              "      <td>0.15</td>\n",
              "      <td>0.930556</td>\n",
              "      <td>0.645833</td>\n",
              "      <td>0.79</td>\n",
              "      <td>1.000000</td>\n",
              "      <td>0.888889</td>\n",
              "      <td>0.227273</td>\n",
              "      <td>0.190476</td>\n",
              "      <td>1.000000</td>\n",
              "      <td>0.320000</td>\n",
              "      <td>0.055556</td>\n",
              "      <td>test2</td>\n",
              "      <td>30</td>\n",
              "    </tr>\n",
              "  </tbody>\n",
              "</table>\n",
              "</div>"
            ],
            "text/plain": [
              "       Cohort  best_ths_given     AUROC  ...  specificity  dataset  day_window\n",
              "0     test_t1            0.15  0.918683  ...     0.163409     test           1\n",
              "1     test_t2            0.15  0.925855  ...     0.165945     test           2\n",
              "2     test_t3            0.15  0.927307  ...     0.168061     test           3\n",
              "3     test_t5            0.15  0.927982  ...     0.171420     test           5\n",
              "4     test_t7            0.15  0.929788  ...     0.173560     test           7\n",
              "5    test_t14            0.15  0.931278  ...     0.177473     test          14\n",
              "6    test_t21            0.15  0.932842  ...     0.179096     test          21\n",
              "7    test_t30            0.15  0.933045  ...     0.179801     test          30\n",
              "8    valid_t1            0.15  0.913230  ...     0.151768    valid           1\n",
              "9    valid_t2            0.15  0.927933  ...     0.154250    valid           2\n",
              "10   valid_t3            0.15  0.930127  ...     0.155411    valid           3\n",
              "11   valid_t5            0.15  0.930103  ...     0.158496    valid           5\n",
              "12   valid_t7            0.15  0.931490  ...     0.160699    valid           7\n",
              "13  valid_t14            0.15  0.935927  ...     0.165725    valid          14\n",
              "14  valid_t21            0.15  0.933974  ...     0.167142    valid          21\n",
              "15  valid_t30            0.15  0.932665  ...     0.167768    valid          30\n",
              "16   test2_t1            0.15  0.904762  ...     0.047619    test2           1\n",
              "17   test2_t2            0.15  0.904762  ...     0.047619    test2           2\n",
              "18   test2_t3            0.15  0.904762  ...     0.047619    test2           3\n",
              "19   test2_t5            0.15  0.950000  ...     0.050000    test2           5\n",
              "20   test2_t7            0.15  0.950000  ...     0.050000    test2           7\n",
              "21  test2_t14            0.15  0.930556  ...     0.055556    test2          14\n",
              "22  test2_t21            0.15  0.930556  ...     0.055556    test2          21\n",
              "23  test2_t30            0.15  0.930556  ...     0.055556    test2          30\n",
              "\n",
              "[24 rows x 14 columns]"
            ]
          },
          "metadata": {
            "tags": []
          },
          "execution_count": 63
        }
      ]
    },
    {
      "cell_type": "code",
      "metadata": {
        "colab": {
          "base_uri": "https://localhost:8080/"
        },
        "id": "_00V91vavMkW",
        "outputId": "030a75d0-5910-412c-8ad1-d2048f1206d4"
      },
      "source": [
        "df_metrics_surv.groupby('dataset')[['day_window','AUROC']].plot(x='day_window')"
      ],
      "execution_count": null,
      "outputs": [
        {
          "output_type": "execute_result",
          "data": {
            "text/plain": [
              "dataset\n",
              "test     AxesSubplot(0.125,0.125;0.775x0.755)\n",
              "test2    AxesSubplot(0.125,0.125;0.775x0.755)\n",
              "valid    AxesSubplot(0.125,0.125;0.775x0.755)\n",
              "dtype: object"
            ]
          },
          "metadata": {
            "tags": []
          },
          "execution_count": 64
        },
        {
          "output_type": "display_data",
          "data": {
            "image/png": "[encoded data removed]",
            "text/plain": [
              "<Figure size 432x288 with 1 Axes>"
            ]
          },
          "metadata": {
            "tags": [],
            "needs_background": "light"
          }
        },
        {
          "output_type": "display_data",
          "data": {
            "image/png": "[encoded data removed]",
            "text/plain": [
              "<Figure size 432x288 with 1 Axes>"
            ]
          },
          "metadata": {
            "tags": [],
            "needs_background": "light"
          }
        },
        {
          "output_type": "display_data",
          "data": {
            "image/png": "[encoded data removed]",
            "text/plain": [
              "<Figure size 432x288 with 1 Axes>"
            ]
          },
          "metadata": {
            "tags": [],
            "needs_background": "light"
          }
        }
      ]
    }
  ]
}